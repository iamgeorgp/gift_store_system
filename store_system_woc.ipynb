{
 "cells": [
  {
   "cell_type": "markdown",
   "id": "ea5ea89d",
   "metadata": {},
   "source": [
    "## ONLINE STORE SEGMENTATION"
   ]
  },
  {
   "cell_type": "markdown",
   "id": "d30ceb29",
   "metadata": {},
   "source": [
    "<div style=\"border-bottom: 15px dashed darkorange; width: 100%;\"></div>  "
   ]
  },
  {
   "cell_type": "markdown",
   "id": "322e2efd",
   "metadata": {},
   "source": [
    "Attribute Information:\n",
    "\n",
    "    InvoiceNo: A unique 6-digit integral number assigned to each transaction. If the code starts with the letter 'c', it indicates a cancellation.\n",
    "    StockCode: A 5-digit integral number uniquely identifying each distinct product.\n",
    "    Description: The name of the product (item).\n",
    "    Quantity: The quantity of each product (item) per transaction.\n",
    "    InvoiceDate: The date and time when the transaction was generated.\n",
    "    UnitPrice: The unit price of the product in sterling (£).\n",
    "    CustomerID: A unique 5-digit integral number assigned to each customer.\n",
    "    Country: The name of the country where the customer resides."
   ]
  },
  {
   "cell_type": "markdown",
   "id": "b5c38e90",
   "metadata": {},
   "source": [
    "<div style=\"border-bottom: 15px dashed darkorange; width: 100%;\"></div>  "
   ]
  },
  {
   "cell_type": "markdown",
   "id": "241a4197",
   "metadata": {},
   "source": [
    "* [Importing The Libraries.](#Importing-libraries)\n",
    "* [Loading and Reading Dataset from the Archives](#Loading-and-Reading-Datasets)\n",
    "* [Investigating the Dataset Information](#Investigating-the-Dataset-Information)\n",
    "* [Data Transformation](#Data-Transformation)\n",
    "* [Refined Data Representation and Feature Enhancement](#Refined-Data-Representation-and-Feature-Enhancement)"
   ]
  },
  {
   "cell_type": "markdown",
   "id": "62e2acc8",
   "metadata": {},
   "source": [
    "<div style=\"border-bottom: 15px dashed darkorange; width: 100%;\"></div>  "
   ]
  },
  {
   "cell_type": "markdown",
   "id": "4be7732b",
   "metadata": {},
   "source": [
    "<h2 id=\"Importing-libraries\" style=\"text-align: center;\">Importing libraries</h2>"
   ]
  },
  {
   "cell_type": "code",
   "execution_count": 9,
   "id": "9c8468fd",
   "metadata": {},
   "outputs": [],
   "source": [
    "import pandas as pd\n",
    "\n",
    "import numpy as np\n",
    "\n",
    "# import zipfile\n",
    "\n",
    "import matplotlib.pyplot as plt\n",
    "%matplotlib inline\n",
    "\n",
    "import plotly.express as px\n",
    "\n",
    "import seaborn as sns\n",
    "\n",
    "import my_func"
   ]
  },
  {
   "cell_type": "markdown",
   "id": "98707631",
   "metadata": {},
   "source": [
    "<div style=\"border-bottom: 15px dashed darkorange; width: 100%;\"></div>  "
   ]
  },
  {
   "cell_type": "markdown",
   "id": "cd6731a3",
   "metadata": {},
   "source": [
    "<h2 id=\"Loading-and-Reading-Datasets\" style=\"text-align: center;\">Loading and Reading Dataset from the Archives</h2>"
   ]
  },
  {
   "cell_type": "code",
   "execution_count": 10,
   "id": "fc6d0ded",
   "metadata": {},
   "outputs": [
    {
     "name": "stdout",
     "output_type": "stream",
     "text": [
      "Amount of datasets: 1\n",
      "Files in zip: ['online_retail.csv']\n"
     ]
    }
   ],
   "source": [
    "archive_path = 'archive.zip'\n",
    "dataframes_in_zip = my_func.read_csv_files_from_zip(archive_path)\n",
    "print(f'Amount of datasets: {len(dataframes_in_zip)}')\n",
    "print(f'Files in zip: {list(dataframes_in_zip.keys())}')"
   ]
  },
  {
   "cell_type": "markdown",
   "id": "4c3046d9",
   "metadata": {},
   "source": [
    "**Ther is only one file *online_retail.csv***"
   ]
  },
  {
   "cell_type": "code",
   "execution_count": 11,
   "id": "c7e9eef1",
   "metadata": {
    "scrolled": true
   },
   "outputs": [
    {
     "data": {
      "text/html": [
       "<div>\n",
       "<style scoped>\n",
       "    .dataframe tbody tr th:only-of-type {\n",
       "        vertical-align: middle;\n",
       "    }\n",
       "\n",
       "    .dataframe tbody tr th {\n",
       "        vertical-align: top;\n",
       "    }\n",
       "\n",
       "    .dataframe thead th {\n",
       "        text-align: right;\n",
       "    }\n",
       "</style>\n",
       "<table border=\"1\" class=\"dataframe\">\n",
       "  <thead>\n",
       "    <tr style=\"text-align: right;\">\n",
       "      <th></th>\n",
       "      <th>InvoiceNo</th>\n",
       "      <th>StockCode</th>\n",
       "      <th>Description</th>\n",
       "      <th>Quantity</th>\n",
       "      <th>InvoiceDate</th>\n",
       "      <th>UnitPrice</th>\n",
       "      <th>CustomerID</th>\n",
       "      <th>Country</th>\n",
       "    </tr>\n",
       "  </thead>\n",
       "  <tbody>\n",
       "    <tr>\n",
       "      <th>0</th>\n",
       "      <td>536365</td>\n",
       "      <td>85123A</td>\n",
       "      <td>WHITE HANGING HEART T-LIGHT HOLDER</td>\n",
       "      <td>6</td>\n",
       "      <td>2010-12-01 08:26:00</td>\n",
       "      <td>2.55</td>\n",
       "      <td>17850.0</td>\n",
       "      <td>United Kingdom</td>\n",
       "    </tr>\n",
       "    <tr>\n",
       "      <th>1</th>\n",
       "      <td>536365</td>\n",
       "      <td>71053</td>\n",
       "      <td>WHITE METAL LANTERN</td>\n",
       "      <td>6</td>\n",
       "      <td>2010-12-01 08:26:00</td>\n",
       "      <td>3.39</td>\n",
       "      <td>17850.0</td>\n",
       "      <td>United Kingdom</td>\n",
       "    </tr>\n",
       "    <tr>\n",
       "      <th>2</th>\n",
       "      <td>536365</td>\n",
       "      <td>84406B</td>\n",
       "      <td>CREAM CUPID HEARTS COAT HANGER</td>\n",
       "      <td>8</td>\n",
       "      <td>2010-12-01 08:26:00</td>\n",
       "      <td>2.75</td>\n",
       "      <td>17850.0</td>\n",
       "      <td>United Kingdom</td>\n",
       "    </tr>\n",
       "    <tr>\n",
       "      <th>3</th>\n",
       "      <td>536365</td>\n",
       "      <td>84029G</td>\n",
       "      <td>KNITTED UNION FLAG HOT WATER BOTTLE</td>\n",
       "      <td>6</td>\n",
       "      <td>2010-12-01 08:26:00</td>\n",
       "      <td>3.39</td>\n",
       "      <td>17850.0</td>\n",
       "      <td>United Kingdom</td>\n",
       "    </tr>\n",
       "    <tr>\n",
       "      <th>4</th>\n",
       "      <td>536365</td>\n",
       "      <td>84029E</td>\n",
       "      <td>RED WOOLLY HOTTIE WHITE HEART.</td>\n",
       "      <td>6</td>\n",
       "      <td>2010-12-01 08:26:00</td>\n",
       "      <td>3.39</td>\n",
       "      <td>17850.0</td>\n",
       "      <td>United Kingdom</td>\n",
       "    </tr>\n",
       "  </tbody>\n",
       "</table>\n",
       "</div>"
      ],
      "text/plain": [
       "  InvoiceNo StockCode                          Description  Quantity  \\\n",
       "0    536365    85123A   WHITE HANGING HEART T-LIGHT HOLDER         6   \n",
       "1    536365     71053                  WHITE METAL LANTERN         6   \n",
       "2    536365    84406B       CREAM CUPID HEARTS COAT HANGER         8   \n",
       "3    536365    84029G  KNITTED UNION FLAG HOT WATER BOTTLE         6   \n",
       "4    536365    84029E       RED WOOLLY HOTTIE WHITE HEART.         6   \n",
       "\n",
       "           InvoiceDate  UnitPrice  CustomerID         Country  \n",
       "0  2010-12-01 08:26:00       2.55     17850.0  United Kingdom  \n",
       "1  2010-12-01 08:26:00       3.39     17850.0  United Kingdom  \n",
       "2  2010-12-01 08:26:00       2.75     17850.0  United Kingdom  \n",
       "3  2010-12-01 08:26:00       3.39     17850.0  United Kingdom  \n",
       "4  2010-12-01 08:26:00       3.39     17850.0  United Kingdom  "
      ]
     },
     "execution_count": 11,
     "metadata": {},
     "output_type": "execute_result"
    }
   ],
   "source": [
    "df_online_retail = dataframes_in_zip['online_retail.csv']\n",
    "origin_df = df_online_retail.copy()\n",
    "df_online_retail.head()"
   ]
  },
  {
   "cell_type": "markdown",
   "id": "6ae5262f",
   "metadata": {},
   "source": [
    "<div style=\"border-bottom: 15px dashed darkorange; width: 100%;\"></div>  "
   ]
  },
  {
   "cell_type": "markdown",
   "id": "3dca5c0b",
   "metadata": {},
   "source": [
    "\n",
    "<h2 id=\"Investigating-the-Dataset-Information\" style=\"text-align: center;\">Investigating the Dataset Information</h2>"
   ]
  },
  {
   "cell_type": "code",
   "execution_count": 12,
   "id": "13f34e34",
   "metadata": {},
   "outputs": [
    {
     "name": "stdout",
     "output_type": "stream",
     "text": [
      "--------------------------------------------------------- DATA INFO ---------------------------------------------------------\n",
      "<class 'pandas.core.frame.DataFrame'>\n",
      "RangeIndex: 541909 entries, 0 to 541908\n",
      "Data columns (total 8 columns):\n",
      " #   Column       Non-Null Count   Dtype  \n",
      "---  ------       --------------   -----  \n",
      " 0   InvoiceNo    541909 non-null  object \n",
      " 1   StockCode    541909 non-null  object \n",
      " 2   Description  540455 non-null  object \n",
      " 3   Quantity     541909 non-null  int64  \n",
      " 4   InvoiceDate  541909 non-null  object \n",
      " 5   UnitPrice    541909 non-null  float64\n",
      " 6   CustomerID   406829 non-null  float64\n",
      " 7   Country      541909 non-null  object \n",
      "dtypes: float64(2), int64(1), object(5)\n",
      "memory usage: 33.1+ MB\n",
      "None\n",
      "------------------------------------------------------ SHAPE OF DATASET -----------------------------------------------------\n",
      "Rows:541909\n",
      "Columns:8\n",
      "--------------------------------------------------------- DATA TYPES --------------------------------------------------------\n",
      "InvoiceNo       object\n",
      "StockCode       object\n",
      "Description     object\n",
      "Quantity         int64\n",
      "InvoiceDate     object\n",
      "UnitPrice      float64\n",
      "CustomerID     float64\n",
      "Country         object\n",
      "dtype: object\n",
      "----------------------------------------------------- STATISTICS OF DATA ----------------------------------------------------\n",
      "       InvoiceNo StockCode                         Description       Quantity  \\\n",
      "count     541909    541909                              540455  541909.000000   \n",
      "unique     25900      4070                                4223            NaN   \n",
      "top       573585    85123A  WHITE HANGING HEART T-LIGHT HOLDER            NaN   \n",
      "freq        1114      2313                                2369            NaN   \n",
      "mean         NaN       NaN                                 NaN       9.552250   \n",
      "std          NaN       NaN                                 NaN     218.081158   \n",
      "min          NaN       NaN                                 NaN  -80995.000000   \n",
      "25%          NaN       NaN                                 NaN       1.000000   \n",
      "50%          NaN       NaN                                 NaN       3.000000   \n",
      "75%          NaN       NaN                                 NaN      10.000000   \n",
      "max          NaN       NaN                                 NaN   80995.000000   \n",
      "\n",
      "                InvoiceDate      UnitPrice     CustomerID         Country  \n",
      "count                541909  541909.000000  406829.000000          541909  \n",
      "unique                23260            NaN            NaN              38  \n",
      "top     2011-10-31 14:41:00            NaN            NaN  United Kingdom  \n",
      "freq                   1114            NaN            NaN          495478  \n",
      "mean                    NaN       4.611114   15287.690570             NaN  \n",
      "std                     NaN      96.759853    1713.600303             NaN  \n",
      "min                     NaN  -11062.060000   12346.000000             NaN  \n",
      "25%                     NaN       1.250000   13953.000000             NaN  \n",
      "50%                     NaN       2.080000   15152.000000             NaN  \n",
      "75%                     NaN       4.130000   16791.000000             NaN  \n",
      "max                     NaN   38970.000000   18287.000000             NaN  \n",
      "------------------------------------------------------- MISSING VALUES ------------------------------------------------------\n",
      "CustomerID     135080\n",
      "Description      1454\n",
      "dtype: int64\n",
      "----------------------------------------------------- DUPLICATED VALUES -----------------------------------------------------\n",
      "5268\n"
     ]
    }
   ],
   "source": [
    "my_func.review_dataframe(df_online_retail)"
   ]
  },
  {
   "cell_type": "markdown",
   "id": "d2966390",
   "metadata": {},
   "source": [
    "<div style=\"border-bottom: 15px dashed darkorange; width: 100%;\"></div>  "
   ]
  },
  {
   "cell_type": "markdown",
   "id": "510e197b",
   "metadata": {},
   "source": [
    "<h2 id=\"Data-Transformation\" style=\"text-align: center;\">Data Transformation</h2>"
   ]
  },
  {
   "cell_type": "code",
   "execution_count": 13,
   "id": "a661fa0d",
   "metadata": {
    "scrolled": false
   },
   "outputs": [
    {
     "data": {
      "text/html": [
       "<div>\n",
       "<style scoped>\n",
       "    .dataframe tbody tr th:only-of-type {\n",
       "        vertical-align: middle;\n",
       "    }\n",
       "\n",
       "    .dataframe tbody tr th {\n",
       "        vertical-align: top;\n",
       "    }\n",
       "\n",
       "    .dataframe thead th {\n",
       "        text-align: right;\n",
       "    }\n",
       "</style>\n",
       "<table border=\"1\" class=\"dataframe\">\n",
       "  <thead>\n",
       "    <tr style=\"text-align: right;\">\n",
       "      <th></th>\n",
       "      <th>InvoiceNo</th>\n",
       "      <th>StockCode</th>\n",
       "      <th>Description</th>\n",
       "      <th>Quantity</th>\n",
       "      <th>InvoiceDate</th>\n",
       "      <th>UnitPrice</th>\n",
       "      <th>CustomerID</th>\n",
       "      <th>Country</th>\n",
       "    </tr>\n",
       "  </thead>\n",
       "  <tbody>\n",
       "    <tr>\n",
       "      <th>0</th>\n",
       "      <td>536365</td>\n",
       "      <td>85123A</td>\n",
       "      <td>WHITE HANGING HEART T-LIGHT HOLDER</td>\n",
       "      <td>6</td>\n",
       "      <td>2010-12-01 08:26:00</td>\n",
       "      <td>2.55</td>\n",
       "      <td>17850.0</td>\n",
       "      <td>United Kingdom</td>\n",
       "    </tr>\n",
       "    <tr>\n",
       "      <th>1</th>\n",
       "      <td>536365</td>\n",
       "      <td>71053</td>\n",
       "      <td>WHITE METAL LANTERN</td>\n",
       "      <td>6</td>\n",
       "      <td>2010-12-01 08:26:00</td>\n",
       "      <td>3.39</td>\n",
       "      <td>17850.0</td>\n",
       "      <td>United Kingdom</td>\n",
       "    </tr>\n",
       "    <tr>\n",
       "      <th>2</th>\n",
       "      <td>536365</td>\n",
       "      <td>84406B</td>\n",
       "      <td>CREAM CUPID HEARTS COAT HANGER</td>\n",
       "      <td>8</td>\n",
       "      <td>2010-12-01 08:26:00</td>\n",
       "      <td>2.75</td>\n",
       "      <td>17850.0</td>\n",
       "      <td>United Kingdom</td>\n",
       "    </tr>\n",
       "    <tr>\n",
       "      <th>3</th>\n",
       "      <td>536365</td>\n",
       "      <td>84029G</td>\n",
       "      <td>KNITTED UNION FLAG HOT WATER BOTTLE</td>\n",
       "      <td>6</td>\n",
       "      <td>2010-12-01 08:26:00</td>\n",
       "      <td>3.39</td>\n",
       "      <td>17850.0</td>\n",
       "      <td>United Kingdom</td>\n",
       "    </tr>\n",
       "    <tr>\n",
       "      <th>4</th>\n",
       "      <td>536365</td>\n",
       "      <td>84029E</td>\n",
       "      <td>RED WOOLLY HOTTIE WHITE HEART.</td>\n",
       "      <td>6</td>\n",
       "      <td>2010-12-01 08:26:00</td>\n",
       "      <td>3.39</td>\n",
       "      <td>17850.0</td>\n",
       "      <td>United Kingdom</td>\n",
       "    </tr>\n",
       "  </tbody>\n",
       "</table>\n",
       "</div>"
      ],
      "text/plain": [
       "  InvoiceNo StockCode                          Description  Quantity  \\\n",
       "0    536365    85123A   WHITE HANGING HEART T-LIGHT HOLDER         6   \n",
       "1    536365     71053                  WHITE METAL LANTERN         6   \n",
       "2    536365    84406B       CREAM CUPID HEARTS COAT HANGER         8   \n",
       "3    536365    84029G  KNITTED UNION FLAG HOT WATER BOTTLE         6   \n",
       "4    536365    84029E       RED WOOLLY HOTTIE WHITE HEART.         6   \n",
       "\n",
       "           InvoiceDate  UnitPrice  CustomerID         Country  \n",
       "0  2010-12-01 08:26:00       2.55     17850.0  United Kingdom  \n",
       "1  2010-12-01 08:26:00       3.39     17850.0  United Kingdom  \n",
       "2  2010-12-01 08:26:00       2.75     17850.0  United Kingdom  \n",
       "3  2010-12-01 08:26:00       3.39     17850.0  United Kingdom  \n",
       "4  2010-12-01 08:26:00       3.39     17850.0  United Kingdom  "
      ]
     },
     "execution_count": 13,
     "metadata": {},
     "output_type": "execute_result"
    }
   ],
   "source": [
    "df_online_retail.head()"
   ]
  },
  {
   "cell_type": "code",
   "execution_count": 14,
   "id": "43c8e6d2",
   "metadata": {},
   "outputs": [],
   "source": [
    "#  Removing cacellation\n",
    "df_online_retail = df_online_retail[~df_online_retail.InvoiceNo.str.contains('C', na=False)]"
   ]
  },
  {
   "cell_type": "code",
   "execution_count": 15,
   "id": "0c1f3fc7",
   "metadata": {},
   "outputs": [
    {
     "name": "stdout",
     "output_type": "stream",
     "text": [
      "Shape of data before removing NaN's CustomerID (532621, 8)\n",
      "Shape of data after removing NaN's CustomerID (397924, 8)\n"
     ]
    },
    {
     "name": "stderr",
     "output_type": "stream",
     "text": [
      "C:\\Users\\gpapu\\AppData\\Local\\Temp\\ipykernel_12640\\2798346395.py:3: SettingWithCopyWarning: \n",
      "A value is trying to be set on a copy of a slice from a DataFrame\n",
      "\n",
      "See the caveats in the documentation: https://pandas.pydata.org/pandas-docs/stable/user_guide/indexing.html#returning-a-view-versus-a-copy\n",
      "  df_online_retail.dropna(subset=\"CustomerID\",axis=0,inplace=True)\n"
     ]
    }
   ],
   "source": [
    "#  Removing NaN's in Customer ID\n",
    "print(\"Shape of data before removing NaN's CustomerID\",df_online_retail.shape)\n",
    "df_online_retail.dropna(subset=\"CustomerID\",axis=0,inplace=True)\n",
    "print(\"Shape of data after removing NaN's CustomerID\",df_online_retail.shape)"
   ]
  },
  {
   "cell_type": "code",
   "execution_count": 16,
   "id": "ef603b74",
   "metadata": {
    "scrolled": true
   },
   "outputs": [
    {
     "name": "stdout",
     "output_type": "stream",
     "text": [
      "Missing values in each column after cleaning customerID :\n",
      " InvoiceNo      0\n",
      "StockCode      0\n",
      "Description    0\n",
      "Quantity       0\n",
      "InvoiceDate    0\n",
      "UnitPrice      0\n",
      "CustomerID     0\n",
      "Country        0\n",
      "dtype: int64\n"
     ]
    }
   ],
   "source": [
    "print(\"Missing values in each column after cleaning customerID :\\n\",df_online_retail.isnull().sum())"
   ]
  },
  {
   "cell_type": "code",
   "execution_count": 17,
   "id": "09ad5040",
   "metadata": {},
   "outputs": [
    {
     "name": "stdout",
     "output_type": "stream",
     "text": [
      "Number of duplicates before cleaning: 5192\n",
      "Number of duplicates after cleaning: 0\n"
     ]
    }
   ],
   "source": [
    "# Removing duplicates (Values in all columns are identical)\n",
    "print(\"Number of duplicates before cleaning:\",df_online_retail.duplicated().sum())\n",
    "df_online_retail = df_online_retail.drop_duplicates(keep=\"first\")\n",
    "print(\"Number of duplicates after cleaning:\",df_online_retail.duplicated().sum())"
   ]
  },
  {
   "cell_type": "code",
   "execution_count": 19,
   "id": "723f8266",
   "metadata": {},
   "outputs": [
    {
     "name": "stdout",
     "output_type": "stream",
     "text": [
      "Negative value in Quantity: 0\n",
      "Negative value in UnitPrice: 0\n"
     ]
    }
   ],
   "source": [
    "# Cheking for negative values\n",
    "print(\"Negative value in Quantity:\",(df_online_retail.Quantity<0).sum())\n",
    "print(\"Negative value in UnitPrice:\",(df_online_retail.UnitPrice<0).sum())\n"
   ]
  },
  {
   "cell_type": "code",
   "execution_count": 20,
   "id": "b8b13a4c",
   "metadata": {
    "scrolled": false
   },
   "outputs": [
    {
     "data": {
      "image/png": "[encoded data removed]",
      "text/plain": [
       "<Figure size 1800x1000 with 4 Axes>"
      ]
     },
     "metadata": {},
     "output_type": "display_data"
    }
   ],
   "source": [
    "# Observing them before removing outliers.\n",
    "f, ax = plt.subplots(nrows=4, ncols=1, figsize = (18,10))\n",
    "# Adjust the vertical spacing between subplots\n",
    "f.subplots_adjust(hspace=0.7)\n",
    "col_list = [\"Quantity\",\"UnitPrice\"]\n",
    "# Plotting before and after removing outliers\n",
    "for i, col in enumerate(col_list):\n",
    "    \n",
    "    # Plot before removing outliers\n",
    "    ax[i].boxplot(df_online_retail[col], \n",
    "                  sym='o', \n",
    "                  vert=False, \n",
    "                  showfliers=True, \n",
    "                  boxprops=dict(color='#FF8C00'), \n",
    "                  flierprops=dict(markerfacecolor='#FF8C00'))\n",
    "    ax[i].set_title(f'{col} before removing the outlier', fontsize=16)\n",
    "    \n",
    "    # Remove outliers and plot after removing outliers\n",
    "    df_online_retail = my_func.replace_with_threshold(df_online_retail, col, 0.01, 1.5)\n",
    "    ax[i + 2].boxplot(df_online_retail[col], \n",
    "                      sym='o', \n",
    "                      vert=False, \n",
    "                      showfliers=True, \n",
    "                      boxprops=dict(color='#FF8C00'), \n",
    "                      flierprops=dict(markerfacecolor='#FF8C00'))\n",
    "    ax[i + 2].set_title(f'{col} after removing the outlier', fontsize=16)\n",
    "\n",
    "# Show the plot\n",
    "plt.show()"
   ]
  },
  {
   "cell_type": "markdown",
   "id": "41f639f6",
   "metadata": {},
   "source": [
    "<div style=\"border-bottom: 15px dashed darkorange; width: 100%;\"></div>  \n"
   ]
  },
  {
   "cell_type": "code",
   "execution_count": null,
   "id": "a8430b5d",
   "metadata": {},
   "outputs": [],
   "source": []
  },
  {
   "cell_type": "code",
   "execution_count": null,
   "id": "5d3e7590",
   "metadata": {},
   "outputs": [],
   "source": []
  },
  {
   "cell_type": "code",
   "execution_count": null,
   "id": "002c2770",
   "metadata": {},
   "outputs": [],
   "source": []
  },
  {
   "cell_type": "code",
   "execution_count": null,
   "id": "7ea39f0a",
   "metadata": {},
   "outputs": [],
   "source": []
  },
  {
   "cell_type": "code",
   "execution_count": 14,
   "id": "2476ac8a",
   "metadata": {},
   "outputs": [
    {
     "data": {
      "text/html": [
       "<div>\n",
       "<style scoped>\n",
       "    .dataframe tbody tr th:only-of-type {\n",
       "        vertical-align: middle;\n",
       "    }\n",
       "\n",
       "    .dataframe tbody tr th {\n",
       "        vertical-align: top;\n",
       "    }\n",
       "\n",
       "    .dataframe thead th {\n",
       "        text-align: right;\n",
       "    }\n",
       "</style>\n",
       "<table border=\"1\" class=\"dataframe\">\n",
       "  <thead>\n",
       "    <tr style=\"text-align: right;\">\n",
       "      <th></th>\n",
       "      <th>InvoiceNo</th>\n",
       "      <th>StockCode</th>\n",
       "      <th>Description</th>\n",
       "      <th>Quantity</th>\n",
       "      <th>InvoiceDate</th>\n",
       "      <th>UnitPrice</th>\n",
       "      <th>CustomerID</th>\n",
       "      <th>Country</th>\n",
       "    </tr>\n",
       "  </thead>\n",
       "  <tbody>\n",
       "  </tbody>\n",
       "</table>\n",
       "</div>"
      ],
      "text/plain": [
       "Empty DataFrame\n",
       "Columns: [InvoiceNo, StockCode, Description, Quantity, InvoiceDate, UnitPrice, CustomerID, Country]\n",
       "Index: []"
      ]
     },
     "execution_count": 14,
     "metadata": {},
     "output_type": "execute_result"
    }
   ],
   "source": []
  },
  {
   "cell_type": "code",
   "execution_count": null,
   "id": "3c6e43a3",
   "metadata": {},
   "outputs": [],
   "source": []
  },
  {
   "cell_type": "code",
   "execution_count": null,
   "id": "83efcf22",
   "metadata": {},
   "outputs": [],
   "source": []
  },
  {
   "cell_type": "code",
   "execution_count": null,
   "id": "3c16a3e8",
   "metadata": {},
   "outputs": [],
   "source": []
  },
  {
   "cell_type": "code",
   "execution_count": null,
   "id": "d5505037",
   "metadata": {},
   "outputs": [],
   "source": []
  },
  {
   "cell_type": "code",
   "execution_count": null,
   "id": "4b14d50d",
   "metadata": {},
   "outputs": [],
   "source": []
  },
  {
   "cell_type": "markdown",
   "id": "e10db382",
   "metadata": {},
   "source": [
    "\n",
    "<h2 id=\"Refined-Data-Representation-and-Feature-Enhancement\" style=\"text-align: center;\">Refined Data Representation and Feature Enhancement</h2>"
   ]
  },
  {
   "cell_type": "code",
   "execution_count": 47,
   "id": "9798e908",
   "metadata": {},
   "outputs": [
    {
     "data": {
      "text/plain": [
       "InvoiceNo               object\n",
       "StockCode               object\n",
       "Description             object\n",
       "Quantity                 int64\n",
       "InvoiceDate     datetime64[ns]\n",
       "UnitPrice              float64\n",
       "CustomerID             float64\n",
       "Country                 object\n",
       "TotalPrice             float64\n",
       "Cancellation              bool\n",
       "dtype: object"
      ]
     },
     "execution_count": 47,
     "metadata": {},
     "output_type": "execute_result"
    }
   ],
   "source": [
    "# Calculate the total order amount for each row (UnitPrice * Quantity)\n",
    "df_online_retail['TotalPrice'] = df_online_retail['UnitPrice'] * df_online_retail['Quantity']\n",
    "\n",
    "# Determining order cancellation\n",
    "df_online_retail['Cancellation'] = df_online_retail['InvoiceNo'].str.contains('C', na=False)\n",
    "\n",
    "# InvoiceDate to date type\n",
    "df_online_retail['InvoiceDate'] = pd.to_datetime(df_online_retail['InvoiceDate'])\n",
    "df_online_retail.dtypes"
   ]
  },
  {
   "cell_type": "code",
   "execution_count": 48,
   "id": "f262616e",
   "metadata": {},
   "outputs": [
    {
     "data": {
      "text/html": [
       "<div>\n",
       "<style scoped>\n",
       "    .dataframe tbody tr th:only-of-type {\n",
       "        vertical-align: middle;\n",
       "    }\n",
       "\n",
       "    .dataframe tbody tr th {\n",
       "        vertical-align: top;\n",
       "    }\n",
       "\n",
       "    .dataframe thead th {\n",
       "        text-align: right;\n",
       "    }\n",
       "</style>\n",
       "<table border=\"1\" class=\"dataframe\">\n",
       "  <thead>\n",
       "    <tr style=\"text-align: right;\">\n",
       "      <th></th>\n",
       "      <th>InvoiceNo</th>\n",
       "      <th>StockCode</th>\n",
       "      <th>Description</th>\n",
       "      <th>Quantity</th>\n",
       "      <th>InvoiceDate</th>\n",
       "      <th>UnitPrice</th>\n",
       "      <th>CustomerID</th>\n",
       "      <th>Country</th>\n",
       "      <th>TotalPrice</th>\n",
       "      <th>Cancellation</th>\n",
       "    </tr>\n",
       "  </thead>\n",
       "  <tbody>\n",
       "    <tr>\n",
       "      <th>0</th>\n",
       "      <td>536365</td>\n",
       "      <td>85123A</td>\n",
       "      <td>WHITE HANGING HEART T-LIGHT HOLDER</td>\n",
       "      <td>6</td>\n",
       "      <td>2010-12-01 08:26:00</td>\n",
       "      <td>2.55</td>\n",
       "      <td>17850.0</td>\n",
       "      <td>United Kingdom</td>\n",
       "      <td>15.30</td>\n",
       "      <td>False</td>\n",
       "    </tr>\n",
       "    <tr>\n",
       "      <th>1</th>\n",
       "      <td>536365</td>\n",
       "      <td>71053</td>\n",
       "      <td>WHITE METAL LANTERN</td>\n",
       "      <td>6</td>\n",
       "      <td>2010-12-01 08:26:00</td>\n",
       "      <td>3.39</td>\n",
       "      <td>17850.0</td>\n",
       "      <td>United Kingdom</td>\n",
       "      <td>20.34</td>\n",
       "      <td>False</td>\n",
       "    </tr>\n",
       "    <tr>\n",
       "      <th>2</th>\n",
       "      <td>536365</td>\n",
       "      <td>84406B</td>\n",
       "      <td>CREAM CUPID HEARTS COAT HANGER</td>\n",
       "      <td>8</td>\n",
       "      <td>2010-12-01 08:26:00</td>\n",
       "      <td>2.75</td>\n",
       "      <td>17850.0</td>\n",
       "      <td>United Kingdom</td>\n",
       "      <td>22.00</td>\n",
       "      <td>False</td>\n",
       "    </tr>\n",
       "    <tr>\n",
       "      <th>3</th>\n",
       "      <td>536365</td>\n",
       "      <td>84029G</td>\n",
       "      <td>KNITTED UNION FLAG HOT WATER BOTTLE</td>\n",
       "      <td>6</td>\n",
       "      <td>2010-12-01 08:26:00</td>\n",
       "      <td>3.39</td>\n",
       "      <td>17850.0</td>\n",
       "      <td>United Kingdom</td>\n",
       "      <td>20.34</td>\n",
       "      <td>False</td>\n",
       "    </tr>\n",
       "    <tr>\n",
       "      <th>4</th>\n",
       "      <td>536365</td>\n",
       "      <td>84029E</td>\n",
       "      <td>RED WOOLLY HOTTIE WHITE HEART.</td>\n",
       "      <td>6</td>\n",
       "      <td>2010-12-01 08:26:00</td>\n",
       "      <td>3.39</td>\n",
       "      <td>17850.0</td>\n",
       "      <td>United Kingdom</td>\n",
       "      <td>20.34</td>\n",
       "      <td>False</td>\n",
       "    </tr>\n",
       "    <tr>\n",
       "      <th>...</th>\n",
       "      <td>...</td>\n",
       "      <td>...</td>\n",
       "      <td>...</td>\n",
       "      <td>...</td>\n",
       "      <td>...</td>\n",
       "      <td>...</td>\n",
       "      <td>...</td>\n",
       "      <td>...</td>\n",
       "      <td>...</td>\n",
       "      <td>...</td>\n",
       "    </tr>\n",
       "    <tr>\n",
       "      <th>541904</th>\n",
       "      <td>581587</td>\n",
       "      <td>22613</td>\n",
       "      <td>PACK OF 20 SPACEBOY NAPKINS</td>\n",
       "      <td>12</td>\n",
       "      <td>2011-12-09 12:50:00</td>\n",
       "      <td>0.85</td>\n",
       "      <td>12680.0</td>\n",
       "      <td>France</td>\n",
       "      <td>10.20</td>\n",
       "      <td>False</td>\n",
       "    </tr>\n",
       "    <tr>\n",
       "      <th>541905</th>\n",
       "      <td>581587</td>\n",
       "      <td>22899</td>\n",
       "      <td>CHILDREN'S APRON DOLLY GIRL</td>\n",
       "      <td>6</td>\n",
       "      <td>2011-12-09 12:50:00</td>\n",
       "      <td>2.10</td>\n",
       "      <td>12680.0</td>\n",
       "      <td>France</td>\n",
       "      <td>12.60</td>\n",
       "      <td>False</td>\n",
       "    </tr>\n",
       "    <tr>\n",
       "      <th>541906</th>\n",
       "      <td>581587</td>\n",
       "      <td>23254</td>\n",
       "      <td>CHILDRENS CUTLERY DOLLY GIRL</td>\n",
       "      <td>4</td>\n",
       "      <td>2011-12-09 12:50:00</td>\n",
       "      <td>4.15</td>\n",
       "      <td>12680.0</td>\n",
       "      <td>France</td>\n",
       "      <td>16.60</td>\n",
       "      <td>False</td>\n",
       "    </tr>\n",
       "    <tr>\n",
       "      <th>541907</th>\n",
       "      <td>581587</td>\n",
       "      <td>23255</td>\n",
       "      <td>CHILDRENS CUTLERY CIRCUS PARADE</td>\n",
       "      <td>4</td>\n",
       "      <td>2011-12-09 12:50:00</td>\n",
       "      <td>4.15</td>\n",
       "      <td>12680.0</td>\n",
       "      <td>France</td>\n",
       "      <td>16.60</td>\n",
       "      <td>False</td>\n",
       "    </tr>\n",
       "    <tr>\n",
       "      <th>541908</th>\n",
       "      <td>581587</td>\n",
       "      <td>22138</td>\n",
       "      <td>BAKING SET 9 PIECE RETROSPOT</td>\n",
       "      <td>3</td>\n",
       "      <td>2011-12-09 12:50:00</td>\n",
       "      <td>4.95</td>\n",
       "      <td>12680.0</td>\n",
       "      <td>France</td>\n",
       "      <td>14.85</td>\n",
       "      <td>False</td>\n",
       "    </tr>\n",
       "  </tbody>\n",
       "</table>\n",
       "<p>401604 rows × 10 columns</p>\n",
       "</div>"
      ],
      "text/plain": [
       "       InvoiceNo StockCode                          Description  Quantity  \\\n",
       "0         536365    85123A   WHITE HANGING HEART T-LIGHT HOLDER         6   \n",
       "1         536365     71053                  WHITE METAL LANTERN         6   \n",
       "2         536365    84406B       CREAM CUPID HEARTS COAT HANGER         8   \n",
       "3         536365    84029G  KNITTED UNION FLAG HOT WATER BOTTLE         6   \n",
       "4         536365    84029E       RED WOOLLY HOTTIE WHITE HEART.         6   \n",
       "...          ...       ...                                  ...       ...   \n",
       "541904    581587     22613          PACK OF 20 SPACEBOY NAPKINS        12   \n",
       "541905    581587     22899         CHILDREN'S APRON DOLLY GIRL          6   \n",
       "541906    581587     23254        CHILDRENS CUTLERY DOLLY GIRL          4   \n",
       "541907    581587     23255      CHILDRENS CUTLERY CIRCUS PARADE         4   \n",
       "541908    581587     22138        BAKING SET 9 PIECE RETROSPOT          3   \n",
       "\n",
       "               InvoiceDate  UnitPrice  CustomerID         Country  TotalPrice  \\\n",
       "0      2010-12-01 08:26:00       2.55     17850.0  United Kingdom       15.30   \n",
       "1      2010-12-01 08:26:00       3.39     17850.0  United Kingdom       20.34   \n",
       "2      2010-12-01 08:26:00       2.75     17850.0  United Kingdom       22.00   \n",
       "3      2010-12-01 08:26:00       3.39     17850.0  United Kingdom       20.34   \n",
       "4      2010-12-01 08:26:00       3.39     17850.0  United Kingdom       20.34   \n",
       "...                    ...        ...         ...             ...         ...   \n",
       "541904 2011-12-09 12:50:00       0.85     12680.0          France       10.20   \n",
       "541905 2011-12-09 12:50:00       2.10     12680.0          France       12.60   \n",
       "541906 2011-12-09 12:50:00       4.15     12680.0          France       16.60   \n",
       "541907 2011-12-09 12:50:00       4.15     12680.0          France       16.60   \n",
       "541908 2011-12-09 12:50:00       4.95     12680.0          France       14.85   \n",
       "\n",
       "        Cancellation  \n",
       "0              False  \n",
       "1              False  \n",
       "2              False  \n",
       "3              False  \n",
       "4              False  \n",
       "...              ...  \n",
       "541904         False  \n",
       "541905         False  \n",
       "541906         False  \n",
       "541907         False  \n",
       "541908         False  \n",
       "\n",
       "[401604 rows x 10 columns]"
      ]
     },
     "execution_count": 48,
     "metadata": {},
     "output_type": "execute_result"
    }
   ],
   "source": [
    "df_online_retail"
   ]
  },
  {
   "cell_type": "code",
   "execution_count": 49,
   "id": "1ed14a4a",
   "metadata": {},
   "outputs": [],
   "source": [
    "df_with_cancellation = df_online_retail.query('Cancellation == True')\n",
    "df_non_cancelled = df_online_retail.query('Cancellation == False')"
   ]
  },
  {
   "cell_type": "code",
   "execution_count": 50,
   "id": "cbd52166",
   "metadata": {
    "scrolled": false
   },
   "outputs": [
    {
     "data": {
      "text/html": [
       "<div>\n",
       "<style scoped>\n",
       "    .dataframe tbody tr th:only-of-type {\n",
       "        vertical-align: middle;\n",
       "    }\n",
       "\n",
       "    .dataframe tbody tr th {\n",
       "        vertical-align: top;\n",
       "    }\n",
       "\n",
       "    .dataframe thead th {\n",
       "        text-align: right;\n",
       "    }\n",
       "</style>\n",
       "<table border=\"1\" class=\"dataframe\">\n",
       "  <thead>\n",
       "    <tr style=\"text-align: right;\">\n",
       "      <th></th>\n",
       "      <th>InvoiceNo</th>\n",
       "      <th>StockCode</th>\n",
       "      <th>Description</th>\n",
       "      <th>Quantity</th>\n",
       "      <th>InvoiceDate</th>\n",
       "      <th>UnitPrice</th>\n",
       "      <th>CustomerID</th>\n",
       "      <th>Country</th>\n",
       "      <th>TotalPrice</th>\n",
       "      <th>Cancellation</th>\n",
       "    </tr>\n",
       "  </thead>\n",
       "  <tbody>\n",
       "    <tr>\n",
       "      <th>141</th>\n",
       "      <td>C536379</td>\n",
       "      <td>D</td>\n",
       "      <td>Discount</td>\n",
       "      <td>-1</td>\n",
       "      <td>2010-12-01 09:41:00</td>\n",
       "      <td>27.500</td>\n",
       "      <td>14527.0</td>\n",
       "      <td>United Kingdom</td>\n",
       "      <td>-27.500</td>\n",
       "      <td>True</td>\n",
       "    </tr>\n",
       "    <tr>\n",
       "      <th>154</th>\n",
       "      <td>C536383</td>\n",
       "      <td>35004C</td>\n",
       "      <td>SET OF 3 COLOURED  FLYING DUCKS</td>\n",
       "      <td>-1</td>\n",
       "      <td>2010-12-01 09:49:00</td>\n",
       "      <td>4.650</td>\n",
       "      <td>15311.0</td>\n",
       "      <td>United Kingdom</td>\n",
       "      <td>-4.650</td>\n",
       "      <td>True</td>\n",
       "    </tr>\n",
       "    <tr>\n",
       "      <th>235</th>\n",
       "      <td>C536391</td>\n",
       "      <td>22556</td>\n",
       "      <td>PLASTERS IN TIN CIRCUS PARADE</td>\n",
       "      <td>-12</td>\n",
       "      <td>2010-12-01 10:24:00</td>\n",
       "      <td>1.650</td>\n",
       "      <td>17548.0</td>\n",
       "      <td>United Kingdom</td>\n",
       "      <td>-19.800</td>\n",
       "      <td>True</td>\n",
       "    </tr>\n",
       "    <tr>\n",
       "      <th>236</th>\n",
       "      <td>C536391</td>\n",
       "      <td>21984</td>\n",
       "      <td>PACK OF 12 PINK PAISLEY TISSUES</td>\n",
       "      <td>-24</td>\n",
       "      <td>2010-12-01 10:24:00</td>\n",
       "      <td>0.290</td>\n",
       "      <td>17548.0</td>\n",
       "      <td>United Kingdom</td>\n",
       "      <td>-6.960</td>\n",
       "      <td>True</td>\n",
       "    </tr>\n",
       "    <tr>\n",
       "      <th>237</th>\n",
       "      <td>C536391</td>\n",
       "      <td>21983</td>\n",
       "      <td>PACK OF 12 BLUE PAISLEY TISSUES</td>\n",
       "      <td>-24</td>\n",
       "      <td>2010-12-01 10:24:00</td>\n",
       "      <td>0.290</td>\n",
       "      <td>17548.0</td>\n",
       "      <td>United Kingdom</td>\n",
       "      <td>-6.960</td>\n",
       "      <td>True</td>\n",
       "    </tr>\n",
       "    <tr>\n",
       "      <th>...</th>\n",
       "      <td>...</td>\n",
       "      <td>...</td>\n",
       "      <td>...</td>\n",
       "      <td>...</td>\n",
       "      <td>...</td>\n",
       "      <td>...</td>\n",
       "      <td>...</td>\n",
       "      <td>...</td>\n",
       "      <td>...</td>\n",
       "      <td>...</td>\n",
       "    </tr>\n",
       "    <tr>\n",
       "      <th>540449</th>\n",
       "      <td>C581490</td>\n",
       "      <td>23144</td>\n",
       "      <td>ZINC T-LIGHT HOLDER STARS SMALL</td>\n",
       "      <td>-11</td>\n",
       "      <td>2011-12-09 09:57:00</td>\n",
       "      <td>0.830</td>\n",
       "      <td>14397.0</td>\n",
       "      <td>United Kingdom</td>\n",
       "      <td>-9.130</td>\n",
       "      <td>True</td>\n",
       "    </tr>\n",
       "    <tr>\n",
       "      <th>541541</th>\n",
       "      <td>C581499</td>\n",
       "      <td>M</td>\n",
       "      <td>Manual</td>\n",
       "      <td>-1</td>\n",
       "      <td>2011-12-09 10:28:00</td>\n",
       "      <td>37.185</td>\n",
       "      <td>15498.0</td>\n",
       "      <td>United Kingdom</td>\n",
       "      <td>-37.185</td>\n",
       "      <td>True</td>\n",
       "    </tr>\n",
       "    <tr>\n",
       "      <th>541715</th>\n",
       "      <td>C581568</td>\n",
       "      <td>21258</td>\n",
       "      <td>VICTORIAN SEWING BOX LARGE</td>\n",
       "      <td>-5</td>\n",
       "      <td>2011-12-09 11:57:00</td>\n",
       "      <td>10.950</td>\n",
       "      <td>15311.0</td>\n",
       "      <td>United Kingdom</td>\n",
       "      <td>-54.750</td>\n",
       "      <td>True</td>\n",
       "    </tr>\n",
       "    <tr>\n",
       "      <th>541716</th>\n",
       "      <td>C581569</td>\n",
       "      <td>84978</td>\n",
       "      <td>HANGING HEART JAR T-LIGHT HOLDER</td>\n",
       "      <td>-1</td>\n",
       "      <td>2011-12-09 11:58:00</td>\n",
       "      <td>1.250</td>\n",
       "      <td>17315.0</td>\n",
       "      <td>United Kingdom</td>\n",
       "      <td>-1.250</td>\n",
       "      <td>True</td>\n",
       "    </tr>\n",
       "    <tr>\n",
       "      <th>541717</th>\n",
       "      <td>C581569</td>\n",
       "      <td>20979</td>\n",
       "      <td>36 PENCILS TUBE RED RETROSPOT</td>\n",
       "      <td>-5</td>\n",
       "      <td>2011-12-09 11:58:00</td>\n",
       "      <td>1.250</td>\n",
       "      <td>17315.0</td>\n",
       "      <td>United Kingdom</td>\n",
       "      <td>-6.250</td>\n",
       "      <td>True</td>\n",
       "    </tr>\n",
       "  </tbody>\n",
       "</table>\n",
       "<p>8872 rows × 10 columns</p>\n",
       "</div>"
      ],
      "text/plain": [
       "       InvoiceNo StockCode                       Description  Quantity  \\\n",
       "141      C536379         D                          Discount        -1   \n",
       "154      C536383    35004C   SET OF 3 COLOURED  FLYING DUCKS        -1   \n",
       "235      C536391     22556    PLASTERS IN TIN CIRCUS PARADE        -12   \n",
       "236      C536391     21984  PACK OF 12 PINK PAISLEY TISSUES        -24   \n",
       "237      C536391     21983  PACK OF 12 BLUE PAISLEY TISSUES        -24   \n",
       "...          ...       ...                               ...       ...   \n",
       "540449   C581490     23144   ZINC T-LIGHT HOLDER STARS SMALL       -11   \n",
       "541541   C581499         M                            Manual        -1   \n",
       "541715   C581568     21258        VICTORIAN SEWING BOX LARGE        -5   \n",
       "541716   C581569     84978  HANGING HEART JAR T-LIGHT HOLDER        -1   \n",
       "541717   C581569     20979     36 PENCILS TUBE RED RETROSPOT        -5   \n",
       "\n",
       "               InvoiceDate  UnitPrice  CustomerID         Country  TotalPrice  \\\n",
       "141    2010-12-01 09:41:00     27.500     14527.0  United Kingdom     -27.500   \n",
       "154    2010-12-01 09:49:00      4.650     15311.0  United Kingdom      -4.650   \n",
       "235    2010-12-01 10:24:00      1.650     17548.0  United Kingdom     -19.800   \n",
       "236    2010-12-01 10:24:00      0.290     17548.0  United Kingdom      -6.960   \n",
       "237    2010-12-01 10:24:00      0.290     17548.0  United Kingdom      -6.960   \n",
       "...                    ...        ...         ...             ...         ...   \n",
       "540449 2011-12-09 09:57:00      0.830     14397.0  United Kingdom      -9.130   \n",
       "541541 2011-12-09 10:28:00     37.185     15498.0  United Kingdom     -37.185   \n",
       "541715 2011-12-09 11:57:00     10.950     15311.0  United Kingdom     -54.750   \n",
       "541716 2011-12-09 11:58:00      1.250     17315.0  United Kingdom      -1.250   \n",
       "541717 2011-12-09 11:58:00      1.250     17315.0  United Kingdom      -6.250   \n",
       "\n",
       "        Cancellation  \n",
       "141             True  \n",
       "154             True  \n",
       "235             True  \n",
       "236             True  \n",
       "237             True  \n",
       "...              ...  \n",
       "540449          True  \n",
       "541541          True  \n",
       "541715          True  \n",
       "541716          True  \n",
       "541717          True  \n",
       "\n",
       "[8872 rows x 10 columns]"
      ]
     },
     "execution_count": 50,
     "metadata": {},
     "output_type": "execute_result"
    }
   ],
   "source": [
    "df_with_cancellation"
   ]
  },
  {
   "cell_type": "code",
   "execution_count": 52,
   "id": "1fea2ecb",
   "metadata": {
    "scrolled": false
   },
   "outputs": [
    {
     "data": {
      "text/html": [
       "<div>\n",
       "<style scoped>\n",
       "    .dataframe tbody tr th:only-of-type {\n",
       "        vertical-align: middle;\n",
       "    }\n",
       "\n",
       "    .dataframe tbody tr th {\n",
       "        vertical-align: top;\n",
       "    }\n",
       "\n",
       "    .dataframe thead th {\n",
       "        text-align: right;\n",
       "    }\n",
       "</style>\n",
       "<table border=\"1\" class=\"dataframe\">\n",
       "  <thead>\n",
       "    <tr style=\"text-align: right;\">\n",
       "      <th></th>\n",
       "      <th>InvoiceNo</th>\n",
       "      <th>StockCode</th>\n",
       "      <th>Description</th>\n",
       "      <th>Quantity</th>\n",
       "      <th>InvoiceDate</th>\n",
       "      <th>UnitPrice</th>\n",
       "      <th>CustomerID</th>\n",
       "      <th>Country</th>\n",
       "      <th>TotalPrice</th>\n",
       "      <th>Cancellation</th>\n",
       "    </tr>\n",
       "  </thead>\n",
       "  <tbody>\n",
       "    <tr>\n",
       "      <th>0</th>\n",
       "      <td>536365</td>\n",
       "      <td>85123A</td>\n",
       "      <td>WHITE HANGING HEART T-LIGHT HOLDER</td>\n",
       "      <td>6</td>\n",
       "      <td>2010-12-01 08:26:00</td>\n",
       "      <td>2.55</td>\n",
       "      <td>17850.0</td>\n",
       "      <td>United Kingdom</td>\n",
       "      <td>15.30</td>\n",
       "      <td>False</td>\n",
       "    </tr>\n",
       "    <tr>\n",
       "      <th>1</th>\n",
       "      <td>536365</td>\n",
       "      <td>71053</td>\n",
       "      <td>WHITE METAL LANTERN</td>\n",
       "      <td>6</td>\n",
       "      <td>2010-12-01 08:26:00</td>\n",
       "      <td>3.39</td>\n",
       "      <td>17850.0</td>\n",
       "      <td>United Kingdom</td>\n",
       "      <td>20.34</td>\n",
       "      <td>False</td>\n",
       "    </tr>\n",
       "    <tr>\n",
       "      <th>2</th>\n",
       "      <td>536365</td>\n",
       "      <td>84406B</td>\n",
       "      <td>CREAM CUPID HEARTS COAT HANGER</td>\n",
       "      <td>8</td>\n",
       "      <td>2010-12-01 08:26:00</td>\n",
       "      <td>2.75</td>\n",
       "      <td>17850.0</td>\n",
       "      <td>United Kingdom</td>\n",
       "      <td>22.00</td>\n",
       "      <td>False</td>\n",
       "    </tr>\n",
       "    <tr>\n",
       "      <th>3</th>\n",
       "      <td>536365</td>\n",
       "      <td>84029G</td>\n",
       "      <td>KNITTED UNION FLAG HOT WATER BOTTLE</td>\n",
       "      <td>6</td>\n",
       "      <td>2010-12-01 08:26:00</td>\n",
       "      <td>3.39</td>\n",
       "      <td>17850.0</td>\n",
       "      <td>United Kingdom</td>\n",
       "      <td>20.34</td>\n",
       "      <td>False</td>\n",
       "    </tr>\n",
       "    <tr>\n",
       "      <th>4</th>\n",
       "      <td>536365</td>\n",
       "      <td>84029E</td>\n",
       "      <td>RED WOOLLY HOTTIE WHITE HEART.</td>\n",
       "      <td>6</td>\n",
       "      <td>2010-12-01 08:26:00</td>\n",
       "      <td>3.39</td>\n",
       "      <td>17850.0</td>\n",
       "      <td>United Kingdom</td>\n",
       "      <td>20.34</td>\n",
       "      <td>False</td>\n",
       "    </tr>\n",
       "    <tr>\n",
       "      <th>...</th>\n",
       "      <td>...</td>\n",
       "      <td>...</td>\n",
       "      <td>...</td>\n",
       "      <td>...</td>\n",
       "      <td>...</td>\n",
       "      <td>...</td>\n",
       "      <td>...</td>\n",
       "      <td>...</td>\n",
       "      <td>...</td>\n",
       "      <td>...</td>\n",
       "    </tr>\n",
       "    <tr>\n",
       "      <th>541904</th>\n",
       "      <td>581587</td>\n",
       "      <td>22613</td>\n",
       "      <td>PACK OF 20 SPACEBOY NAPKINS</td>\n",
       "      <td>12</td>\n",
       "      <td>2011-12-09 12:50:00</td>\n",
       "      <td>0.85</td>\n",
       "      <td>12680.0</td>\n",
       "      <td>France</td>\n",
       "      <td>10.20</td>\n",
       "      <td>False</td>\n",
       "    </tr>\n",
       "    <tr>\n",
       "      <th>541905</th>\n",
       "      <td>581587</td>\n",
       "      <td>22899</td>\n",
       "      <td>CHILDREN'S APRON DOLLY GIRL</td>\n",
       "      <td>6</td>\n",
       "      <td>2011-12-09 12:50:00</td>\n",
       "      <td>2.10</td>\n",
       "      <td>12680.0</td>\n",
       "      <td>France</td>\n",
       "      <td>12.60</td>\n",
       "      <td>False</td>\n",
       "    </tr>\n",
       "    <tr>\n",
       "      <th>541906</th>\n",
       "      <td>581587</td>\n",
       "      <td>23254</td>\n",
       "      <td>CHILDRENS CUTLERY DOLLY GIRL</td>\n",
       "      <td>4</td>\n",
       "      <td>2011-12-09 12:50:00</td>\n",
       "      <td>4.15</td>\n",
       "      <td>12680.0</td>\n",
       "      <td>France</td>\n",
       "      <td>16.60</td>\n",
       "      <td>False</td>\n",
       "    </tr>\n",
       "    <tr>\n",
       "      <th>541907</th>\n",
       "      <td>581587</td>\n",
       "      <td>23255</td>\n",
       "      <td>CHILDRENS CUTLERY CIRCUS PARADE</td>\n",
       "      <td>4</td>\n",
       "      <td>2011-12-09 12:50:00</td>\n",
       "      <td>4.15</td>\n",
       "      <td>12680.0</td>\n",
       "      <td>France</td>\n",
       "      <td>16.60</td>\n",
       "      <td>False</td>\n",
       "    </tr>\n",
       "    <tr>\n",
       "      <th>541908</th>\n",
       "      <td>581587</td>\n",
       "      <td>22138</td>\n",
       "      <td>BAKING SET 9 PIECE RETROSPOT</td>\n",
       "      <td>3</td>\n",
       "      <td>2011-12-09 12:50:00</td>\n",
       "      <td>4.95</td>\n",
       "      <td>12680.0</td>\n",
       "      <td>France</td>\n",
       "      <td>14.85</td>\n",
       "      <td>False</td>\n",
       "    </tr>\n",
       "  </tbody>\n",
       "</table>\n",
       "<p>392732 rows × 10 columns</p>\n",
       "</div>"
      ],
      "text/plain": [
       "       InvoiceNo StockCode                          Description  Quantity  \\\n",
       "0         536365    85123A   WHITE HANGING HEART T-LIGHT HOLDER         6   \n",
       "1         536365     71053                  WHITE METAL LANTERN         6   \n",
       "2         536365    84406B       CREAM CUPID HEARTS COAT HANGER         8   \n",
       "3         536365    84029G  KNITTED UNION FLAG HOT WATER BOTTLE         6   \n",
       "4         536365    84029E       RED WOOLLY HOTTIE WHITE HEART.         6   \n",
       "...          ...       ...                                  ...       ...   \n",
       "541904    581587     22613          PACK OF 20 SPACEBOY NAPKINS        12   \n",
       "541905    581587     22899         CHILDREN'S APRON DOLLY GIRL          6   \n",
       "541906    581587     23254        CHILDRENS CUTLERY DOLLY GIRL          4   \n",
       "541907    581587     23255      CHILDRENS CUTLERY CIRCUS PARADE         4   \n",
       "541908    581587     22138        BAKING SET 9 PIECE RETROSPOT          3   \n",
       "\n",
       "               InvoiceDate  UnitPrice  CustomerID         Country  TotalPrice  \\\n",
       "0      2010-12-01 08:26:00       2.55     17850.0  United Kingdom       15.30   \n",
       "1      2010-12-01 08:26:00       3.39     17850.0  United Kingdom       20.34   \n",
       "2      2010-12-01 08:26:00       2.75     17850.0  United Kingdom       22.00   \n",
       "3      2010-12-01 08:26:00       3.39     17850.0  United Kingdom       20.34   \n",
       "4      2010-12-01 08:26:00       3.39     17850.0  United Kingdom       20.34   \n",
       "...                    ...        ...         ...             ...         ...   \n",
       "541904 2011-12-09 12:50:00       0.85     12680.0          France       10.20   \n",
       "541905 2011-12-09 12:50:00       2.10     12680.0          France       12.60   \n",
       "541906 2011-12-09 12:50:00       4.15     12680.0          France       16.60   \n",
       "541907 2011-12-09 12:50:00       4.15     12680.0          France       16.60   \n",
       "541908 2011-12-09 12:50:00       4.95     12680.0          France       14.85   \n",
       "\n",
       "        Cancellation  \n",
       "0              False  \n",
       "1              False  \n",
       "2              False  \n",
       "3              False  \n",
       "4              False  \n",
       "...              ...  \n",
       "541904         False  \n",
       "541905         False  \n",
       "541906         False  \n",
       "541907         False  \n",
       "541908         False  \n",
       "\n",
       "[392732 rows x 10 columns]"
      ]
     },
     "execution_count": 52,
     "metadata": {},
     "output_type": "execute_result"
    }
   ],
   "source": [
    "df_non_cancelled"
   ]
  },
  {
   "cell_type": "code",
   "execution_count": 62,
   "id": "ce1f3c8e",
   "metadata": {},
   "outputs": [
    {
     "data": {
      "text/html": [
       "<div>\n",
       "<style scoped>\n",
       "    .dataframe tbody tr th:only-of-type {\n",
       "        vertical-align: middle;\n",
       "    }\n",
       "\n",
       "    .dataframe tbody tr th {\n",
       "        vertical-align: top;\n",
       "    }\n",
       "\n",
       "    .dataframe thead th {\n",
       "        text-align: right;\n",
       "    }\n",
       "</style>\n",
       "<table border=\"1\" class=\"dataframe\">\n",
       "  <thead>\n",
       "    <tr style=\"text-align: right;\">\n",
       "      <th></th>\n",
       "      <th>Description</th>\n",
       "      <th>CustomerID</th>\n",
       "      <th>InvoiceNo_non_cancelled</th>\n",
       "      <th>StockCode</th>\n",
       "      <th>Quantity_non_cancelled</th>\n",
       "      <th>InvoiceDate_non_cancelled</th>\n",
       "      <th>UnitPrice_non_cancelled</th>\n",
       "      <th>Country_non_cancelled</th>\n",
       "      <th>TotalPrice_non_cancelled</th>\n",
       "      <th>Cancellation_non_cancelled</th>\n",
       "      <th>InvoiceNo_cancelled</th>\n",
       "      <th>Quantity_cancelled</th>\n",
       "      <th>InvoiceDate_cancelled</th>\n",
       "      <th>UnitPrice_cancelled</th>\n",
       "      <th>Country_cancelled</th>\n",
       "      <th>TotalPrice_cancelled</th>\n",
       "      <th>Cancellation_cancelled</th>\n",
       "      <th>Diff_Quantity</th>\n",
       "      <th>Diff_TotalPrice</th>\n",
       "    </tr>\n",
       "  </thead>\n",
       "  <tbody>\n",
       "    <tr>\n",
       "      <th>0</th>\n",
       "      <td>50'S CHRISTMAS GIFT BAG LARGE</td>\n",
       "      <td>13136.0</td>\n",
       "      <td>571224</td>\n",
       "      <td>23437</td>\n",
       "      <td>12</td>\n",
       "      <td>2011-10-14 13:41:00</td>\n",
       "      <td>1.25</td>\n",
       "      <td>United Kingdom</td>\n",
       "      <td>15.00</td>\n",
       "      <td>False</td>\n",
       "      <td>C572111</td>\n",
       "      <td>-2</td>\n",
       "      <td>2011-10-20 19:13:00</td>\n",
       "      <td>1.25</td>\n",
       "      <td>United Kingdom</td>\n",
       "      <td>-2.50</td>\n",
       "      <td>True</td>\n",
       "      <td>10</td>\n",
       "      <td>12.50</td>\n",
       "    </tr>\n",
       "    <tr>\n",
       "      <th>1</th>\n",
       "      <td>DOLLY GIRL BEAKER</td>\n",
       "      <td>13418.0</td>\n",
       "      <td>562592</td>\n",
       "      <td>23345</td>\n",
       "      <td>12</td>\n",
       "      <td>2011-08-07 15:43:00</td>\n",
       "      <td>1.25</td>\n",
       "      <td>United Kingdom</td>\n",
       "      <td>15.00</td>\n",
       "      <td>False</td>\n",
       "      <td>C567543</td>\n",
       "      <td>-6</td>\n",
       "      <td>2011-09-21 10:19:00</td>\n",
       "      <td>1.25</td>\n",
       "      <td>United Kingdom</td>\n",
       "      <td>-7.50</td>\n",
       "      <td>True</td>\n",
       "      <td>6</td>\n",
       "      <td>7.50</td>\n",
       "    </tr>\n",
       "    <tr>\n",
       "      <th>2</th>\n",
       "      <td>OVAL WALL MIRROR DIAMANTE</td>\n",
       "      <td>15005.0</td>\n",
       "      <td>543020</td>\n",
       "      <td>22167</td>\n",
       "      <td>1</td>\n",
       "      <td>2011-02-02 14:29:00</td>\n",
       "      <td>9.95</td>\n",
       "      <td>United Kingdom</td>\n",
       "      <td>9.95</td>\n",
       "      <td>False</td>\n",
       "      <td>C556888</td>\n",
       "      <td>-1</td>\n",
       "      <td>2011-06-15 12:37:00</td>\n",
       "      <td>9.95</td>\n",
       "      <td>United Kingdom</td>\n",
       "      <td>-9.95</td>\n",
       "      <td>True</td>\n",
       "      <td>0</td>\n",
       "      <td>0.00</td>\n",
       "    </tr>\n",
       "    <tr>\n",
       "      <th>3</th>\n",
       "      <td>OVAL WALL MIRROR DIAMANTE</td>\n",
       "      <td>15532.0</td>\n",
       "      <td>539294</td>\n",
       "      <td>22167</td>\n",
       "      <td>3</td>\n",
       "      <td>2010-12-16 16:45:00</td>\n",
       "      <td>9.95</td>\n",
       "      <td>United Kingdom</td>\n",
       "      <td>29.85</td>\n",
       "      <td>False</td>\n",
       "      <td>C558097</td>\n",
       "      <td>-2</td>\n",
       "      <td>2011-06-26 13:29:00</td>\n",
       "      <td>9.95</td>\n",
       "      <td>United Kingdom</td>\n",
       "      <td>-19.90</td>\n",
       "      <td>True</td>\n",
       "      <td>1</td>\n",
       "      <td>9.95</td>\n",
       "    </tr>\n",
       "    <tr>\n",
       "      <th>4</th>\n",
       "      <td>OVAL WALL MIRROR DIAMANTE</td>\n",
       "      <td>17612.0</td>\n",
       "      <td>552353</td>\n",
       "      <td>22167</td>\n",
       "      <td>1</td>\n",
       "      <td>2011-05-09 12:14:00</td>\n",
       "      <td>9.95</td>\n",
       "      <td>United Kingdom</td>\n",
       "      <td>9.95</td>\n",
       "      <td>False</td>\n",
       "      <td>C553533</td>\n",
       "      <td>-1</td>\n",
       "      <td>2011-05-17 15:13:00</td>\n",
       "      <td>9.95</td>\n",
       "      <td>United Kingdom</td>\n",
       "      <td>-9.95</td>\n",
       "      <td>True</td>\n",
       "      <td>0</td>\n",
       "      <td>0.00</td>\n",
       "    </tr>\n",
       "    <tr>\n",
       "      <th>...</th>\n",
       "      <td>...</td>\n",
       "      <td>...</td>\n",
       "      <td>...</td>\n",
       "      <td>...</td>\n",
       "      <td>...</td>\n",
       "      <td>...</td>\n",
       "      <td>...</td>\n",
       "      <td>...</td>\n",
       "      <td>...</td>\n",
       "      <td>...</td>\n",
       "      <td>...</td>\n",
       "      <td>...</td>\n",
       "      <td>...</td>\n",
       "      <td>...</td>\n",
       "      <td>...</td>\n",
       "      <td>...</td>\n",
       "      <td>...</td>\n",
       "      <td>...</td>\n",
       "      <td>...</td>\n",
       "    </tr>\n",
       "    <tr>\n",
       "      <th>6941</th>\n",
       "      <td>ZINC T-LIGHT HOLDER STARS SMALL</td>\n",
       "      <td>14397.0</td>\n",
       "      <td>552575</td>\n",
       "      <td>23144</td>\n",
       "      <td>12</td>\n",
       "      <td>2011-05-10 12:25:00</td>\n",
       "      <td>0.83</td>\n",
       "      <td>United Kingdom</td>\n",
       "      <td>9.96</td>\n",
       "      <td>False</td>\n",
       "      <td>C581490</td>\n",
       "      <td>-11</td>\n",
       "      <td>2011-12-09 09:57:00</td>\n",
       "      <td>0.83</td>\n",
       "      <td>United Kingdom</td>\n",
       "      <td>-9.13</td>\n",
       "      <td>True</td>\n",
       "      <td>1</td>\n",
       "      <td>0.83</td>\n",
       "    </tr>\n",
       "    <tr>\n",
       "      <th>6942</th>\n",
       "      <td>ZINC T-LIGHT HOLDER STARS SMALL</td>\n",
       "      <td>16859.0</td>\n",
       "      <td>560366</td>\n",
       "      <td>23144</td>\n",
       "      <td>12</td>\n",
       "      <td>2011-07-18 12:19:00</td>\n",
       "      <td>0.83</td>\n",
       "      <td>United Kingdom</td>\n",
       "      <td>9.96</td>\n",
       "      <td>False</td>\n",
       "      <td>C564488</td>\n",
       "      <td>-9</td>\n",
       "      <td>2011-08-25 14:12:00</td>\n",
       "      <td>0.83</td>\n",
       "      <td>United Kingdom</td>\n",
       "      <td>-7.47</td>\n",
       "      <td>True</td>\n",
       "      <td>3</td>\n",
       "      <td>2.49</td>\n",
       "    </tr>\n",
       "    <tr>\n",
       "      <th>6943</th>\n",
       "      <td>ZINC T-LIGHT HOLDER STARS SMALL</td>\n",
       "      <td>17504.0</td>\n",
       "      <td>552057</td>\n",
       "      <td>23144</td>\n",
       "      <td>24</td>\n",
       "      <td>2011-05-06 10:34:00</td>\n",
       "      <td>0.83</td>\n",
       "      <td>United Kingdom</td>\n",
       "      <td>19.92</td>\n",
       "      <td>False</td>\n",
       "      <td>C552556</td>\n",
       "      <td>-24</td>\n",
       "      <td>2011-05-10 11:21:00</td>\n",
       "      <td>0.83</td>\n",
       "      <td>United Kingdom</td>\n",
       "      <td>-19.92</td>\n",
       "      <td>True</td>\n",
       "      <td>0</td>\n",
       "      <td>0.00</td>\n",
       "    </tr>\n",
       "    <tr>\n",
       "      <th>6944</th>\n",
       "      <td>ZINC TOP  2 DOOR WOODEN SHELF</td>\n",
       "      <td>14217.0</td>\n",
       "      <td>537809</td>\n",
       "      <td>21275</td>\n",
       "      <td>1</td>\n",
       "      <td>2010-12-08 13:28:00</td>\n",
       "      <td>16.95</td>\n",
       "      <td>United Kingdom</td>\n",
       "      <td>16.95</td>\n",
       "      <td>False</td>\n",
       "      <td>C538114</td>\n",
       "      <td>-1</td>\n",
       "      <td>2010-12-09 15:29:00</td>\n",
       "      <td>16.95</td>\n",
       "      <td>United Kingdom</td>\n",
       "      <td>-16.95</td>\n",
       "      <td>True</td>\n",
       "      <td>0</td>\n",
       "      <td>0.00</td>\n",
       "    </tr>\n",
       "    <tr>\n",
       "      <th>6945</th>\n",
       "      <td>ZINC WILLIE WINKIE  CANDLE STICK</td>\n",
       "      <td>15674.0</td>\n",
       "      <td>548215</td>\n",
       "      <td>84832</td>\n",
       "      <td>12</td>\n",
       "      <td>2011-03-30 09:19:00</td>\n",
       "      <td>0.85</td>\n",
       "      <td>United Kingdom</td>\n",
       "      <td>10.20</td>\n",
       "      <td>False</td>\n",
       "      <td>C548972</td>\n",
       "      <td>-12</td>\n",
       "      <td>2011-04-05 11:42:00</td>\n",
       "      <td>0.85</td>\n",
       "      <td>United Kingdom</td>\n",
       "      <td>-10.20</td>\n",
       "      <td>True</td>\n",
       "      <td>0</td>\n",
       "      <td>0.00</td>\n",
       "    </tr>\n",
       "  </tbody>\n",
       "</table>\n",
       "<p>6946 rows × 19 columns</p>\n",
       "</div>"
      ],
      "text/plain": [
       "                           Description  CustomerID InvoiceNo_non_cancelled  \\\n",
       "0        50'S CHRISTMAS GIFT BAG LARGE     13136.0                  571224   \n",
       "1                    DOLLY GIRL BEAKER     13418.0                  562592   \n",
       "2           OVAL WALL MIRROR DIAMANTE      15005.0                  543020   \n",
       "3           OVAL WALL MIRROR DIAMANTE      15532.0                  539294   \n",
       "4           OVAL WALL MIRROR DIAMANTE      17612.0                  552353   \n",
       "...                                ...         ...                     ...   \n",
       "6941   ZINC T-LIGHT HOLDER STARS SMALL     14397.0                  552575   \n",
       "6942   ZINC T-LIGHT HOLDER STARS SMALL     16859.0                  560366   \n",
       "6943   ZINC T-LIGHT HOLDER STARS SMALL     17504.0                  552057   \n",
       "6944    ZINC TOP  2 DOOR WOODEN SHELF      14217.0                  537809   \n",
       "6945  ZINC WILLIE WINKIE  CANDLE STICK     15674.0                  548215   \n",
       "\n",
       "     StockCode  Quantity_non_cancelled InvoiceDate_non_cancelled  \\\n",
       "0        23437                      12       2011-10-14 13:41:00   \n",
       "1        23345                      12       2011-08-07 15:43:00   \n",
       "2        22167                       1       2011-02-02 14:29:00   \n",
       "3        22167                       3       2010-12-16 16:45:00   \n",
       "4        22167                       1       2011-05-09 12:14:00   \n",
       "...        ...                     ...                       ...   \n",
       "6941     23144                      12       2011-05-10 12:25:00   \n",
       "6942     23144                      12       2011-07-18 12:19:00   \n",
       "6943     23144                      24       2011-05-06 10:34:00   \n",
       "6944     21275                       1       2010-12-08 13:28:00   \n",
       "6945     84832                      12       2011-03-30 09:19:00   \n",
       "\n",
       "      UnitPrice_non_cancelled Country_non_cancelled  TotalPrice_non_cancelled  \\\n",
       "0                        1.25        United Kingdom                     15.00   \n",
       "1                        1.25        United Kingdom                     15.00   \n",
       "2                        9.95        United Kingdom                      9.95   \n",
       "3                        9.95        United Kingdom                     29.85   \n",
       "4                        9.95        United Kingdom                      9.95   \n",
       "...                       ...                   ...                       ...   \n",
       "6941                     0.83        United Kingdom                      9.96   \n",
       "6942                     0.83        United Kingdom                      9.96   \n",
       "6943                     0.83        United Kingdom                     19.92   \n",
       "6944                    16.95        United Kingdom                     16.95   \n",
       "6945                     0.85        United Kingdom                     10.20   \n",
       "\n",
       "      Cancellation_non_cancelled InvoiceNo_cancelled  Quantity_cancelled  \\\n",
       "0                          False             C572111                  -2   \n",
       "1                          False             C567543                  -6   \n",
       "2                          False             C556888                  -1   \n",
       "3                          False             C558097                  -2   \n",
       "4                          False             C553533                  -1   \n",
       "...                          ...                 ...                 ...   \n",
       "6941                       False             C581490                 -11   \n",
       "6942                       False             C564488                  -9   \n",
       "6943                       False             C552556                 -24   \n",
       "6944                       False             C538114                  -1   \n",
       "6945                       False             C548972                 -12   \n",
       "\n",
       "     InvoiceDate_cancelled  UnitPrice_cancelled Country_cancelled  \\\n",
       "0      2011-10-20 19:13:00                 1.25    United Kingdom   \n",
       "1      2011-09-21 10:19:00                 1.25    United Kingdom   \n",
       "2      2011-06-15 12:37:00                 9.95    United Kingdom   \n",
       "3      2011-06-26 13:29:00                 9.95    United Kingdom   \n",
       "4      2011-05-17 15:13:00                 9.95    United Kingdom   \n",
       "...                    ...                  ...               ...   \n",
       "6941   2011-12-09 09:57:00                 0.83    United Kingdom   \n",
       "6942   2011-08-25 14:12:00                 0.83    United Kingdom   \n",
       "6943   2011-05-10 11:21:00                 0.83    United Kingdom   \n",
       "6944   2010-12-09 15:29:00                16.95    United Kingdom   \n",
       "6945   2011-04-05 11:42:00                 0.85    United Kingdom   \n",
       "\n",
       "      TotalPrice_cancelled  Cancellation_cancelled  Diff_Quantity  \\\n",
       "0                    -2.50                    True             10   \n",
       "1                    -7.50                    True              6   \n",
       "2                    -9.95                    True              0   \n",
       "3                   -19.90                    True              1   \n",
       "4                    -9.95                    True              0   \n",
       "...                    ...                     ...            ...   \n",
       "6941                 -9.13                    True              1   \n",
       "6942                 -7.47                    True              3   \n",
       "6943                -19.92                    True              0   \n",
       "6944                -16.95                    True              0   \n",
       "6945                -10.20                    True              0   \n",
       "\n",
       "      Diff_TotalPrice  \n",
       "0               12.50  \n",
       "1                7.50  \n",
       "2                0.00  \n",
       "3                9.95  \n",
       "4                0.00  \n",
       "...               ...  \n",
       "6941             0.83  \n",
       "6942             2.49  \n",
       "6943             0.00  \n",
       "6944             0.00  \n",
       "6945             0.00  \n",
       "\n",
       "[6946 rows x 19 columns]"
      ]
     },
     "execution_count": 62,
     "metadata": {},
     "output_type": "execute_result"
    }
   ],
   "source": [
    "# Объединяем два DataFrame по условиям 'Description', 'CustomerID' и 'Quantity'\n",
    "merged_df = df_non_cancelled.merge(df_with_cancellation, on=['Description', 'CustomerID', 'StockCode'], suffixes=('_non_cancelled', '_cancelled'))\n",
    "\n",
    "# Фильтруем строки, где df_with_cancellation.Quantity меньше или равно df_non_cancelled.Quantity\n",
    "filtered_df = merged_df[merged_df['Quantity_cancelled'] <= merged_df['Quantity_non_cancelled']]\n",
    "\n",
    "# Выбираем первую строку, которая удовлетворяет условиям\n",
    "result_df = filtered_df.groupby(['Description', 'CustomerID']).first().reset_index()\n",
    "result_df['Diff_Quantity'] = result_df['Quantity_non_cancelled'] + result_df['Quantity_cancelled']\n",
    "result_df['Diff_TotalPrice'] = result_df['TotalPrice_non_cancelled'] + result_df['TotalPrice_cancelled']\n",
    "result_df\n"
   ]
  },
  {
   "cell_type": "code",
   "execution_count": null,
   "id": "b6d2a683",
   "metadata": {},
   "outputs": [],
   "source": [
    "\n",
    "# Group the data by month and count the number of orders in each month\n",
    "cancelled_orders_by_month = df_with_cancellation \\\n",
    "    .groupby(df_with_cancellation['InvoiceDate'] \\\n",
    "    .dt.to_period('M'))['InvoiceNo'].count() \\\n",
    "    .reset_index() \\\n",
    "    .rename(columns={'InvoiceNo': 'MonthScore'})\n",
    "non_cancelled_by_month = df_non_cancelled \\\n",
    "    .groupby(df_non_cancelled['InvoiceDate'] \\\n",
    "    .dt.to_period('M'))['InvoiceNo'].count() \\\n",
    "    .reset_index() \\\n",
    "    .rename(columns={'InvoiceNo': 'MonthScore'})\n"
   ]
  },
  {
   "cell_type": "markdown",
   "id": "f9878e29",
   "metadata": {},
   "source": [
    "<div style=\"border-bottom: 15px dashed darkorange; width: 100%;\"></div>  "
   ]
  },
  {
   "cell_type": "markdown",
   "id": "9b9a174d",
   "metadata": {},
   "source": [
    "~~~~~~~~~~~~~~~~~~~~~~~~~~~~~~~~~~~~~~~~~~~~~~~~~~~~~~~~~~~~~~~~~~~~~~~~~~~~~~~~~~~~~~~~~~~~~~~~~~~~~~~~~~~~~~~~~~~~~~~~"
   ]
  },
  {
   "cell_type": "markdown",
   "id": "22d5290a",
   "metadata": {},
   "source": [
    "### Orders by Month"
   ]
  },
  {
   "cell_type": "code",
   "execution_count": null,
   "id": "23a5f206",
   "metadata": {
    "scrolled": false
   },
   "outputs": [],
   "source": [
    "# Размеры графиков на одной фигуре\n",
    "plt.figure(figsize=(18, 6))\n",
    "\n",
    "plt.subplot(1, 3, 1)\n",
    "plt.bar(cancelled_orders_by_month['InvoiceDate'].astype(str), \n",
    "        cancelled_orders_by_month['MonthScore'])\n",
    "plt.xlabel('Month Date')\n",
    "plt.ylabel('Amount orders')\n",
    "plt.title('Cancelled orders')\n",
    "plt.xticks(rotation=90)\n",
    "\n",
    "plt.subplot(1, 3, 2)\n",
    "plt.bar(non_cancelled_by_month['InvoiceDate'].astype(str), \n",
    "        non_cancelled_by_month['MonthScore'])\n",
    "plt.xlabel('Month Date')\n",
    "plt.ylabel('Amount orders')\n",
    "plt.title('Non Cancelled orders')\n",
    "plt.xticks(rotation=90)\n",
    "\n",
    "plt.subplot(1, 3, 3)\n",
    "plt.bar(non_cancelled_by_month['InvoiceDate'].astype(str), \n",
    "        cancelled_orders_by_month['MonthScore']/non_cancelled_by_month['MonthScore'])\n",
    "plt.xlabel('Month Date')\n",
    "plt.ylabel('Ratio')\n",
    "plt.title('Cancelled orders / All Orders')\n",
    "plt.xticks(rotation=90)\n",
    "\n",
    "plt.show()"
   ]
  },
  {
   "cell_type": "markdown",
   "id": "2cbd6d18",
   "metadata": {},
   "source": [
    "~~~~~~~~~~~~~~~~~~~~~~~~~~~~~~~~~~~~~~~~~~~~~~~~~~~~~~~~~~~~~~~~~~~~~~~~~~~~~~~~~~~~~~~~~~~~~~~~~~~~~~~~~~~~~~~~~~~~~~~~"
   ]
  },
  {
   "cell_type": "markdown",
   "id": "5c2dc31f",
   "metadata": {},
   "source": [
    "### Corellation matrix"
   ]
  },
  {
   "cell_type": "code",
   "execution_count": null,
   "id": "54decf40",
   "metadata": {},
   "outputs": [],
   "source": [
    "plt.figure(figsize=(10, 8))\n",
    "sns.heatmap(df_online_retail[['Quantity','UnitPrice','CustomerID', 'TotalPrice', 'Cancellation']].corr(), annot=True, cmap='coolwarm', fmt='.2f')\n",
    "plt.title('Correlation matrix')\n",
    "plt.show()"
   ]
  },
  {
   "cell_type": "code",
   "execution_count": null,
   "id": "78a56950",
   "metadata": {
    "scrolled": true
   },
   "outputs": [],
   "source": [
    "# Размеры графика\n",
    "plt.figure(figsize=(19, 6))\n",
    "plt.subplot(1, 3, 1)\n",
    "# Строим диаграмму рассеяния\n",
    "plt.scatter(df_online_retail['Quantity'], df_online_retail['TotalPrice'], alpha=0.5)  # Параметр alpha задает прозрачность точек\n",
    "# Добавляем подписи осей и заголовок\n",
    "plt.xlabel('Number of Products')\n",
    "plt.ylabel('Total Price')\n",
    "plt.title('All Products')\n",
    "\n",
    "\n",
    "plt.subplot(1, 3, 2)\n",
    "# Строим диаграмму рассеяния\n",
    "plt.scatter(df_with_cancellation['Quantity'], df_with_cancellation['TotalPrice'], alpha=0.5)  # Параметр alpha задает прозрачность точек\n",
    "# Добавляем подписи осей и заголовок\n",
    "plt.xlabel('Number of Products')\n",
    "plt.ylabel('Total Price')\n",
    "plt.title('Cancelled Products')\n",
    "\n",
    "\n",
    "plt.subplot(1, 3, 3)\n",
    "# Строим диаграмму рассеяния\n",
    "plt.scatter(df_non_cancelled['Quantity'], df_non_cancelled['TotalPrice'], alpha=0.5)  # Параметр alpha задает прозрачность точек\n",
    "# Добавляем подписи осей и заголовок\n",
    "plt.xlabel('Number of Products')\n",
    "plt.ylabel('Total Price')\n",
    "plt.title('Non Cancelled Products')\n",
    "\n",
    "\n",
    "# Показываем график\n",
    "plt.show()\n",
    "\n",
    "\n"
   ]
  },
  {
   "cell_type": "markdown",
   "id": "c50ade02",
   "metadata": {},
   "source": [
    "~~~~~~~~~~~~~~~~~~~~~~~~~~~~~~~~~~~~~~~~~~~~~~~~~~~~~~~~~~~~~~~~~~~~~~~~~~~~~~~~~~~~~~~~~~~~~~~~~~~~~~~~~~~~~~~~~~~~~~~~"
   ]
  },
  {
   "cell_type": "markdown",
   "id": "b7183a3f",
   "metadata": {},
   "source": [
    "### Linear regression model"
   ]
  },
  {
   "cell_type": "code",
   "execution_count": null,
   "id": "f134872e",
   "metadata": {},
   "outputs": [],
   "source": [
    "import statsmodels.api as sm\n",
    "X = df_non_cancelled['Quantity']  # Независимая переменная (предиктор)\n",
    "y = df_non_cancelled['TotalPrice']  # Зависимая переменная (целевая переменная)\n",
    "\n",
    "# Добавляем константу для модели (y = b0 + b1*X)\n",
    "X = sm.add_constant(X)\n",
    "\n",
    "# Создаем и обучаем модель линейной регрессии\n",
    "model = sm.OLS(y, X).fit()\n",
    "\n",
    "# Получаем результаты регрессионного анализа\n",
    "print(model.summary())"
   ]
  },
  {
   "cell_type": "code",
   "execution_count": null,
   "id": "3bb71432",
   "metadata": {},
   "outputs": [],
   "source": [
    "plt.scatter(df_non_cancelled['Quantity'], df_non_cancelled['TotalPrice'], alpha=0.5)\n",
    "plt.plot(df_non_cancelled['Quantity'], model.predict(X), color='red')\n",
    "plt.xlabel('Количество товаров')\n",
    "plt.ylabel('Общая стоимость')\n",
    "plt.title('Линейная регрессия: Количество товаров vs Общая стоимость')\n",
    "plt.show()"
   ]
  },
  {
   "cell_type": "code",
   "execution_count": null,
   "id": "738045e3",
   "metadata": {},
   "outputs": [],
   "source": []
  },
  {
   "cell_type": "markdown",
   "id": "1c20d2e5",
   "metadata": {},
   "source": [
    "\n",
    "R-квадрат (R-squared): Значение R-квадрат (R-squared) равно 0.416, что означает, что около 41.6% дисперсии зависимой переменной (TotalPrice) объясняется независимой переменной (Quantity). Это показывает относительную силу связи между этими переменными. Оставшиеся 58.4% дисперсии объясняются другими факторами, которые не учтены в данной модели.\n",
    "\n",
    "Коэффициенты: В уравнении регрессии приведены значения коэффициентов. Константа (const) имеет значение 5.2066, что означает ожидаемое значение зависимой переменной при Quantity = 0 (хотя в данной задаче значение Quantity не может быть равно нулю). Коэффициент Quantity равен 1.3078, что говорит о том, что с увеличением Quantity на единицу, TotalPrice ожидается увеличиться на 1.3078 единиц.\n",
    "\n",
    "P-значения (P>|t|): P-значения для коэффициентов показывают статистическую значимость связи между каждым из коэффициентов и зависимой переменной. Оба коэффициента имеют P-значение равное нулю, что говорит о том, что связь статистически значима.\n",
    "\n",
    "F-статистика и Prob (F-statistic): F-статистика равна 2.801e+05, а Prob (F-statistic) равно нулю, что указывает на общую статистическую значимость модели регрессии в целом.\n",
    "\n",
    "Omnibus, Durbin-Watson, Jarque-Bera и Kurtosis: Это статистические показатели, которые помогают оценить адекватность модели. Высокое значение Kurtosis может указывать на аномалии в данных.\n",
    "\n",
    "Cond. No.: Значение Cond. No. отражает мультиколлинеарность (наличие корреляции между независимыми переменными). Здесь значение Cond. No. равно 31.5, что обычно не является проблемой.\n",
    "\n",
    "Общий вывод: В данном анализе мы построили линейную регрессию для объяснения зависимой переменной TotalPrice на основе независимой переменной Quantity. Модель имеет статистически значимую связь, но R-квадрат показывает, что модель объясняет только часть дисперсии. Для повышения объяснительной способности модели можно попробовать добавить дополнительные независимые переменные или использовать другую функциональную форму регрессии, если это соответствует характеру данных. Также стоит проверить предпосылки линейной регрессии, такие как нормальность остатков и гомоскедастичность."
   ]
  },
  {
   "cell_type": "markdown",
   "id": "2deb55ce",
   "metadata": {},
   "source": [
    "### Conclusion of Linear Regression Model\n",
    "1. R-squared: The value of R-squared is 0.416, which means that about 41.6% of the variance of the dependent variable (TotalPrice) is explained by the independent variable (Quantity). This shows the relative strength of the relationship between these variables. The remaining 58.4% of the variance is explained by other factors that are not accounted for in this model.\n",
    "\n",
    "2. Coefficients: The regression equation shows the values of the coefficients. The constant (const) has a value of 5.2066, which means the expected value of the dependent variable when Quantity = 0 (although Quantity cannot be zero in this problem). The Quantity coefficient is 1.3078, indicating that as Quantity increases by one unit, TotalPrice is expected to increase by 1.3078 units.\n",
    "\n",
    "3. P-values (P>|t|): P-values for the coefficients show the statistical significance of the relationship between each of the coefficients and the dependent variable. Both coefficients have P-values equal to zero, indicating that the relationship is statistically significant.\n",
    "\n",
    "4. F-statistic and Prob (F-statistic): F-statistic is equal to 2.801e+05 and Prob (F-statistic) is equal to zero, indicating the overall statistical significance of the regression model as a whole.\n",
    "\n",
    "5. Omnibus, Durbin-Watson, Jarque-Bera and Kurtosis: These are statistical measures that help to assess the adequacy of the model. A high value of Kurtosis may indicate anomalies in the data.\n",
    "\n",
    "6. Cond. No.: The value of Cond. No. reflects multicollinearity (presence of correlation between independent variables). Here, the value of Cond. No. is 31.5, which is usually not a problem.\n",
    "\n",
    "7. Overall conclusion: In this analysis, we have constructed a linear regression to explain the dependent variable TotalPrice based on the independent variable Quantity. The model has a statistically significant relationship, but the R-square shows that the model explains only a portion of the variance. To increase the explanatory power of the model, you could try adding additional independent variables or using a different functional form of regression if it fits the nature of the data. It is also worth checking the assumptions of linear regression, such as normality of residuals and homoscedasticity."
   ]
  },
  {
   "cell_type": "markdown",
   "id": "299de4fb",
   "metadata": {},
   "source": [
    "~~~~~~~~~~~~~~~~~~~~~~~~~~~~~~~~~~~~~~~~~~~~~~~~~~~~~~~~~~~~~~~~~~~~~~~~~~~~~~~~~~~~~~~~~~~~~~~~~~~~~~~~~~~~~~~~~~~~~~~~"
   ]
  },
  {
   "cell_type": "code",
   "execution_count": null,
   "id": "1f9ff934",
   "metadata": {},
   "outputs": [],
   "source": [
    "df_online_retail"
   ]
  },
  {
   "cell_type": "code",
   "execution_count": null,
   "id": "7d0daf65",
   "metadata": {},
   "outputs": [],
   "source": [
    "df_online_retail.groupby([\"CustomerID\", \"InvoiceNo\"]).agg({'Quantity': 'sum', 'InvoiceDate': 'count'})"
   ]
  },
  {
   "cell_type": "code",
   "execution_count": null,
   "id": "f28acb7a",
   "metadata": {
    "scrolled": true
   },
   "outputs": [],
   "source": [
    "df_online_retail.query(\"InvoiceNo == 'C541433'\")"
   ]
  },
  {
   "cell_type": "code",
   "execution_count": null,
   "id": "406c50b5",
   "metadata": {
    "scrolled": false
   },
   "outputs": [],
   "source": [
    "df_online_retail.query(\"InvoiceNo == '541431'\")"
   ]
  },
  {
   "cell_type": "code",
   "execution_count": null,
   "id": "823a4256",
   "metadata": {},
   "outputs": [],
   "source": [
    "c_12347 = df_online_retail.query(\"CustomerID == 12347.0\")\n",
    "c_12347[c_12347.InvoiceNo.str.contains('C', na=False)]"
   ]
  },
  {
   "cell_type": "code",
   "execution_count": null,
   "id": "e097c6f4",
   "metadata": {},
   "outputs": [],
   "source": [
    "df_online_retail.que"
   ]
  },
  {
   "cell_type": "markdown",
   "id": "8b8a1d1b",
   "metadata": {},
   "source": [
    "<div style=\"border-bottom: 15px dashed darkorange; width: 100%;\"></div>  "
   ]
  },
  {
   "cell_type": "code",
   "execution_count": 17,
   "id": "817bc495",
   "metadata": {},
   "outputs": [
    {
     "name": "stderr",
     "output_type": "stream",
     "text": [
      "C:\\Users\\gpapu\\AppData\\Local\\Temp\\ipykernel_9764\\3599027369.py:2: SettingWithCopyWarning: \n",
      "A value is trying to be set on a copy of a slice from a DataFrame.\n",
      "Try using .loc[row_indexer,col_indexer] = value instead\n",
      "\n",
      "See the caveats in the documentation: https://pandas.pydata.org/pandas-docs/stable/user_guide/indexing.html#returning-a-view-versus-a-copy\n",
      "  df_with_cancellation['Cancelled'] = 1\n"
     ]
    },
    {
     "data": {
      "text/html": [
       "<div>\n",
       "<style scoped>\n",
       "    .dataframe tbody tr th:only-of-type {\n",
       "        vertical-align: middle;\n",
       "    }\n",
       "\n",
       "    .dataframe tbody tr th {\n",
       "        vertical-align: top;\n",
       "    }\n",
       "\n",
       "    .dataframe thead th {\n",
       "        text-align: right;\n",
       "    }\n",
       "</style>\n",
       "<table border=\"1\" class=\"dataframe\">\n",
       "  <thead>\n",
       "    <tr style=\"text-align: right;\">\n",
       "      <th></th>\n",
       "      <th>InvoiceNo</th>\n",
       "      <th>StockCode</th>\n",
       "      <th>Description</th>\n",
       "      <th>Quantity</th>\n",
       "      <th>InvoiceDate</th>\n",
       "      <th>UnitPrice</th>\n",
       "      <th>CustomerID</th>\n",
       "      <th>Country</th>\n",
       "      <th>Cancelled</th>\n",
       "    </tr>\n",
       "  </thead>\n",
       "  <tbody>\n",
       "    <tr>\n",
       "      <th>141</th>\n",
       "      <td>C536379</td>\n",
       "      <td>D</td>\n",
       "      <td>Discount</td>\n",
       "      <td>-1</td>\n",
       "      <td>2010-12-01 09:41:00</td>\n",
       "      <td>27.500</td>\n",
       "      <td>14527.0</td>\n",
       "      <td>United Kingdom</td>\n",
       "      <td>1</td>\n",
       "    </tr>\n",
       "    <tr>\n",
       "      <th>154</th>\n",
       "      <td>C536383</td>\n",
       "      <td>35004C</td>\n",
       "      <td>SET OF 3 COLOURED  FLYING DUCKS</td>\n",
       "      <td>-1</td>\n",
       "      <td>2010-12-01 09:49:00</td>\n",
       "      <td>4.650</td>\n",
       "      <td>15311.0</td>\n",
       "      <td>United Kingdom</td>\n",
       "      <td>1</td>\n",
       "    </tr>\n",
       "    <tr>\n",
       "      <th>235</th>\n",
       "      <td>C536391</td>\n",
       "      <td>22556</td>\n",
       "      <td>PLASTERS IN TIN CIRCUS PARADE</td>\n",
       "      <td>-12</td>\n",
       "      <td>2010-12-01 10:24:00</td>\n",
       "      <td>1.650</td>\n",
       "      <td>17548.0</td>\n",
       "      <td>United Kingdom</td>\n",
       "      <td>1</td>\n",
       "    </tr>\n",
       "    <tr>\n",
       "      <th>236</th>\n",
       "      <td>C536391</td>\n",
       "      <td>21984</td>\n",
       "      <td>PACK OF 12 PINK PAISLEY TISSUES</td>\n",
       "      <td>-24</td>\n",
       "      <td>2010-12-01 10:24:00</td>\n",
       "      <td>0.290</td>\n",
       "      <td>17548.0</td>\n",
       "      <td>United Kingdom</td>\n",
       "      <td>1</td>\n",
       "    </tr>\n",
       "    <tr>\n",
       "      <th>237</th>\n",
       "      <td>C536391</td>\n",
       "      <td>21983</td>\n",
       "      <td>PACK OF 12 BLUE PAISLEY TISSUES</td>\n",
       "      <td>-24</td>\n",
       "      <td>2010-12-01 10:24:00</td>\n",
       "      <td>0.290</td>\n",
       "      <td>17548.0</td>\n",
       "      <td>United Kingdom</td>\n",
       "      <td>1</td>\n",
       "    </tr>\n",
       "    <tr>\n",
       "      <th>...</th>\n",
       "      <td>...</td>\n",
       "      <td>...</td>\n",
       "      <td>...</td>\n",
       "      <td>...</td>\n",
       "      <td>...</td>\n",
       "      <td>...</td>\n",
       "      <td>...</td>\n",
       "      <td>...</td>\n",
       "      <td>...</td>\n",
       "    </tr>\n",
       "    <tr>\n",
       "      <th>540449</th>\n",
       "      <td>C581490</td>\n",
       "      <td>23144</td>\n",
       "      <td>ZINC T-LIGHT HOLDER STARS SMALL</td>\n",
       "      <td>-11</td>\n",
       "      <td>2011-12-09 09:57:00</td>\n",
       "      <td>0.830</td>\n",
       "      <td>14397.0</td>\n",
       "      <td>United Kingdom</td>\n",
       "      <td>1</td>\n",
       "    </tr>\n",
       "    <tr>\n",
       "      <th>541541</th>\n",
       "      <td>C581499</td>\n",
       "      <td>M</td>\n",
       "      <td>Manual</td>\n",
       "      <td>-1</td>\n",
       "      <td>2011-12-09 10:28:00</td>\n",
       "      <td>44.715</td>\n",
       "      <td>15498.0</td>\n",
       "      <td>United Kingdom</td>\n",
       "      <td>1</td>\n",
       "    </tr>\n",
       "    <tr>\n",
       "      <th>541715</th>\n",
       "      <td>C581568</td>\n",
       "      <td>21258</td>\n",
       "      <td>VICTORIAN SEWING BOX LARGE</td>\n",
       "      <td>-5</td>\n",
       "      <td>2011-12-09 11:57:00</td>\n",
       "      <td>10.950</td>\n",
       "      <td>15311.0</td>\n",
       "      <td>United Kingdom</td>\n",
       "      <td>1</td>\n",
       "    </tr>\n",
       "    <tr>\n",
       "      <th>541716</th>\n",
       "      <td>C581569</td>\n",
       "      <td>84978</td>\n",
       "      <td>HANGING HEART JAR T-LIGHT HOLDER</td>\n",
       "      <td>-1</td>\n",
       "      <td>2011-12-09 11:58:00</td>\n",
       "      <td>1.250</td>\n",
       "      <td>17315.0</td>\n",
       "      <td>United Kingdom</td>\n",
       "      <td>1</td>\n",
       "    </tr>\n",
       "    <tr>\n",
       "      <th>541717</th>\n",
       "      <td>C581569</td>\n",
       "      <td>20979</td>\n",
       "      <td>36 PENCILS TUBE RED RETROSPOT</td>\n",
       "      <td>-5</td>\n",
       "      <td>2011-12-09 11:58:00</td>\n",
       "      <td>1.250</td>\n",
       "      <td>17315.0</td>\n",
       "      <td>United Kingdom</td>\n",
       "      <td>1</td>\n",
       "    </tr>\n",
       "  </tbody>\n",
       "</table>\n",
       "<p>8863 rows × 9 columns</p>\n",
       "</div>"
      ],
      "text/plain": [
       "       InvoiceNo StockCode                       Description  Quantity  \\\n",
       "141      C536379         D                          Discount        -1   \n",
       "154      C536383    35004C   SET OF 3 COLOURED  FLYING DUCKS        -1   \n",
       "235      C536391     22556    PLASTERS IN TIN CIRCUS PARADE        -12   \n",
       "236      C536391     21984  PACK OF 12 PINK PAISLEY TISSUES        -24   \n",
       "237      C536391     21983  PACK OF 12 BLUE PAISLEY TISSUES        -24   \n",
       "...          ...       ...                               ...       ...   \n",
       "540449   C581490     23144   ZINC T-LIGHT HOLDER STARS SMALL       -11   \n",
       "541541   C581499         M                            Manual        -1   \n",
       "541715   C581568     21258        VICTORIAN SEWING BOX LARGE        -5   \n",
       "541716   C581569     84978  HANGING HEART JAR T-LIGHT HOLDER        -1   \n",
       "541717   C581569     20979     36 PENCILS TUBE RED RETROSPOT        -5   \n",
       "\n",
       "                InvoiceDate  UnitPrice  CustomerID         Country  Cancelled  \n",
       "141     2010-12-01 09:41:00     27.500     14527.0  United Kingdom          1  \n",
       "154     2010-12-01 09:49:00      4.650     15311.0  United Kingdom          1  \n",
       "235     2010-12-01 10:24:00      1.650     17548.0  United Kingdom          1  \n",
       "236     2010-12-01 10:24:00      0.290     17548.0  United Kingdom          1  \n",
       "237     2010-12-01 10:24:00      0.290     17548.0  United Kingdom          1  \n",
       "...                     ...        ...         ...             ...        ...  \n",
       "540449  2011-12-09 09:57:00      0.830     14397.0  United Kingdom          1  \n",
       "541541  2011-12-09 10:28:00     44.715     15498.0  United Kingdom          1  \n",
       "541715  2011-12-09 11:57:00     10.950     15311.0  United Kingdom          1  \n",
       "541716  2011-12-09 11:58:00      1.250     17315.0  United Kingdom          1  \n",
       "541717  2011-12-09 11:58:00      1.250     17315.0  United Kingdom          1  \n",
       "\n",
       "[8863 rows x 9 columns]"
      ]
     },
     "execution_count": 17,
     "metadata": {},
     "output_type": "execute_result"
    }
   ],
   "source": [
    "df_with_cancellation = df_online_retail[df_online_retail.InvoiceNo.str.contains('C', na=False)]\n",
    "df_with_cancellation['Cancelled'] = 1\n",
    "df_with_cancellation"
   ]
  },
  {
   "cell_type": "code",
   "execution_count": 19,
   "id": "f86c7d3a",
   "metadata": {},
   "outputs": [
    {
     "name": "stderr",
     "output_type": "stream",
     "text": [
      "C:\\Users\\gpapu\\AppData\\Local\\Temp\\ipykernel_9764\\1407255106.py:2: SettingWithCopyWarning: \n",
      "A value is trying to be set on a copy of a slice from a DataFrame.\n",
      "Try using .loc[row_indexer,col_indexer] = value instead\n",
      "\n",
      "See the caveats in the documentation: https://pandas.pydata.org/pandas-docs/stable/user_guide/indexing.html#returning-a-view-versus-a-copy\n",
      "  df_non_cancelled['Cancelled'] = 0\n"
     ]
    },
    {
     "data": {
      "text/html": [
       "<div>\n",
       "<style scoped>\n",
       "    .dataframe tbody tr th:only-of-type {\n",
       "        vertical-align: middle;\n",
       "    }\n",
       "\n",
       "    .dataframe tbody tr th {\n",
       "        vertical-align: top;\n",
       "    }\n",
       "\n",
       "    .dataframe thead th {\n",
       "        text-align: right;\n",
       "    }\n",
       "</style>\n",
       "<table border=\"1\" class=\"dataframe\">\n",
       "  <thead>\n",
       "    <tr style=\"text-align: right;\">\n",
       "      <th></th>\n",
       "      <th>InvoiceNo</th>\n",
       "      <th>StockCode</th>\n",
       "      <th>Description</th>\n",
       "      <th>Quantity</th>\n",
       "      <th>InvoiceDate</th>\n",
       "      <th>UnitPrice</th>\n",
       "      <th>CustomerID</th>\n",
       "      <th>Country</th>\n",
       "      <th>Cancelled</th>\n",
       "    </tr>\n",
       "  </thead>\n",
       "  <tbody>\n",
       "    <tr>\n",
       "      <th>0</th>\n",
       "      <td>536365</td>\n",
       "      <td>85123A</td>\n",
       "      <td>WHITE HANGING HEART T-LIGHT HOLDER</td>\n",
       "      <td>6</td>\n",
       "      <td>2010-12-01 08:26:00</td>\n",
       "      <td>2.55</td>\n",
       "      <td>17850.0</td>\n",
       "      <td>United Kingdom</td>\n",
       "      <td>0</td>\n",
       "    </tr>\n",
       "    <tr>\n",
       "      <th>1</th>\n",
       "      <td>536365</td>\n",
       "      <td>71053</td>\n",
       "      <td>WHITE METAL LANTERN</td>\n",
       "      <td>6</td>\n",
       "      <td>2010-12-01 08:26:00</td>\n",
       "      <td>3.39</td>\n",
       "      <td>17850.0</td>\n",
       "      <td>United Kingdom</td>\n",
       "      <td>0</td>\n",
       "    </tr>\n",
       "    <tr>\n",
       "      <th>2</th>\n",
       "      <td>536365</td>\n",
       "      <td>84406B</td>\n",
       "      <td>CREAM CUPID HEARTS COAT HANGER</td>\n",
       "      <td>8</td>\n",
       "      <td>2010-12-01 08:26:00</td>\n",
       "      <td>2.75</td>\n",
       "      <td>17850.0</td>\n",
       "      <td>United Kingdom</td>\n",
       "      <td>0</td>\n",
       "    </tr>\n",
       "    <tr>\n",
       "      <th>3</th>\n",
       "      <td>536365</td>\n",
       "      <td>84029G</td>\n",
       "      <td>KNITTED UNION FLAG HOT WATER BOTTLE</td>\n",
       "      <td>6</td>\n",
       "      <td>2010-12-01 08:26:00</td>\n",
       "      <td>3.39</td>\n",
       "      <td>17850.0</td>\n",
       "      <td>United Kingdom</td>\n",
       "      <td>0</td>\n",
       "    </tr>\n",
       "    <tr>\n",
       "      <th>4</th>\n",
       "      <td>536365</td>\n",
       "      <td>84029E</td>\n",
       "      <td>RED WOOLLY HOTTIE WHITE HEART.</td>\n",
       "      <td>6</td>\n",
       "      <td>2010-12-01 08:26:00</td>\n",
       "      <td>3.39</td>\n",
       "      <td>17850.0</td>\n",
       "      <td>United Kingdom</td>\n",
       "      <td>0</td>\n",
       "    </tr>\n",
       "    <tr>\n",
       "      <th>...</th>\n",
       "      <td>...</td>\n",
       "      <td>...</td>\n",
       "      <td>...</td>\n",
       "      <td>...</td>\n",
       "      <td>...</td>\n",
       "      <td>...</td>\n",
       "      <td>...</td>\n",
       "      <td>...</td>\n",
       "      <td>...</td>\n",
       "    </tr>\n",
       "    <tr>\n",
       "      <th>541904</th>\n",
       "      <td>581587</td>\n",
       "      <td>22613</td>\n",
       "      <td>PACK OF 20 SPACEBOY NAPKINS</td>\n",
       "      <td>12</td>\n",
       "      <td>2011-12-09 12:50:00</td>\n",
       "      <td>0.85</td>\n",
       "      <td>12680.0</td>\n",
       "      <td>France</td>\n",
       "      <td>0</td>\n",
       "    </tr>\n",
       "    <tr>\n",
       "      <th>541905</th>\n",
       "      <td>581587</td>\n",
       "      <td>22899</td>\n",
       "      <td>CHILDREN'S APRON DOLLY GIRL</td>\n",
       "      <td>6</td>\n",
       "      <td>2011-12-09 12:50:00</td>\n",
       "      <td>2.10</td>\n",
       "      <td>12680.0</td>\n",
       "      <td>France</td>\n",
       "      <td>0</td>\n",
       "    </tr>\n",
       "    <tr>\n",
       "      <th>541906</th>\n",
       "      <td>581587</td>\n",
       "      <td>23254</td>\n",
       "      <td>CHILDRENS CUTLERY DOLLY GIRL</td>\n",
       "      <td>4</td>\n",
       "      <td>2011-12-09 12:50:00</td>\n",
       "      <td>4.15</td>\n",
       "      <td>12680.0</td>\n",
       "      <td>France</td>\n",
       "      <td>0</td>\n",
       "    </tr>\n",
       "    <tr>\n",
       "      <th>541907</th>\n",
       "      <td>581587</td>\n",
       "      <td>23255</td>\n",
       "      <td>CHILDRENS CUTLERY CIRCUS PARADE</td>\n",
       "      <td>4</td>\n",
       "      <td>2011-12-09 12:50:00</td>\n",
       "      <td>4.15</td>\n",
       "      <td>12680.0</td>\n",
       "      <td>France</td>\n",
       "      <td>0</td>\n",
       "    </tr>\n",
       "    <tr>\n",
       "      <th>541908</th>\n",
       "      <td>581587</td>\n",
       "      <td>22138</td>\n",
       "      <td>BAKING SET 9 PIECE RETROSPOT</td>\n",
       "      <td>3</td>\n",
       "      <td>2011-12-09 12:50:00</td>\n",
       "      <td>4.95</td>\n",
       "      <td>12680.0</td>\n",
       "      <td>France</td>\n",
       "      <td>0</td>\n",
       "    </tr>\n",
       "  </tbody>\n",
       "</table>\n",
       "<p>392724 rows × 9 columns</p>\n",
       "</div>"
      ],
      "text/plain": [
       "       InvoiceNo StockCode                          Description  Quantity  \\\n",
       "0         536365    85123A   WHITE HANGING HEART T-LIGHT HOLDER         6   \n",
       "1         536365     71053                  WHITE METAL LANTERN         6   \n",
       "2         536365    84406B       CREAM CUPID HEARTS COAT HANGER         8   \n",
       "3         536365    84029G  KNITTED UNION FLAG HOT WATER BOTTLE         6   \n",
       "4         536365    84029E       RED WOOLLY HOTTIE WHITE HEART.         6   \n",
       "...          ...       ...                                  ...       ...   \n",
       "541904    581587     22613          PACK OF 20 SPACEBOY NAPKINS        12   \n",
       "541905    581587     22899         CHILDREN'S APRON DOLLY GIRL          6   \n",
       "541906    581587     23254        CHILDRENS CUTLERY DOLLY GIRL          4   \n",
       "541907    581587     23255      CHILDRENS CUTLERY CIRCUS PARADE         4   \n",
       "541908    581587     22138        BAKING SET 9 PIECE RETROSPOT          3   \n",
       "\n",
       "                InvoiceDate  UnitPrice  CustomerID         Country  Cancelled  \n",
       "0       2010-12-01 08:26:00       2.55     17850.0  United Kingdom          0  \n",
       "1       2010-12-01 08:26:00       3.39     17850.0  United Kingdom          0  \n",
       "2       2010-12-01 08:26:00       2.75     17850.0  United Kingdom          0  \n",
       "3       2010-12-01 08:26:00       3.39     17850.0  United Kingdom          0  \n",
       "4       2010-12-01 08:26:00       3.39     17850.0  United Kingdom          0  \n",
       "...                     ...        ...         ...             ...        ...  \n",
       "541904  2011-12-09 12:50:00       0.85     12680.0          France          0  \n",
       "541905  2011-12-09 12:50:00       2.10     12680.0          France          0  \n",
       "541906  2011-12-09 12:50:00       4.15     12680.0          France          0  \n",
       "541907  2011-12-09 12:50:00       4.15     12680.0          France          0  \n",
       "541908  2011-12-09 12:50:00       4.95     12680.0          France          0  \n",
       "\n",
       "[392724 rows x 9 columns]"
      ]
     },
     "execution_count": 19,
     "metadata": {},
     "output_type": "execute_result"
    }
   ],
   "source": [
    "df_non_cancelled = df_online_retail[~df_online_retail.InvoiceNo.str.contains('C', na=False)]\n",
    "df_non_cancelled['Cancelled'] = 0\n",
    "df_non_cancelled"
   ]
  },
  {
   "cell_type": "code",
   "execution_count": null,
   "id": "9fd1bd8d",
   "metadata": {},
   "outputs": [],
   "source": [
    "# Объедините два датасета в один для анализа\n",
    "combined_df = pd.concat([df_with_cancellation, df_non_cancelled], ignore_index=True)\n",
    "combined_df"
   ]
  },
  {
   "cell_type": "code",
   "execution_count": null,
   "id": "3fc7320a",
   "metadata": {},
   "outputs": [],
   "source": [
    "df_corr = combined_df[['Quantity','UnitPrice','TotalPrice', 'Cancelled', 'Country']].corr()\n",
    "sns.heatmap(df_corr, annot = True, cmap = 'coolwarm')"
   ]
  },
  {
   "cell_type": "code",
   "execution_count": 28,
   "id": "ef6ccd89",
   "metadata": {
    "scrolled": true
   },
   "outputs": [
    {
     "name": "stdout",
     "output_type": "stream",
     "text": [
      "InvoiceNo                              C536383\n",
      "StockCode                               35004C\n",
      "Description    SET OF 3 COLOURED  FLYING DUCKS\n",
      "Quantity                                    -1\n",
      "InvoiceDate                2010-12-01 09:49:00\n",
      "UnitPrice                                 4.65\n",
      "CustomerID                             15311.0\n",
      "Country                         United Kingdom\n",
      "Cancelled                                    1\n",
      "Name: 154, dtype: object\n",
      "\n",
      "match:        InvoiceNo StockCode                      Description  Quantity  \\\n",
      "9200     537195    35004C  SET OF 3 COLOURED  FLYING DUCKS        12   \n",
      "28630    538651    35004C  SET OF 3 COLOURED  FLYING DUCKS        12   \n",
      "44157    540157    35004C  SET OF 3 COLOURED  FLYING DUCKS        12   \n",
      "59542    541293    35004C  SET OF 3 COLOURED  FLYING DUCKS        12   \n",
      "\n",
      "               InvoiceDate  UnitPrice  CustomerID         Country  Cancelled  \n",
      "9200   2010-12-05 13:55:00       4.65     15311.0  United Kingdom          0  \n",
      "28630  2010-12-13 15:07:00       4.65     15311.0  United Kingdom          0  \n",
      "44157  2011-01-05 11:41:00       4.65     15311.0  United Kingdom          0  \n",
      "59542  2011-01-17 13:39:00       4.65     15311.0  United Kingdom          0  \n"
     ]
    }
   ],
   "source": [
    "# Цикл для каждой строки в df_with_cancellation\n",
    "for index, row in df_with_cancellation.iterrows():\n",
    "    \n",
    "    # Находим соответствующую строку в df_non_cancelled по Description и CustomerID\n",
    "    mask = (df_non_cancelled['Description'] == row['Description']) & \\\n",
    "        (df_non_cancelled['CustomerID'] == row['CustomerID']) & (df_non_cancelled['Quantity'] > row['Quantity'])\n",
    "    matched_row = df_non_cancelled[mask]\n",
    "    if not (matched_row.empty):\n",
    "        print(row)\n",
    "        print('\\nmatch: ', matched_row)\n",
    "        break\n",
    "    "
   ]
  },
  {
   "cell_type": "code",
   "execution_count": null,
   "id": "89ce7891",
   "metadata": {},
   "outputs": [],
   "source": []
  },
  {
   "cell_type": "code",
   "execution_count": 37,
   "id": "6085a729",
   "metadata": {},
   "outputs": [
    {
     "data": {
      "text/html": [
       "<div>\n",
       "<style scoped>\n",
       "    .dataframe tbody tr th:only-of-type {\n",
       "        vertical-align: middle;\n",
       "    }\n",
       "\n",
       "    .dataframe tbody tr th {\n",
       "        vertical-align: top;\n",
       "    }\n",
       "\n",
       "    .dataframe thead th {\n",
       "        text-align: right;\n",
       "    }\n",
       "</style>\n",
       "<table border=\"1\" class=\"dataframe\">\n",
       "  <thead>\n",
       "    <tr style=\"text-align: right;\">\n",
       "      <th></th>\n",
       "      <th>InvoiceNo_with_cancel</th>\n",
       "      <th>StockCode</th>\n",
       "      <th>Description</th>\n",
       "      <th>Quantity_with_cancel</th>\n",
       "      <th>InvoiceDate_with_cancel</th>\n",
       "      <th>UnitPrice_with_cancel</th>\n",
       "      <th>CustomerID</th>\n",
       "      <th>Country_with_cancel</th>\n",
       "      <th>Cancelled_with_cancel</th>\n",
       "      <th>InvoiceNo_non_cancel</th>\n",
       "      <th>Quantity_non_cancel</th>\n",
       "      <th>InvoiceDate_non_cancel</th>\n",
       "      <th>UnitPrice_non_cancel</th>\n",
       "      <th>Country_non_cancel</th>\n",
       "      <th>Cancelled_non_cancel</th>\n",
       "    </tr>\n",
       "  </thead>\n",
       "  <tbody>\n",
       "    <tr>\n",
       "      <th>4</th>\n",
       "      <td>C537805</td>\n",
       "      <td>35004C</td>\n",
       "      <td>SET OF 3 COLOURED  FLYING DUCKS</td>\n",
       "      <td>-1</td>\n",
       "      <td>2010-12-08 13:18:00</td>\n",
       "      <td>4.65</td>\n",
       "      <td>15311.0</td>\n",
       "      <td>United Kingdom</td>\n",
       "      <td>1</td>\n",
       "      <td>537195</td>\n",
       "      <td>12</td>\n",
       "      <td>2010-12-05 13:55:00</td>\n",
       "      <td>4.65</td>\n",
       "      <td>United Kingdom</td>\n",
       "      <td>0</td>\n",
       "    </tr>\n",
       "    <tr>\n",
       "      <th>8</th>\n",
       "      <td>C539640</td>\n",
       "      <td>35004C</td>\n",
       "      <td>SET OF 3 COLOURED  FLYING DUCKS</td>\n",
       "      <td>-3</td>\n",
       "      <td>2010-12-20 15:27:00</td>\n",
       "      <td>4.65</td>\n",
       "      <td>15311.0</td>\n",
       "      <td>United Kingdom</td>\n",
       "      <td>1</td>\n",
       "      <td>537195</td>\n",
       "      <td>12</td>\n",
       "      <td>2010-12-05 13:55:00</td>\n",
       "      <td>4.65</td>\n",
       "      <td>United Kingdom</td>\n",
       "      <td>0</td>\n",
       "    </tr>\n",
       "    <tr>\n",
       "      <th>9</th>\n",
       "      <td>C539640</td>\n",
       "      <td>35004C</td>\n",
       "      <td>SET OF 3 COLOURED  FLYING DUCKS</td>\n",
       "      <td>-3</td>\n",
       "      <td>2010-12-20 15:27:00</td>\n",
       "      <td>4.65</td>\n",
       "      <td>15311.0</td>\n",
       "      <td>United Kingdom</td>\n",
       "      <td>1</td>\n",
       "      <td>538651</td>\n",
       "      <td>12</td>\n",
       "      <td>2010-12-13 15:07:00</td>\n",
       "      <td>4.65</td>\n",
       "      <td>United Kingdom</td>\n",
       "      <td>0</td>\n",
       "    </tr>\n",
       "    <tr>\n",
       "      <th>12</th>\n",
       "      <td>C542866</td>\n",
       "      <td>35004C</td>\n",
       "      <td>SET OF 3 COLOURED  FLYING DUCKS</td>\n",
       "      <td>-2</td>\n",
       "      <td>2011-02-01 12:14:00</td>\n",
       "      <td>4.65</td>\n",
       "      <td>15311.0</td>\n",
       "      <td>United Kingdom</td>\n",
       "      <td>1</td>\n",
       "      <td>537195</td>\n",
       "      <td>12</td>\n",
       "      <td>2010-12-05 13:55:00</td>\n",
       "      <td>4.65</td>\n",
       "      <td>United Kingdom</td>\n",
       "      <td>0</td>\n",
       "    </tr>\n",
       "    <tr>\n",
       "      <th>13</th>\n",
       "      <td>C542866</td>\n",
       "      <td>35004C</td>\n",
       "      <td>SET OF 3 COLOURED  FLYING DUCKS</td>\n",
       "      <td>-2</td>\n",
       "      <td>2011-02-01 12:14:00</td>\n",
       "      <td>4.65</td>\n",
       "      <td>15311.0</td>\n",
       "      <td>United Kingdom</td>\n",
       "      <td>1</td>\n",
       "      <td>538651</td>\n",
       "      <td>12</td>\n",
       "      <td>2010-12-13 15:07:00</td>\n",
       "      <td>4.65</td>\n",
       "      <td>United Kingdom</td>\n",
       "      <td>0</td>\n",
       "    </tr>\n",
       "    <tr>\n",
       "      <th>...</th>\n",
       "      <td>...</td>\n",
       "      <td>...</td>\n",
       "      <td>...</td>\n",
       "      <td>...</td>\n",
       "      <td>...</td>\n",
       "      <td>...</td>\n",
       "      <td>...</td>\n",
       "      <td>...</td>\n",
       "      <td>...</td>\n",
       "      <td>...</td>\n",
       "      <td>...</td>\n",
       "      <td>...</td>\n",
       "      <td>...</td>\n",
       "      <td>...</td>\n",
       "      <td>...</td>\n",
       "    </tr>\n",
       "    <tr>\n",
       "      <th>23243</th>\n",
       "      <td>C581569</td>\n",
       "      <td>84978</td>\n",
       "      <td>HANGING HEART JAR T-LIGHT HOLDER</td>\n",
       "      <td>-1</td>\n",
       "      <td>2011-12-09 11:58:00</td>\n",
       "      <td>1.25</td>\n",
       "      <td>17315.0</td>\n",
       "      <td>United Kingdom</td>\n",
       "      <td>1</td>\n",
       "      <td>548150</td>\n",
       "      <td>36</td>\n",
       "      <td>2011-03-29 12:55:00</td>\n",
       "      <td>1.06</td>\n",
       "      <td>United Kingdom</td>\n",
       "      <td>0</td>\n",
       "    </tr>\n",
       "    <tr>\n",
       "      <th>23244</th>\n",
       "      <td>C581569</td>\n",
       "      <td>84978</td>\n",
       "      <td>HANGING HEART JAR T-LIGHT HOLDER</td>\n",
       "      <td>-1</td>\n",
       "      <td>2011-12-09 11:58:00</td>\n",
       "      <td>1.25</td>\n",
       "      <td>17315.0</td>\n",
       "      <td>United Kingdom</td>\n",
       "      <td>1</td>\n",
       "      <td>550828</td>\n",
       "      <td>6</td>\n",
       "      <td>2011-04-21 10:19:00</td>\n",
       "      <td>1.25</td>\n",
       "      <td>United Kingdom</td>\n",
       "      <td>0</td>\n",
       "    </tr>\n",
       "    <tr>\n",
       "      <th>23245</th>\n",
       "      <td>C581569</td>\n",
       "      <td>84978</td>\n",
       "      <td>HANGING HEART JAR T-LIGHT HOLDER</td>\n",
       "      <td>-1</td>\n",
       "      <td>2011-12-09 11:58:00</td>\n",
       "      <td>1.25</td>\n",
       "      <td>17315.0</td>\n",
       "      <td>United Kingdom</td>\n",
       "      <td>1</td>\n",
       "      <td>552537</td>\n",
       "      <td>36</td>\n",
       "      <td>2011-05-10 10:11:00</td>\n",
       "      <td>1.06</td>\n",
       "      <td>United Kingdom</td>\n",
       "      <td>0</td>\n",
       "    </tr>\n",
       "    <tr>\n",
       "      <th>23246</th>\n",
       "      <td>C581569</td>\n",
       "      <td>84978</td>\n",
       "      <td>HANGING HEART JAR T-LIGHT HOLDER</td>\n",
       "      <td>-1</td>\n",
       "      <td>2011-12-09 11:58:00</td>\n",
       "      <td>1.25</td>\n",
       "      <td>17315.0</td>\n",
       "      <td>United Kingdom</td>\n",
       "      <td>1</td>\n",
       "      <td>566624</td>\n",
       "      <td>12</td>\n",
       "      <td>2011-09-14 09:36:00</td>\n",
       "      <td>1.25</td>\n",
       "      <td>United Kingdom</td>\n",
       "      <td>0</td>\n",
       "    </tr>\n",
       "    <tr>\n",
       "      <th>23247</th>\n",
       "      <td>C581569</td>\n",
       "      <td>20979</td>\n",
       "      <td>36 PENCILS TUBE RED RETROSPOT</td>\n",
       "      <td>-5</td>\n",
       "      <td>2011-12-09 11:58:00</td>\n",
       "      <td>1.25</td>\n",
       "      <td>17315.0</td>\n",
       "      <td>United Kingdom</td>\n",
       "      <td>1</td>\n",
       "      <td>573911</td>\n",
       "      <td>6</td>\n",
       "      <td>2011-11-01 15:40:00</td>\n",
       "      <td>1.25</td>\n",
       "      <td>United Kingdom</td>\n",
       "      <td>0</td>\n",
       "    </tr>\n",
       "  </tbody>\n",
       "</table>\n",
       "<p>15144 rows × 15 columns</p>\n",
       "</div>"
      ],
      "text/plain": [
       "      InvoiceNo_with_cancel StockCode                       Description  \\\n",
       "4                   C537805    35004C   SET OF 3 COLOURED  FLYING DUCKS   \n",
       "8                   C539640    35004C   SET OF 3 COLOURED  FLYING DUCKS   \n",
       "9                   C539640    35004C   SET OF 3 COLOURED  FLYING DUCKS   \n",
       "12                  C542866    35004C   SET OF 3 COLOURED  FLYING DUCKS   \n",
       "13                  C542866    35004C   SET OF 3 COLOURED  FLYING DUCKS   \n",
       "...                     ...       ...                               ...   \n",
       "23243               C581569     84978  HANGING HEART JAR T-LIGHT HOLDER   \n",
       "23244               C581569     84978  HANGING HEART JAR T-LIGHT HOLDER   \n",
       "23245               C581569     84978  HANGING HEART JAR T-LIGHT HOLDER   \n",
       "23246               C581569     84978  HANGING HEART JAR T-LIGHT HOLDER   \n",
       "23247               C581569     20979     36 PENCILS TUBE RED RETROSPOT   \n",
       "\n",
       "       Quantity_with_cancel InvoiceDate_with_cancel  UnitPrice_with_cancel  \\\n",
       "4                        -1     2010-12-08 13:18:00                   4.65   \n",
       "8                        -3     2010-12-20 15:27:00                   4.65   \n",
       "9                        -3     2010-12-20 15:27:00                   4.65   \n",
       "12                       -2     2011-02-01 12:14:00                   4.65   \n",
       "13                       -2     2011-02-01 12:14:00                   4.65   \n",
       "...                     ...                     ...                    ...   \n",
       "23243                    -1     2011-12-09 11:58:00                   1.25   \n",
       "23244                    -1     2011-12-09 11:58:00                   1.25   \n",
       "23245                    -1     2011-12-09 11:58:00                   1.25   \n",
       "23246                    -1     2011-12-09 11:58:00                   1.25   \n",
       "23247                    -5     2011-12-09 11:58:00                   1.25   \n",
       "\n",
       "       CustomerID Country_with_cancel  Cancelled_with_cancel  \\\n",
       "4         15311.0      United Kingdom                      1   \n",
       "8         15311.0      United Kingdom                      1   \n",
       "9         15311.0      United Kingdom                      1   \n",
       "12        15311.0      United Kingdom                      1   \n",
       "13        15311.0      United Kingdom                      1   \n",
       "...           ...                 ...                    ...   \n",
       "23243     17315.0      United Kingdom                      1   \n",
       "23244     17315.0      United Kingdom                      1   \n",
       "23245     17315.0      United Kingdom                      1   \n",
       "23246     17315.0      United Kingdom                      1   \n",
       "23247     17315.0      United Kingdom                      1   \n",
       "\n",
       "      InvoiceNo_non_cancel  Quantity_non_cancel InvoiceDate_non_cancel  \\\n",
       "4                   537195                   12    2010-12-05 13:55:00   \n",
       "8                   537195                   12    2010-12-05 13:55:00   \n",
       "9                   538651                   12    2010-12-13 15:07:00   \n",
       "12                  537195                   12    2010-12-05 13:55:00   \n",
       "13                  538651                   12    2010-12-13 15:07:00   \n",
       "...                    ...                  ...                    ...   \n",
       "23243               548150                   36    2011-03-29 12:55:00   \n",
       "23244               550828                    6    2011-04-21 10:19:00   \n",
       "23245               552537                   36    2011-05-10 10:11:00   \n",
       "23246               566624                   12    2011-09-14 09:36:00   \n",
       "23247               573911                    6    2011-11-01 15:40:00   \n",
       "\n",
       "       UnitPrice_non_cancel Country_non_cancel  Cancelled_non_cancel  \n",
       "4                      4.65     United Kingdom                     0  \n",
       "8                      4.65     United Kingdom                     0  \n",
       "9                      4.65     United Kingdom                     0  \n",
       "12                     4.65     United Kingdom                     0  \n",
       "13                     4.65     United Kingdom                     0  \n",
       "...                     ...                ...                   ...  \n",
       "23243                  1.06     United Kingdom                     0  \n",
       "23244                  1.25     United Kingdom                     0  \n",
       "23245                  1.06     United Kingdom                     0  \n",
       "23246                  1.25     United Kingdom                     0  \n",
       "23247                  1.25     United Kingdom                     0  \n",
       "\n",
       "[15144 rows x 15 columns]"
      ]
     },
     "execution_count": 37,
     "metadata": {},
     "output_type": "execute_result"
    }
   ],
   "source": [
    "# Предположим, что у вас уже есть два DataFrame: df_non_cancelled и df_with_cancellation\n",
    "\n",
    "# Слияние двух DataFrame на основе 'Description' и 'CustomerID'\n",
    "merged_df = pd.merge(df_with_cancellation, df_non_cancelled, on=['Description', 'CustomerID', 'StockCode'], suffixes=('_with_cancel', '_non_cancel'))\n",
    "\n",
    "# Фильтрация по условиям Quantity_with_cancel < Quantity_non_cancel\n",
    "result_df = merged_df[merged_df['Quantity_with_cancel'] < merged_df['Quantity_non_cancel']]\n",
    "rr = result_df[result_df['InvoiceDate_non_cancel'] < result_df['InvoiceDate_with_cancel']]\n",
    "\n",
    "# Удаление лишних столбцов\n",
    "# result_df = result_df.drop(columns=['Quantity_with_cancel', 'InvoiceDate_with_cancel', 'Country_with_cancel'])\n",
    "\n",
    "# Вывод результата\n",
    "rr\n",
    "\n",
    "\n",
    "\n",
    "\n",
    "\n",
    "\n",
    "\n",
    "\n",
    "\n"
   ]
  },
  {
   "cell_type": "code",
   "execution_count": 38,
   "id": "922f991f",
   "metadata": {},
   "outputs": [
    {
     "data": {
      "text/plain": [
       "13201"
      ]
     },
     "execution_count": 38,
     "metadata": {},
     "output_type": "execute_result"
    }
   ],
   "source": [
    "(rr['UnitPrice_non_cancel'] == rr['UnitPrice_with_cancel']).sum()"
   ]
  },
  {
   "cell_type": "code",
   "execution_count": 39,
   "id": "01fd5f59",
   "metadata": {},
   "outputs": [
    {
     "data": {
      "text/plain": [
       "837"
      ]
     },
     "execution_count": 39,
     "metadata": {},
     "output_type": "execute_result"
    }
   ],
   "source": [
    "(rr['UnitPrice_non_cancel'] > rr['UnitPrice_with_cancel']).sum()"
   ]
  },
  {
   "cell_type": "code",
   "execution_count": 40,
   "id": "570f3231",
   "metadata": {},
   "outputs": [
    {
     "data": {
      "text/plain": [
       "1106"
      ]
     },
     "execution_count": 40,
     "metadata": {},
     "output_type": "execute_result"
    }
   ],
   "source": [
    "(rr['UnitPrice_non_cancel'] < rr['UnitPrice_with_cancel']).sum()"
   ]
  },
  {
   "cell_type": "code",
   "execution_count": null,
   "id": "1b133e00",
   "metadata": {},
   "outputs": [],
   "source": []
  },
  {
   "cell_type": "code",
   "execution_count": 383,
   "id": "4b9ba505",
   "metadata": {
    "scrolled": false
   },
   "outputs": [
    {
     "name": "stderr",
     "output_type": "stream",
     "text": [
      "C:\\Users\\gpapu\\AppData\\Local\\Temp\\ipykernel_6072\\2633248175.py:3: SettingWithCopyWarning:\n",
      "\n",
      "\n",
      "A value is trying to be set on a copy of a slice from a DataFrame.\n",
      "Try using .loc[row_indexer,col_indexer] = value instead\n",
      "\n",
      "See the caveats in the documentation: https://pandas.pydata.org/pandas-docs/stable/user_guide/indexing.html#returning-a-view-versus-a-copy\n",
      "\n",
      "C:\\Users\\gpapu\\AppData\\Local\\Temp\\ipykernel_6072\\2633248175.py:6: SettingWithCopyWarning:\n",
      "\n",
      "\n",
      "A value is trying to be set on a copy of a slice from a DataFrame.\n",
      "Try using .loc[row_indexer,col_indexer] = value instead\n",
      "\n",
      "See the caveats in the documentation: https://pandas.pydata.org/pandas-docs/stable/user_guide/indexing.html#returning-a-view-versus-a-copy\n",
      "\n"
     ]
    },
    {
     "name": "stdout",
     "output_type": "stream",
     "text": [
      "2011-12-09 11:58:00\n"
     ]
    },
    {
     "data": {
      "image/png": "[encoded data removed]",
      "text/plain": [
       "<Figure size 640x480 with 1 Axes>"
      ]
     },
     "metadata": {},
     "output_type": "display_data"
    },
    {
     "data": {
      "image/png": "[encoded data removed]",
      "text/plain": [
       "<Figure size 640x480 with 1 Axes>"
      ]
     },
     "metadata": {},
     "output_type": "display_data"
    },
    {
     "data": {
      "image/png": "[encoded data removed]",
      "text/plain": [
       "<Figure size 640x480 with 1 Axes>"
      ]
     },
     "metadata": {},
     "output_type": "display_data"
    }
   ],
   "source": [
    "# 1. Исследуйте распределение отмененных заказов по времени (столбец \"InvoiceDate\")\n",
    "# Преобразуйте столбец \"InvoiceDate\" в тип datetime\n",
    "df_with_cancellation['InvoiceDate'] = pd.to_datetime(df_with_cancellation['InvoiceDate'])\n",
    "print(df_with_cancellation['InvoiceDate'].max())\n",
    "# Создайте столбец \"Month\" для группировки по месяцам\n",
    "df_with_cancellation['Month'] = df_with_cancellation['InvoiceDate'].dt.to_period('M')\n",
    "\n",
    "# Группируйте данные по месяцам и подсчитайте количество отмененных заказов в каждом месяце\n",
    "cancelled_orders_by_month = df_with_cancellation.groupby('Month')['InvoiceNo'].count()\n",
    "\n",
    "# Визуализируйте распределение отмененных заказов по месяцам\n",
    "cancelled_orders_by_month.plot(kind='bar')\n",
    "plt.xlabel('Month')\n",
    "plt.ylabel('Number of Cancelled Orders')\n",
    "plt.title('Distribution of Cancelled Orders by Month')\n",
    "plt.show()\n",
    "\n",
    "# 2. Исследуйте распределение отмененных заказов по странам (столбец \"Country\")\n",
    "# Группируйте данные по странам и подсчитайте количество отмененных заказов в каждой стране\n",
    "cancelled_orders_by_country = df_with_cancellation.groupby('Country')['InvoiceNo'].count()\n",
    "\n",
    "# Визуализируйте распределение отмененных заказов по странам\n",
    "cancelled_orders_by_country.sort_values(ascending=False).plot(kind='bar')\n",
    "plt.xlabel('Country')\n",
    "plt.ylabel('Number of Cancelled Orders')\n",
    "plt.title('Distribution of Cancelled Orders by Country')\n",
    "plt.show()\n",
    "\n",
    "# 3. Исследуйте распределение отмененных заказов по товарам (столбцы \"StockCode\" и \"Description\")\n",
    "# Группируйте данные по товарам и подсчитайте количество отмененных заказов для каждого товара\n",
    "cancelled_orders_by_product = df_with_cancellation.groupby(['StockCode', 'Description'])['InvoiceNo'].count()\n",
    "\n",
    "# Отсортируйте товары по количеству отмененных заказов в порядке убывания\n",
    "cancelled_orders_by_product = cancelled_orders_by_product.sort_values(ascending=False)\n",
    "\n",
    "# Визуализируйте топ-10 товаров с наибольшим количеством отмененных заказов\n",
    "top_10_cancelled_products = cancelled_orders_by_product.head(10)\n",
    "top_10_cancelled_products.plot(kind='bar')\n",
    "plt.xlabel('Product')\n",
    "plt.ylabel('Number of Cancelled Orders')\n",
    "plt.title('Top 10 Products with the Most Cancelled Orders')\n",
    "plt.show()"
   ]
  },
  {
   "cell_type": "code",
   "execution_count": null,
   "id": "055db543",
   "metadata": {},
   "outputs": [],
   "source": []
  },
  {
   "cell_type": "code",
   "execution_count": null,
   "id": "00985f80",
   "metadata": {},
   "outputs": [],
   "source": []
  },
  {
   "cell_type": "code",
   "execution_count": null,
   "id": "0e7fc3d7",
   "metadata": {},
   "outputs": [],
   "source": []
  },
  {
   "cell_type": "code",
   "execution_count": null,
   "id": "0f7608f5",
   "metadata": {},
   "outputs": [],
   "source": []
  },
  {
   "cell_type": "code",
   "execution_count": null,
   "id": "50976973",
   "metadata": {},
   "outputs": [],
   "source": []
  },
  {
   "cell_type": "code",
   "execution_count": null,
   "id": "90f23cb3",
   "metadata": {},
   "outputs": [],
   "source": []
  },
  {
   "cell_type": "code",
   "execution_count": null,
   "id": "7a2a3008",
   "metadata": {},
   "outputs": [],
   "source": []
  },
  {
   "cell_type": "code",
   "execution_count": 318,
   "id": "89aba299",
   "metadata": {},
   "outputs": [
    {
     "name": "stdout",
     "output_type": "stream",
     "text": [
      "Average Quantity in Cancelled Orders: 10.1808\n",
      "Average Quantity in Non-cancelled Orders: 11.9807\n",
      "Average Price in Cancelled Orders: 4.7795\n",
      "Average Price in Non-cancelled Orders: 2.8998\n"
     ]
    },
    {
     "data": {
      "image/png": "[encoded data removed]",
      "text/plain": [
       "<Figure size 640x480 with 1 Axes>"
      ]
     },
     "metadata": {},
     "output_type": "display_data"
    }
   ],
   "source": [
    "# 1. Сравните средние значения количества товаров в отмененных и неотмененных заказах\n",
    "mean_quantity_cancelled = abs(df_with_cancellation['Quantity'].mean())\n",
    "mean_quantity_non_cancelled = df_non_cancelled['Quantity'].mean()\n",
    "\n",
    "print(\"Average Quantity in Cancelled Orders:\", mean_quantity_cancelled.round(4))\n",
    "print(\"Average Quantity in Non-cancelled Orders:\", mean_quantity_non_cancelled.round(4))\n",
    "\n",
    "# 2. Сравните средние значения цен товаров в отмененных и неотмененных заказах\n",
    "mean_price_cancelled = df_with_cancellation['UnitPrice'].mean()\n",
    "mean_price_non_cancelled = df_non_cancelled['UnitPrice'].mean()\n",
    "\n",
    "print(\"Average Price in Cancelled Orders:\", mean_price_cancelled.round(4))\n",
    "print(\"Average Price in Non-cancelled Orders:\", mean_price_non_cancelled.round(4))\n",
    "\n",
    "# 3. Визуализируйте сравнение средних значений количества товаров и цен\n",
    "means_data = {\n",
    "    'Category': ['Cancelled', 'Non-cancelled'],\n",
    "    'Average Quantity': [mean_quantity_cancelled, mean_quantity_non_cancelled],\n",
    "    'Average Price': [mean_price_cancelled, mean_price_non_cancelled]\n",
    "}\n",
    "\n",
    "means_df = pd.DataFrame(means_data)\n",
    "\n",
    "means_df.plot(x='Category', kind='bar', rot=0)\n",
    "plt.ylabel('Average Value')\n",
    "plt.title('Comparison of Average Quantity and Price between Cancelled and Non-cancelled Orders')\n",
    "plt.show()"
   ]
  },
  {
   "cell_type": "code",
   "execution_count": 308,
   "id": "2960cb14",
   "metadata": {},
   "outputs": [
    {
     "name": "stderr",
     "output_type": "stream",
     "text": [
      "C:\\Users\\gpapu\\AppData\\Local\\Temp\\ipykernel_6072\\1376611805.py:1: SettingWithCopyWarning:\n",
      "\n",
      "\n",
      "A value is trying to be set on a copy of a slice from a DataFrame.\n",
      "Try using .loc[row_indexer,col_indexer] = value instead\n",
      "\n",
      "See the caveats in the documentation: https://pandas.pydata.org/pandas-docs/stable/user_guide/indexing.html#returning-a-view-versus-a-copy\n",
      "\n",
      "C:\\Users\\gpapu\\AppData\\Local\\Temp\\ipykernel_6072\\1376611805.py:2: SettingWithCopyWarning:\n",
      "\n",
      "\n",
      "A value is trying to be set on a copy of a slice from a DataFrame.\n",
      "Try using .loc[row_indexer,col_indexer] = value instead\n",
      "\n",
      "See the caveats in the documentation: https://pandas.pydata.org/pandas-docs/stable/user_guide/indexing.html#returning-a-view-versus-a-copy\n",
      "\n",
      "C:\\Users\\gpapu\\AppData\\Local\\Temp\\ipykernel_6072\\1376611805.py:8: FutureWarning:\n",
      "\n",
      "The default value of numeric_only in DataFrame.corr is deprecated. In a future version, it will default to False. Select only valid columns or specify the value of numeric_only to silence this warning.\n",
      "\n"
     ]
    },
    {
     "data": {
      "image/png": "[encoded data removed]",
      "text/plain": [
       "<Figure size 1000x800 with 2 Axes>"
      ]
     },
     "metadata": {},
     "output_type": "display_data"
    }
   ],
   "source": [
    "df_with_cancellation['Cancelled'] = 1\n",
    "df_non_cancelled['Cancelled'] = 0\n",
    "\n",
    "# Объедините два датасета в один для анализа\n",
    "combined_df = pd.concat([df_with_cancellation, df_non_cancelled], ignore_index=True)\n",
    "\n",
    "# Проведите корреляционный анализ для числовых данных в датасете\n",
    "correlation_matrix = combined_df.corr()\n",
    "\n",
    "# Визуализируйте матрицу корреляции в виде тепловой карты\n",
    "plt.figure(figsize=(10, 8))\n",
    "plt.title('Correlation Matrix')\n",
    "sns.heatmap(correlation_matrix, annot=True, cmap='coolwarm', fmt='.2f', linewidths=0.5)\n",
    "plt.show()"
   ]
  },
  {
   "cell_type": "code",
   "execution_count": null,
   "id": "02fa1554",
   "metadata": {},
   "outputs": [],
   "source": []
  },
  {
   "cell_type": "code",
   "execution_count": null,
   "id": "8ed9f124",
   "metadata": {},
   "outputs": [],
   "source": []
  },
  {
   "cell_type": "code",
   "execution_count": null,
   "id": "697fc2fc",
   "metadata": {},
   "outputs": [],
   "source": []
  },
  {
   "cell_type": "code",
   "execution_count": null,
   "id": "4decfe1c",
   "metadata": {},
   "outputs": [],
   "source": []
  },
  {
   "cell_type": "code",
   "execution_count": null,
   "id": "e6be017d",
   "metadata": {},
   "outputs": [],
   "source": []
  },
  {
   "cell_type": "code",
   "execution_count": null,
   "id": "d5b3ddc4",
   "metadata": {},
   "outputs": [],
   "source": []
  },
  {
   "cell_type": "code",
   "execution_count": 69,
   "id": "5ff2f782",
   "metadata": {
    "scrolled": true
   },
   "outputs": [
    {
     "data": {
      "text/plain": [
       "0         False\n",
       "1         False\n",
       "2         False\n",
       "3         False\n",
       "4         False\n",
       "          ...  \n",
       "541904    False\n",
       "541905    False\n",
       "541906    False\n",
       "541907    False\n",
       "541908    False\n",
       "Name: InvoiceNo, Length: 541909, dtype: bool"
      ]
     },
     "execution_count": 69,
     "metadata": {},
     "output_type": "execute_result"
    }
   ],
   "source": [
    "# working with canceled orders (contain 'C' in Invoice)\n",
    "(df_online_retail['InvoiceNo'].str.startswith('C'))==True"
   ]
  },
  {
   "cell_type": "code",
   "execution_count": null,
   "id": "eb30845d",
   "metadata": {},
   "outputs": [],
   "source": []
  },
  {
   "cell_type": "code",
   "execution_count": null,
   "id": "f0eb74c0",
   "metadata": {},
   "outputs": [],
   "source": []
  },
  {
   "cell_type": "code",
   "execution_count": null,
   "id": "d54813a0",
   "metadata": {},
   "outputs": [],
   "source": []
  },
  {
   "cell_type": "code",
   "execution_count": null,
   "id": "e39c119e",
   "metadata": {},
   "outputs": [],
   "source": []
  },
  {
   "cell_type": "code",
   "execution_count": null,
   "id": "2f8481ef",
   "metadata": {},
   "outputs": [],
   "source": []
  },
  {
   "cell_type": "code",
   "execution_count": null,
   "id": "bb82ab74",
   "metadata": {},
   "outputs": [],
   "source": []
  },
  {
   "cell_type": "code",
   "execution_count": null,
   "id": "6e6d3892",
   "metadata": {},
   "outputs": [],
   "source": []
  },
  {
   "cell_type": "code",
   "execution_count": null,
   "id": "67cce061",
   "metadata": {},
   "outputs": [],
   "source": []
  },
  {
   "cell_type": "code",
   "execution_count": 95,
   "id": "29e2d6d9",
   "metadata": {},
   "outputs": [
    {
     "data": {
      "text/html": [
       "<div>\n",
       "<style scoped>\n",
       "    .dataframe tbody tr th:only-of-type {\n",
       "        vertical-align: middle;\n",
       "    }\n",
       "\n",
       "    .dataframe tbody tr th {\n",
       "        vertical-align: top;\n",
       "    }\n",
       "\n",
       "    .dataframe thead th {\n",
       "        text-align: right;\n",
       "    }\n",
       "</style>\n",
       "<table border=\"1\" class=\"dataframe\">\n",
       "  <thead>\n",
       "    <tr style=\"text-align: right;\">\n",
       "      <th></th>\n",
       "      <th>InvoiceNo</th>\n",
       "      <th>StockCode</th>\n",
       "      <th>Description</th>\n",
       "      <th>Quantity</th>\n",
       "      <th>InvoiceDate</th>\n",
       "      <th>UnitPrice</th>\n",
       "      <th>CustomerID</th>\n",
       "      <th>Country</th>\n",
       "    </tr>\n",
       "  </thead>\n",
       "  <tbody>\n",
       "    <tr>\n",
       "      <th>141</th>\n",
       "      <td>C536379</td>\n",
       "      <td>D</td>\n",
       "      <td>Discount</td>\n",
       "      <td>-1</td>\n",
       "      <td>2010-12-01 09:41:00</td>\n",
       "      <td>27.50</td>\n",
       "      <td>14527.0</td>\n",
       "      <td>United Kingdom</td>\n",
       "    </tr>\n",
       "    <tr>\n",
       "      <th>154</th>\n",
       "      <td>C536383</td>\n",
       "      <td>35004C</td>\n",
       "      <td>SET OF 3 COLOURED  FLYING DUCKS</td>\n",
       "      <td>-1</td>\n",
       "      <td>2010-12-01 09:49:00</td>\n",
       "      <td>4.65</td>\n",
       "      <td>15311.0</td>\n",
       "      <td>United Kingdom</td>\n",
       "    </tr>\n",
       "    <tr>\n",
       "      <th>235</th>\n",
       "      <td>C536391</td>\n",
       "      <td>22556</td>\n",
       "      <td>PLASTERS IN TIN CIRCUS PARADE</td>\n",
       "      <td>-12</td>\n",
       "      <td>2010-12-01 10:24:00</td>\n",
       "      <td>1.65</td>\n",
       "      <td>17548.0</td>\n",
       "      <td>United Kingdom</td>\n",
       "    </tr>\n",
       "    <tr>\n",
       "      <th>236</th>\n",
       "      <td>C536391</td>\n",
       "      <td>21984</td>\n",
       "      <td>PACK OF 12 PINK PAISLEY TISSUES</td>\n",
       "      <td>-24</td>\n",
       "      <td>2010-12-01 10:24:00</td>\n",
       "      <td>0.29</td>\n",
       "      <td>17548.0</td>\n",
       "      <td>United Kingdom</td>\n",
       "    </tr>\n",
       "    <tr>\n",
       "      <th>237</th>\n",
       "      <td>C536391</td>\n",
       "      <td>21983</td>\n",
       "      <td>PACK OF 12 BLUE PAISLEY TISSUES</td>\n",
       "      <td>-24</td>\n",
       "      <td>2010-12-01 10:24:00</td>\n",
       "      <td>0.29</td>\n",
       "      <td>17548.0</td>\n",
       "      <td>United Kingdom</td>\n",
       "    </tr>\n",
       "    <tr>\n",
       "      <th>...</th>\n",
       "      <td>...</td>\n",
       "      <td>...</td>\n",
       "      <td>...</td>\n",
       "      <td>...</td>\n",
       "      <td>...</td>\n",
       "      <td>...</td>\n",
       "      <td>...</td>\n",
       "      <td>...</td>\n",
       "    </tr>\n",
       "    <tr>\n",
       "      <th>540449</th>\n",
       "      <td>C581490</td>\n",
       "      <td>23144</td>\n",
       "      <td>ZINC T-LIGHT HOLDER STARS SMALL</td>\n",
       "      <td>-11</td>\n",
       "      <td>2011-12-09 09:57:00</td>\n",
       "      <td>0.83</td>\n",
       "      <td>14397.0</td>\n",
       "      <td>United Kingdom</td>\n",
       "    </tr>\n",
       "    <tr>\n",
       "      <th>541541</th>\n",
       "      <td>C581499</td>\n",
       "      <td>M</td>\n",
       "      <td>Manual</td>\n",
       "      <td>-1</td>\n",
       "      <td>2011-12-09 10:28:00</td>\n",
       "      <td>224.69</td>\n",
       "      <td>15498.0</td>\n",
       "      <td>United Kingdom</td>\n",
       "    </tr>\n",
       "    <tr>\n",
       "      <th>541715</th>\n",
       "      <td>C581568</td>\n",
       "      <td>21258</td>\n",
       "      <td>VICTORIAN SEWING BOX LARGE</td>\n",
       "      <td>-5</td>\n",
       "      <td>2011-12-09 11:57:00</td>\n",
       "      <td>10.95</td>\n",
       "      <td>15311.0</td>\n",
       "      <td>United Kingdom</td>\n",
       "    </tr>\n",
       "    <tr>\n",
       "      <th>541716</th>\n",
       "      <td>C581569</td>\n",
       "      <td>84978</td>\n",
       "      <td>HANGING HEART JAR T-LIGHT HOLDER</td>\n",
       "      <td>-1</td>\n",
       "      <td>2011-12-09 11:58:00</td>\n",
       "      <td>1.25</td>\n",
       "      <td>17315.0</td>\n",
       "      <td>United Kingdom</td>\n",
       "    </tr>\n",
       "    <tr>\n",
       "      <th>541717</th>\n",
       "      <td>C581569</td>\n",
       "      <td>20979</td>\n",
       "      <td>36 PENCILS TUBE RED RETROSPOT</td>\n",
       "      <td>-5</td>\n",
       "      <td>2011-12-09 11:58:00</td>\n",
       "      <td>1.25</td>\n",
       "      <td>17315.0</td>\n",
       "      <td>United Kingdom</td>\n",
       "    </tr>\n",
       "  </tbody>\n",
       "</table>\n",
       "<p>9288 rows × 8 columns</p>\n",
       "</div>"
      ],
      "text/plain": [
       "       InvoiceNo StockCode                       Description  Quantity  \\\n",
       "141      C536379         D                          Discount        -1   \n",
       "154      C536383    35004C   SET OF 3 COLOURED  FLYING DUCKS        -1   \n",
       "235      C536391     22556    PLASTERS IN TIN CIRCUS PARADE        -12   \n",
       "236      C536391     21984  PACK OF 12 PINK PAISLEY TISSUES        -24   \n",
       "237      C536391     21983  PACK OF 12 BLUE PAISLEY TISSUES        -24   \n",
       "...          ...       ...                               ...       ...   \n",
       "540449   C581490     23144   ZINC T-LIGHT HOLDER STARS SMALL       -11   \n",
       "541541   C581499         M                            Manual        -1   \n",
       "541715   C581568     21258        VICTORIAN SEWING BOX LARGE        -5   \n",
       "541716   C581569     84978  HANGING HEART JAR T-LIGHT HOLDER        -1   \n",
       "541717   C581569     20979     36 PENCILS TUBE RED RETROSPOT        -5   \n",
       "\n",
       "                InvoiceDate  UnitPrice  CustomerID         Country  \n",
       "141     2010-12-01 09:41:00      27.50     14527.0  United Kingdom  \n",
       "154     2010-12-01 09:49:00       4.65     15311.0  United Kingdom  \n",
       "235     2010-12-01 10:24:00       1.65     17548.0  United Kingdom  \n",
       "236     2010-12-01 10:24:00       0.29     17548.0  United Kingdom  \n",
       "237     2010-12-01 10:24:00       0.29     17548.0  United Kingdom  \n",
       "...                     ...        ...         ...             ...  \n",
       "540449  2011-12-09 09:57:00       0.83     14397.0  United Kingdom  \n",
       "541541  2011-12-09 10:28:00     224.69     15498.0  United Kingdom  \n",
       "541715  2011-12-09 11:57:00      10.95     15311.0  United Kingdom  \n",
       "541716  2011-12-09 11:58:00       1.25     17315.0  United Kingdom  \n",
       "541717  2011-12-09 11:58:00       1.25     17315.0  United Kingdom  \n",
       "\n",
       "[9288 rows x 8 columns]"
      ]
     },
     "execution_count": 95,
     "metadata": {},
     "output_type": "execute_result"
    }
   ],
   "source": [
    "df_canceled_order = df_online_retail[df_online_retail.InvoiceNo.str.contains('C', na=False)]\n",
    "df_canceled_order"
   ]
  },
  {
   "cell_type": "code",
   "execution_count": 115,
   "id": "db602863",
   "metadata": {},
   "outputs": [
    {
     "data": {
      "text/html": [
       "<div>\n",
       "<style scoped>\n",
       "    .dataframe tbody tr th:only-of-type {\n",
       "        vertical-align: middle;\n",
       "    }\n",
       "\n",
       "    .dataframe tbody tr th {\n",
       "        vertical-align: top;\n",
       "    }\n",
       "\n",
       "    .dataframe thead th {\n",
       "        text-align: right;\n",
       "    }\n",
       "</style>\n",
       "<table border=\"1\" class=\"dataframe\">\n",
       "  <thead>\n",
       "    <tr style=\"text-align: right;\">\n",
       "      <th></th>\n",
       "      <th>InvoiceDate</th>\n",
       "    </tr>\n",
       "    <tr>\n",
       "      <th>Description</th>\n",
       "      <th></th>\n",
       "    </tr>\n",
       "  </thead>\n",
       "  <tbody>\n",
       "    <tr>\n",
       "      <th>Manual</th>\n",
       "      <td>244</td>\n",
       "    </tr>\n",
       "    <tr>\n",
       "      <th>REGENCY CAKESTAND 3 TIER</th>\n",
       "      <td>181</td>\n",
       "    </tr>\n",
       "    <tr>\n",
       "      <th>POSTAGE</th>\n",
       "      <td>126</td>\n",
       "    </tr>\n",
       "    <tr>\n",
       "      <th>JAM MAKING SET WITH JARS</th>\n",
       "      <td>87</td>\n",
       "    </tr>\n",
       "    <tr>\n",
       "      <th>Discount</th>\n",
       "      <td>77</td>\n",
       "    </tr>\n",
       "    <tr>\n",
       "      <th>...</th>\n",
       "      <td>...</td>\n",
       "    </tr>\n",
       "    <tr>\n",
       "      <th>MAGIC SHEEP WOOL GROWING FROM PAPER</th>\n",
       "      <td>1</td>\n",
       "    </tr>\n",
       "    <tr>\n",
       "      <th>MAGIC TREE -PAPER FLOWERS</th>\n",
       "      <td>1</td>\n",
       "    </tr>\n",
       "    <tr>\n",
       "      <th>MAGNETS PACK OF 4 HOME SWEET HOME</th>\n",
       "      <td>1</td>\n",
       "    </tr>\n",
       "    <tr>\n",
       "      <th>MAKE YOUR OWN FLOWERPOWER CARD KIT</th>\n",
       "      <td>1</td>\n",
       "    </tr>\n",
       "    <tr>\n",
       "      <th>ZINC WILLIE WINKIE  CANDLE STICK</th>\n",
       "      <td>1</td>\n",
       "    </tr>\n",
       "  </tbody>\n",
       "</table>\n",
       "<p>1972 rows × 1 columns</p>\n",
       "</div>"
      ],
      "text/plain": [
       "                                     InvoiceDate\n",
       "Description                                     \n",
       "Manual                                       244\n",
       "REGENCY CAKESTAND 3 TIER                     181\n",
       "POSTAGE                                      126\n",
       "JAM MAKING SET WITH JARS                      87\n",
       "Discount                                      77\n",
       "...                                          ...\n",
       "MAGIC SHEEP WOOL GROWING FROM PAPER            1\n",
       "MAGIC TREE -PAPER FLOWERS                      1\n",
       "MAGNETS PACK OF 4 HOME SWEET HOME              1\n",
       "MAKE YOUR OWN FLOWERPOWER CARD KIT             1\n",
       "ZINC WILLIE WINKIE  CANDLE STICK               1\n",
       "\n",
       "[1972 rows x 1 columns]"
      ]
     },
     "execution_count": 115,
     "metadata": {},
     "output_type": "execute_result"
    }
   ],
   "source": [
    "tt = df_canceled_order.groupby('Description').agg({'InvoiceDate': 'count'}).sort_values('InvoiceDate', ascending=False)\n",
    "\n",
    "px.bar(tt)\n",
    "tt"
   ]
  },
  {
   "cell_type": "code",
   "execution_count": 116,
   "id": "d6da488e",
   "metadata": {},
   "outputs": [],
   "source": [
    "df_no_cancel = df_online_retail[~df_online_retail.InvoiceNo.str.contains('C', na=False)]"
   ]
  },
  {
   "cell_type": "code",
   "execution_count": null,
   "id": "ff14eba2",
   "metadata": {
    "scrolled": false
   },
   "outputs": [],
   "source": []
  },
  {
   "cell_type": "code",
   "execution_count": null,
   "id": "782f0647",
   "metadata": {},
   "outputs": [],
   "source": []
  },
  {
   "cell_type": "code",
   "execution_count": 118,
   "id": "34517ca0",
   "metadata": {},
   "outputs": [
    {
     "name": "stdout",
     "output_type": "stream",
     "text": [
      "Отмененные заказы:\n",
      "       InvoiceNo StockCode                       Description  Quantity  \\\n",
      "141      C536379         D                          Discount        -1   \n",
      "154      C536383    35004C   SET OF 3 COLOURED  FLYING DUCKS        -1   \n",
      "235      C536391     22556    PLASTERS IN TIN CIRCUS PARADE        -12   \n",
      "236      C536391     21984  PACK OF 12 PINK PAISLEY TISSUES        -24   \n",
      "237      C536391     21983  PACK OF 12 BLUE PAISLEY TISSUES        -24   \n",
      "...          ...       ...                               ...       ...   \n",
      "540449   C581490     23144   ZINC T-LIGHT HOLDER STARS SMALL       -11   \n",
      "541541   C581499         M                            Manual        -1   \n",
      "541715   C581568     21258        VICTORIAN SEWING BOX LARGE        -5   \n",
      "541716   C581569     84978  HANGING HEART JAR T-LIGHT HOLDER        -1   \n",
      "541717   C581569     20979     36 PENCILS TUBE RED RETROSPOT        -5   \n",
      "\n",
      "                InvoiceDate  UnitPrice  CustomerID         Country  \n",
      "141     2010-12-01 09:41:00      27.50     14527.0  United Kingdom  \n",
      "154     2010-12-01 09:49:00       4.65     15311.0  United Kingdom  \n",
      "235     2010-12-01 10:24:00       1.65     17548.0  United Kingdom  \n",
      "236     2010-12-01 10:24:00       0.29     17548.0  United Kingdom  \n",
      "237     2010-12-01 10:24:00       0.29     17548.0  United Kingdom  \n",
      "...                     ...        ...         ...             ...  \n",
      "540449  2011-12-09 09:57:00       0.83     14397.0  United Kingdom  \n",
      "541541  2011-12-09 10:28:00     224.69     15498.0  United Kingdom  \n",
      "541715  2011-12-09 11:57:00      10.95     15311.0  United Kingdom  \n",
      "541716  2011-12-09 11:58:00       1.25     17315.0  United Kingdom  \n",
      "541717  2011-12-09 11:58:00       1.25     17315.0  United Kingdom  \n",
      "\n",
      "[9288 rows x 8 columns]\n",
      "Заказы без отмены, но без 'C':\n",
      "       InvoiceNo StockCode                          Description  Quantity  \\\n",
      "0         536365    85123A   WHITE HANGING HEART T-LIGHT HOLDER         6   \n",
      "1         536365     71053                  WHITE METAL LANTERN         6   \n",
      "2         536365    84406B       CREAM CUPID HEARTS COAT HANGER         8   \n",
      "3         536365    84029G  KNITTED UNION FLAG HOT WATER BOTTLE         6   \n",
      "4         536365    84029E       RED WOOLLY HOTTIE WHITE HEART.         6   \n",
      "...          ...       ...                                  ...       ...   \n",
      "541904    581587     22613          PACK OF 20 SPACEBOY NAPKINS        12   \n",
      "541905    581587     22899         CHILDREN'S APRON DOLLY GIRL          6   \n",
      "541906    581587     23254        CHILDRENS CUTLERY DOLLY GIRL          4   \n",
      "541907    581587     23255      CHILDRENS CUTLERY CIRCUS PARADE         4   \n",
      "541908    581587     22138        BAKING SET 9 PIECE RETROSPOT          3   \n",
      "\n",
      "                InvoiceDate  UnitPrice  CustomerID         Country  \n",
      "0       2010-12-01 08:26:00       2.55     17850.0  United Kingdom  \n",
      "1       2010-12-01 08:26:00       3.39     17850.0  United Kingdom  \n",
      "2       2010-12-01 08:26:00       2.75     17850.0  United Kingdom  \n",
      "3       2010-12-01 08:26:00       3.39     17850.0  United Kingdom  \n",
      "4       2010-12-01 08:26:00       3.39     17850.0  United Kingdom  \n",
      "...                     ...        ...         ...             ...  \n",
      "541904  2011-12-09 12:50:00       0.85     12680.0          France  \n",
      "541905  2011-12-09 12:50:00       2.10     12680.0          France  \n",
      "541906  2011-12-09 12:50:00       4.15     12680.0          France  \n",
      "541907  2011-12-09 12:50:00       4.15     12680.0          France  \n",
      "541908  2011-12-09 12:50:00       4.95     12680.0          France  \n",
      "\n",
      "[532621 rows x 8 columns]\n"
     ]
    }
   ],
   "source": [
    "# Шаг 1: Создаем датасет с отмененными заказами (заказами, номера которых содержат \"C\")\n",
    "cancelled_orders = df_online_retail[df_online_retail.InvoiceNo.str.contains('C', na=False)]\n",
    "\n",
    "# Шаг 2: Из исходного датасета выбираем только заказы с типами из отмененных, но не содержащих \"C\"\n",
    "# ~data.InvoiceNo.str.contains('C', na=False) вернет булеву серию, где True - это заказы без \"C\"\n",
    "orders_without_cancellation = df_online_retail[~df_online_retail.InvoiceNo.str.contains('C', na=False)]\n",
    "\n",
    "# Выводим датасет с отмененными заказами\n",
    "print(\"Отмененные заказы:\")\n",
    "print(cancelled_orders)\n",
    "\n",
    "# Выводим датасет с заказами без отмены, но не содержащими \"C\"\n",
    "print(\"Заказы без отмены, но без 'C':\")\n",
    "print(orders_without_cancellation)"
   ]
  },
  {
   "cell_type": "code",
   "execution_count": 126,
   "id": "357f3cf5",
   "metadata": {},
   "outputs": [
    {
     "data": {
      "text/html": [
       "<div>\n",
       "<style scoped>\n",
       "    .dataframe tbody tr th:only-of-type {\n",
       "        vertical-align: middle;\n",
       "    }\n",
       "\n",
       "    .dataframe tbody tr th {\n",
       "        vertical-align: top;\n",
       "    }\n",
       "\n",
       "    .dataframe thead th {\n",
       "        text-align: right;\n",
       "    }\n",
       "</style>\n",
       "<table border=\"1\" class=\"dataframe\">\n",
       "  <thead>\n",
       "    <tr style=\"text-align: right;\">\n",
       "      <th></th>\n",
       "      <th>InvoiceNo</th>\n",
       "      <th>StockCode</th>\n",
       "      <th>Description</th>\n",
       "      <th>Quantity</th>\n",
       "      <th>InvoiceDate</th>\n",
       "      <th>UnitPrice</th>\n",
       "      <th>CustomerID</th>\n",
       "      <th>Country</th>\n",
       "    </tr>\n",
       "  </thead>\n",
       "  <tbody>\n",
       "    <tr>\n",
       "      <th>0</th>\n",
       "      <td>536365</td>\n",
       "      <td>85123A</td>\n",
       "      <td>WHITE HANGING HEART T-LIGHT HOLDER</td>\n",
       "      <td>6</td>\n",
       "      <td>2010-12-01 08:26:00</td>\n",
       "      <td>2.55</td>\n",
       "      <td>17850.0</td>\n",
       "      <td>United Kingdom</td>\n",
       "    </tr>\n",
       "    <tr>\n",
       "      <th>1</th>\n",
       "      <td>536365</td>\n",
       "      <td>71053</td>\n",
       "      <td>WHITE METAL LANTERN</td>\n",
       "      <td>6</td>\n",
       "      <td>2010-12-01 08:26:00</td>\n",
       "      <td>3.39</td>\n",
       "      <td>17850.0</td>\n",
       "      <td>United Kingdom</td>\n",
       "    </tr>\n",
       "    <tr>\n",
       "      <th>2</th>\n",
       "      <td>536365</td>\n",
       "      <td>84406B</td>\n",
       "      <td>CREAM CUPID HEARTS COAT HANGER</td>\n",
       "      <td>8</td>\n",
       "      <td>2010-12-01 08:26:00</td>\n",
       "      <td>2.75</td>\n",
       "      <td>17850.0</td>\n",
       "      <td>United Kingdom</td>\n",
       "    </tr>\n",
       "    <tr>\n",
       "      <th>3</th>\n",
       "      <td>536365</td>\n",
       "      <td>84029G</td>\n",
       "      <td>KNITTED UNION FLAG HOT WATER BOTTLE</td>\n",
       "      <td>6</td>\n",
       "      <td>2010-12-01 08:26:00</td>\n",
       "      <td>3.39</td>\n",
       "      <td>17850.0</td>\n",
       "      <td>United Kingdom</td>\n",
       "    </tr>\n",
       "    <tr>\n",
       "      <th>4</th>\n",
       "      <td>536365</td>\n",
       "      <td>84029E</td>\n",
       "      <td>RED WOOLLY HOTTIE WHITE HEART.</td>\n",
       "      <td>6</td>\n",
       "      <td>2010-12-01 08:26:00</td>\n",
       "      <td>3.39</td>\n",
       "      <td>17850.0</td>\n",
       "      <td>United Kingdom</td>\n",
       "    </tr>\n",
       "    <tr>\n",
       "      <th>...</th>\n",
       "      <td>...</td>\n",
       "      <td>...</td>\n",
       "      <td>...</td>\n",
       "      <td>...</td>\n",
       "      <td>...</td>\n",
       "      <td>...</td>\n",
       "      <td>...</td>\n",
       "      <td>...</td>\n",
       "    </tr>\n",
       "    <tr>\n",
       "      <th>541904</th>\n",
       "      <td>581587</td>\n",
       "      <td>22613</td>\n",
       "      <td>PACK OF 20 SPACEBOY NAPKINS</td>\n",
       "      <td>12</td>\n",
       "      <td>2011-12-09 12:50:00</td>\n",
       "      <td>0.85</td>\n",
       "      <td>12680.0</td>\n",
       "      <td>France</td>\n",
       "    </tr>\n",
       "    <tr>\n",
       "      <th>541905</th>\n",
       "      <td>581587</td>\n",
       "      <td>22899</td>\n",
       "      <td>CHILDREN'S APRON DOLLY GIRL</td>\n",
       "      <td>6</td>\n",
       "      <td>2011-12-09 12:50:00</td>\n",
       "      <td>2.10</td>\n",
       "      <td>12680.0</td>\n",
       "      <td>France</td>\n",
       "    </tr>\n",
       "    <tr>\n",
       "      <th>541906</th>\n",
       "      <td>581587</td>\n",
       "      <td>23254</td>\n",
       "      <td>CHILDRENS CUTLERY DOLLY GIRL</td>\n",
       "      <td>4</td>\n",
       "      <td>2011-12-09 12:50:00</td>\n",
       "      <td>4.15</td>\n",
       "      <td>12680.0</td>\n",
       "      <td>France</td>\n",
       "    </tr>\n",
       "    <tr>\n",
       "      <th>541907</th>\n",
       "      <td>581587</td>\n",
       "      <td>23255</td>\n",
       "      <td>CHILDRENS CUTLERY CIRCUS PARADE</td>\n",
       "      <td>4</td>\n",
       "      <td>2011-12-09 12:50:00</td>\n",
       "      <td>4.15</td>\n",
       "      <td>12680.0</td>\n",
       "      <td>France</td>\n",
       "    </tr>\n",
       "    <tr>\n",
       "      <th>541908</th>\n",
       "      <td>581587</td>\n",
       "      <td>22138</td>\n",
       "      <td>BAKING SET 9 PIECE RETROSPOT</td>\n",
       "      <td>3</td>\n",
       "      <td>2011-12-09 12:50:00</td>\n",
       "      <td>4.95</td>\n",
       "      <td>12680.0</td>\n",
       "      <td>France</td>\n",
       "    </tr>\n",
       "  </tbody>\n",
       "</table>\n",
       "<p>436798 rows × 8 columns</p>\n",
       "</div>"
      ],
      "text/plain": [
       "       InvoiceNo StockCode                          Description  Quantity  \\\n",
       "0         536365    85123A   WHITE HANGING HEART T-LIGHT HOLDER         6   \n",
       "1         536365     71053                  WHITE METAL LANTERN         6   \n",
       "2         536365    84406B       CREAM CUPID HEARTS COAT HANGER         8   \n",
       "3         536365    84029G  KNITTED UNION FLAG HOT WATER BOTTLE         6   \n",
       "4         536365    84029E       RED WOOLLY HOTTIE WHITE HEART.         6   \n",
       "...          ...       ...                                  ...       ...   \n",
       "541904    581587     22613          PACK OF 20 SPACEBOY NAPKINS        12   \n",
       "541905    581587     22899         CHILDREN'S APRON DOLLY GIRL          6   \n",
       "541906    581587     23254        CHILDRENS CUTLERY DOLLY GIRL          4   \n",
       "541907    581587     23255      CHILDRENS CUTLERY CIRCUS PARADE         4   \n",
       "541908    581587     22138        BAKING SET 9 PIECE RETROSPOT          3   \n",
       "\n",
       "                InvoiceDate  UnitPrice  CustomerID         Country  \n",
       "0       2010-12-01 08:26:00       2.55     17850.0  United Kingdom  \n",
       "1       2010-12-01 08:26:00       3.39     17850.0  United Kingdom  \n",
       "2       2010-12-01 08:26:00       2.75     17850.0  United Kingdom  \n",
       "3       2010-12-01 08:26:00       3.39     17850.0  United Kingdom  \n",
       "4       2010-12-01 08:26:00       3.39     17850.0  United Kingdom  \n",
       "...                     ...        ...         ...             ...  \n",
       "541904  2011-12-09 12:50:00       0.85     12680.0          France  \n",
       "541905  2011-12-09 12:50:00       2.10     12680.0          France  \n",
       "541906  2011-12-09 12:50:00       4.15     12680.0          France  \n",
       "541907  2011-12-09 12:50:00       4.15     12680.0          France  \n",
       "541908  2011-12-09 12:50:00       4.95     12680.0          France  \n",
       "\n",
       "[436798 rows x 8 columns]"
      ]
     },
     "execution_count": 126,
     "metadata": {},
     "output_type": "execute_result"
    }
   ],
   "source": [
    "cancelled_items_list = cancelled_orders['Description'].unique()\n",
    "items_dataset = orders_without_cancellation[orders_without_cancellation['Description'].isin(cancelled_items_list)]\n",
    "items_dataset"
   ]
  },
  {
   "cell_type": "code",
   "execution_count": 135,
   "id": "f412c549",
   "metadata": {},
   "outputs": [
    {
     "data": {
      "text/html": [
       "<div>\n",
       "<style scoped>\n",
       "    .dataframe tbody tr th:only-of-type {\n",
       "        vertical-align: middle;\n",
       "    }\n",
       "\n",
       "    .dataframe tbody tr th {\n",
       "        vertical-align: top;\n",
       "    }\n",
       "\n",
       "    .dataframe thead th {\n",
       "        text-align: right;\n",
       "    }\n",
       "</style>\n",
       "<table border=\"1\" class=\"dataframe\">\n",
       "  <thead>\n",
       "    <tr style=\"text-align: right;\">\n",
       "      <th></th>\n",
       "      <th>Description</th>\n",
       "      <th>Quantity</th>\n",
       "    </tr>\n",
       "  </thead>\n",
       "  <tbody>\n",
       "    <tr>\n",
       "      <th>0</th>\n",
       "      <td>Manual</td>\n",
       "      <td>244</td>\n",
       "    </tr>\n",
       "    <tr>\n",
       "      <th>1</th>\n",
       "      <td>REGENCY CAKESTAND 3 TIER</td>\n",
       "      <td>181</td>\n",
       "    </tr>\n",
       "    <tr>\n",
       "      <th>2</th>\n",
       "      <td>POSTAGE</td>\n",
       "      <td>126</td>\n",
       "    </tr>\n",
       "    <tr>\n",
       "      <th>3</th>\n",
       "      <td>JAM MAKING SET WITH JARS</td>\n",
       "      <td>87</td>\n",
       "    </tr>\n",
       "    <tr>\n",
       "      <th>4</th>\n",
       "      <td>Discount</td>\n",
       "      <td>77</td>\n",
       "    </tr>\n",
       "    <tr>\n",
       "      <th>...</th>\n",
       "      <td>...</td>\n",
       "      <td>...</td>\n",
       "    </tr>\n",
       "    <tr>\n",
       "      <th>1967</th>\n",
       "      <td>MAGIC SHEEP WOOL GROWING FROM PAPER</td>\n",
       "      <td>1</td>\n",
       "    </tr>\n",
       "    <tr>\n",
       "      <th>1968</th>\n",
       "      <td>MAGIC TREE -PAPER FLOWERS</td>\n",
       "      <td>1</td>\n",
       "    </tr>\n",
       "    <tr>\n",
       "      <th>1969</th>\n",
       "      <td>MAGNETS PACK OF 4 HOME SWEET HOME</td>\n",
       "      <td>1</td>\n",
       "    </tr>\n",
       "    <tr>\n",
       "      <th>1970</th>\n",
       "      <td>MAKE YOUR OWN FLOWERPOWER CARD KIT</td>\n",
       "      <td>1</td>\n",
       "    </tr>\n",
       "    <tr>\n",
       "      <th>1971</th>\n",
       "      <td>ZINC WILLIE WINKIE  CANDLE STICK</td>\n",
       "      <td>1</td>\n",
       "    </tr>\n",
       "  </tbody>\n",
       "</table>\n",
       "<p>1972 rows × 2 columns</p>\n",
       "</div>"
      ],
      "text/plain": [
       "                              Description  Quantity\n",
       "0                                  Manual       244\n",
       "1                REGENCY CAKESTAND 3 TIER       181\n",
       "2                                 POSTAGE       126\n",
       "3                JAM MAKING SET WITH JARS        87\n",
       "4                                Discount        77\n",
       "...                                   ...       ...\n",
       "1967  MAGIC SHEEP WOOL GROWING FROM PAPER         1\n",
       "1968            MAGIC TREE -PAPER FLOWERS         1\n",
       "1969    MAGNETS PACK OF 4 HOME SWEET HOME         1\n",
       "1970   MAKE YOUR OWN FLOWERPOWER CARD KIT         1\n",
       "1971     ZINC WILLIE WINKIE  CANDLE STICK         1\n",
       "\n",
       "[1972 rows x 2 columns]"
      ]
     },
     "execution_count": 135,
     "metadata": {},
     "output_type": "execute_result"
    }
   ],
   "source": [
    "qwe = cancelled_orders.groupby('Description').agg({'Quantity':'count'}).sort_values('Quantity', ascending=False).reset_index()\n",
    "qwe"
   ]
  },
  {
   "cell_type": "code",
   "execution_count": 134,
   "id": "a1ea00b1",
   "metadata": {},
   "outputs": [
    {
     "data": {
      "text/html": [
       "<div>\n",
       "<style scoped>\n",
       "    .dataframe tbody tr th:only-of-type {\n",
       "        vertical-align: middle;\n",
       "    }\n",
       "\n",
       "    .dataframe tbody tr th {\n",
       "        vertical-align: top;\n",
       "    }\n",
       "\n",
       "    .dataframe thead th {\n",
       "        text-align: right;\n",
       "    }\n",
       "</style>\n",
       "<table border=\"1\" class=\"dataframe\">\n",
       "  <thead>\n",
       "    <tr style=\"text-align: right;\">\n",
       "      <th></th>\n",
       "      <th>Description</th>\n",
       "      <th>Quantity</th>\n",
       "    </tr>\n",
       "  </thead>\n",
       "  <tbody>\n",
       "    <tr>\n",
       "      <th>0</th>\n",
       "      <td>WHITE HANGING HEART T-LIGHT HOLDER</td>\n",
       "      <td>2327</td>\n",
       "    </tr>\n",
       "    <tr>\n",
       "      <th>1</th>\n",
       "      <td>JUMBO BAG RED RETROSPOT</td>\n",
       "      <td>2115</td>\n",
       "    </tr>\n",
       "    <tr>\n",
       "      <th>2</th>\n",
       "      <td>REGENCY CAKESTAND 3 TIER</td>\n",
       "      <td>2019</td>\n",
       "    </tr>\n",
       "    <tr>\n",
       "      <th>3</th>\n",
       "      <td>PARTY BUNTING</td>\n",
       "      <td>1707</td>\n",
       "    </tr>\n",
       "    <tr>\n",
       "      <th>4</th>\n",
       "      <td>LUNCH BAG RED RETROSPOT</td>\n",
       "      <td>1594</td>\n",
       "    </tr>\n",
       "    <tr>\n",
       "      <th>...</th>\n",
       "      <td>...</td>\n",
       "      <td>...</td>\n",
       "    </tr>\n",
       "    <tr>\n",
       "      <th>1951</th>\n",
       "      <td>BLUE MONTE CARLO HANDBAG</td>\n",
       "      <td>1</td>\n",
       "    </tr>\n",
       "    <tr>\n",
       "      <th>1952</th>\n",
       "      <td>BLUE PADDED SOFT MOBILE</td>\n",
       "      <td>1</td>\n",
       "    </tr>\n",
       "    <tr>\n",
       "      <th>1953</th>\n",
       "      <td>PINK SMALL GLASS CAKE STAND</td>\n",
       "      <td>1</td>\n",
       "    </tr>\n",
       "    <tr>\n",
       "      <th>1954</th>\n",
       "      <td>PINK CHERRY LIGHTS</td>\n",
       "      <td>1</td>\n",
       "    </tr>\n",
       "    <tr>\n",
       "      <th>1955</th>\n",
       "      <td>BLACK CHERRY LIGHTS</td>\n",
       "      <td>1</td>\n",
       "    </tr>\n",
       "  </tbody>\n",
       "</table>\n",
       "<p>1956 rows × 2 columns</p>\n",
       "</div>"
      ],
      "text/plain": [
       "                             Description  Quantity\n",
       "0     WHITE HANGING HEART T-LIGHT HOLDER      2327\n",
       "1                JUMBO BAG RED RETROSPOT      2115\n",
       "2               REGENCY CAKESTAND 3 TIER      2019\n",
       "3                          PARTY BUNTING      1707\n",
       "4                LUNCH BAG RED RETROSPOT      1594\n",
       "...                                  ...       ...\n",
       "1951            BLUE MONTE CARLO HANDBAG         1\n",
       "1952             BLUE PADDED SOFT MOBILE         1\n",
       "1953         PINK SMALL GLASS CAKE STAND         1\n",
       "1954                  PINK CHERRY LIGHTS         1\n",
       "1955                 BLACK CHERRY LIGHTS         1\n",
       "\n",
       "[1956 rows x 2 columns]"
      ]
     },
     "execution_count": 134,
     "metadata": {},
     "output_type": "execute_result"
    }
   ],
   "source": [
    "rty = items_dataset.groupby('Description').agg({'Quantity':'count'}).sort_values('Quantity', ascending=False).reset_index()\n",
    "rty"
   ]
  },
  {
   "cell_type": "code",
   "execution_count": null,
   "id": "8d6add6a",
   "metadata": {},
   "outputs": [],
   "source": []
  },
  {
   "cell_type": "code",
   "execution_count": null,
   "id": "e3cab3e0",
   "metadata": {},
   "outputs": [],
   "source": []
  },
  {
   "cell_type": "code",
   "execution_count": 137,
   "id": "76658b47",
   "metadata": {},
   "outputs": [],
   "source": [
    "from scipy.stats import pearsonr, spearmanr"
   ]
  },
  {
   "cell_type": "code",
   "execution_count": 138,
   "id": "8d460162",
   "metadata": {},
   "outputs": [
    {
     "name": "stdout",
     "output_type": "stream",
     "text": [
      "Коэффициент корреляции Пирсона: 0.45812788031588325\n",
      "Коэффициент корреляции Спирмена: 0.5304908257688495\n"
     ]
    }
   ],
   "source": [
    "# Объединяем два датасета по столбцу 'Description'\n",
    "merged_df = pd.merge(qwe, rty, on='Description', suffixes=('_qwe', '_rty'))\n",
    "\n",
    "# Вычисляем коэффициент корреляции Пирсона и Спирмена\n",
    "pearson_corr, _ = pearsonr(merged_df['Quantity_qwe'], merged_df['Quantity_rty'])\n",
    "spearman_corr, _ = spearmanr(merged_df['Quantity_qwe'], merged_df['Quantity_rty'])\n",
    "\n",
    "# Выводим результаты\n",
    "print(f\"Коэффициент корреляции Пирсона: {pearson_corr}\")\n",
    "print(f\"Коэффициент корреляции Спирмена: {spearman_corr}\")"
   ]
  },
  {
   "cell_type": "code",
   "execution_count": null,
   "id": "2e4b8d74",
   "metadata": {},
   "outputs": [],
   "source": []
  },
  {
   "cell_type": "code",
   "execution_count": null,
   "id": "0cfa650f",
   "metadata": {},
   "outputs": [],
   "source": []
  },
  {
   "cell_type": "code",
   "execution_count": null,
   "id": "e055fd0d",
   "metadata": {},
   "outputs": [],
   "source": []
  },
  {
   "cell_type": "code",
   "execution_count": null,
   "id": "13a04c5d",
   "metadata": {},
   "outputs": [],
   "source": []
  },
  {
   "cell_type": "code",
   "execution_count": null,
   "id": "015298bc",
   "metadata": {},
   "outputs": [],
   "source": []
  },
  {
   "cell_type": "code",
   "execution_count": null,
   "id": "6a6fec3a",
   "metadata": {},
   "outputs": [],
   "source": []
  },
  {
   "cell_type": "code",
   "execution_count": null,
   "id": "792fbc00",
   "metadata": {},
   "outputs": [],
   "source": []
  },
  {
   "cell_type": "code",
   "execution_count": null,
   "id": "278883e0",
   "metadata": {},
   "outputs": [],
   "source": []
  },
  {
   "cell_type": "code",
   "execution_count": null,
   "id": "09f6b203",
   "metadata": {},
   "outputs": [],
   "source": []
  },
  {
   "cell_type": "code",
   "execution_count": null,
   "id": "bb661d0c",
   "metadata": {},
   "outputs": [],
   "source": []
  },
  {
   "cell_type": "code",
   "execution_count": null,
   "id": "847094a9",
   "metadata": {},
   "outputs": [],
   "source": []
  },
  {
   "cell_type": "code",
   "execution_count": null,
   "id": "a99c23fc",
   "metadata": {},
   "outputs": [],
   "source": []
  },
  {
   "cell_type": "code",
   "execution_count": null,
   "id": "0c182ac2",
   "metadata": {},
   "outputs": [],
   "source": []
  },
  {
   "cell_type": "code",
   "execution_count": null,
   "id": "aadcb78e",
   "metadata": {},
   "outputs": [],
   "source": []
  },
  {
   "cell_type": "code",
   "execution_count": 93,
   "id": "10768279",
   "metadata": {},
   "outputs": [
    {
     "data": {
      "text/plain": [
       "InvoiceNo      0.0\n",
       "StockCode      0.0\n",
       "Description    0.0\n",
       "Quantity       0.0\n",
       "InvoiceDate    0.0\n",
       "UnitPrice      0.0\n",
       "CustomerID     0.0\n",
       "Country        0.0\n",
       "dtype: float64"
      ]
     },
     "execution_count": 93,
     "metadata": {},
     "output_type": "execute_result"
    }
   ],
   "source": [
    "df_online_retail.query('CustomerID == 14397.0 and InvoiceNo == \"581490\"')"
   ]
  },
  {
   "cell_type": "code",
   "execution_count": 65,
   "id": "da0b9e20",
   "metadata": {},
   "outputs": [
    {
     "data": {
      "text/plain": [
       "0         False\n",
       "1         False\n",
       "2         False\n",
       "3         False\n",
       "4         False\n",
       "          ...  \n",
       "541904    False\n",
       "541905    False\n",
       "541906    False\n",
       "541907    False\n",
       "541908    False\n",
       "Name: InvoiceNo, Length: 541909, dtype: bool"
      ]
     },
     "execution_count": 65,
     "metadata": {},
     "output_type": "execute_result"
    }
   ],
   "source": [
    "df_online_retail.InvoiceNo.str.contains('C', na=False)"
   ]
  },
  {
   "cell_type": "code",
   "execution_count": null,
   "id": "21d5e0a4",
   "metadata": {},
   "outputs": [],
   "source": []
  },
  {
   "cell_type": "code",
   "execution_count": null,
   "id": "65cf0991",
   "metadata": {},
   "outputs": [],
   "source": []
  },
  {
   "cell_type": "code",
   "execution_count": 6,
   "id": "029d1635",
   "metadata": {},
   "outputs": [],
   "source": [
    "df_online_retail['InvoiceDate'] = pd.to_datetime(df_online_retail['InvoiceDate'])\n"
   ]
  },
  {
   "cell_type": "code",
   "execution_count": 7,
   "id": "5f70cfde",
   "metadata": {},
   "outputs": [
    {
     "data": {
      "text/plain": [
       "InvoiceNo              object\n",
       "StockCode              object\n",
       "Description            object\n",
       "Quantity                int64\n",
       "InvoiceDate    datetime64[ns]\n",
       "UnitPrice             float64\n",
       "CustomerID            float64\n",
       "Country                object\n",
       "dtype: object"
      ]
     },
     "execution_count": 7,
     "metadata": {},
     "output_type": "execute_result"
    }
   ],
   "source": [
    "df_online_retail.dtypes"
   ]
  },
  {
   "cell_type": "code",
   "execution_count": 8,
   "id": "69cc9c23",
   "metadata": {},
   "outputs": [
    {
     "data": {
      "text/html": [
       "<div>\n",
       "<style scoped>\n",
       "    .dataframe tbody tr th:only-of-type {\n",
       "        vertical-align: middle;\n",
       "    }\n",
       "\n",
       "    .dataframe tbody tr th {\n",
       "        vertical-align: top;\n",
       "    }\n",
       "\n",
       "    .dataframe thead th {\n",
       "        text-align: right;\n",
       "    }\n",
       "</style>\n",
       "<table border=\"1\" class=\"dataframe\">\n",
       "  <thead>\n",
       "    <tr style=\"text-align: right;\">\n",
       "      <th></th>\n",
       "      <th>InvoiceNo</th>\n",
       "      <th>StockCode</th>\n",
       "      <th>Description</th>\n",
       "      <th>Quantity</th>\n",
       "      <th>InvoiceDate</th>\n",
       "      <th>UnitPrice</th>\n",
       "      <th>CustomerID</th>\n",
       "      <th>Country</th>\n",
       "    </tr>\n",
       "  </thead>\n",
       "  <tbody>\n",
       "    <tr>\n",
       "      <th>0</th>\n",
       "      <td>536365</td>\n",
       "      <td>85123A</td>\n",
       "      <td>WHITE HANGING HEART T-LIGHT HOLDER</td>\n",
       "      <td>6</td>\n",
       "      <td>2010-12-01 08:26:00</td>\n",
       "      <td>2.55</td>\n",
       "      <td>17850.0</td>\n",
       "      <td>United Kingdom</td>\n",
       "    </tr>\n",
       "    <tr>\n",
       "      <th>1</th>\n",
       "      <td>536365</td>\n",
       "      <td>71053</td>\n",
       "      <td>WHITE METAL LANTERN</td>\n",
       "      <td>6</td>\n",
       "      <td>2010-12-01 08:26:00</td>\n",
       "      <td>3.39</td>\n",
       "      <td>17850.0</td>\n",
       "      <td>United Kingdom</td>\n",
       "    </tr>\n",
       "    <tr>\n",
       "      <th>2</th>\n",
       "      <td>536365</td>\n",
       "      <td>84406B</td>\n",
       "      <td>CREAM CUPID HEARTS COAT HANGER</td>\n",
       "      <td>8</td>\n",
       "      <td>2010-12-01 08:26:00</td>\n",
       "      <td>2.75</td>\n",
       "      <td>17850.0</td>\n",
       "      <td>United Kingdom</td>\n",
       "    </tr>\n",
       "    <tr>\n",
       "      <th>3</th>\n",
       "      <td>536365</td>\n",
       "      <td>84029G</td>\n",
       "      <td>KNITTED UNION FLAG HOT WATER BOTTLE</td>\n",
       "      <td>6</td>\n",
       "      <td>2010-12-01 08:26:00</td>\n",
       "      <td>3.39</td>\n",
       "      <td>17850.0</td>\n",
       "      <td>United Kingdom</td>\n",
       "    </tr>\n",
       "    <tr>\n",
       "      <th>4</th>\n",
       "      <td>536365</td>\n",
       "      <td>84029E</td>\n",
       "      <td>RED WOOLLY HOTTIE WHITE HEART.</td>\n",
       "      <td>6</td>\n",
       "      <td>2010-12-01 08:26:00</td>\n",
       "      <td>3.39</td>\n",
       "      <td>17850.0</td>\n",
       "      <td>United Kingdom</td>\n",
       "    </tr>\n",
       "    <tr>\n",
       "      <th>...</th>\n",
       "      <td>...</td>\n",
       "      <td>...</td>\n",
       "      <td>...</td>\n",
       "      <td>...</td>\n",
       "      <td>...</td>\n",
       "      <td>...</td>\n",
       "      <td>...</td>\n",
       "      <td>...</td>\n",
       "    </tr>\n",
       "    <tr>\n",
       "      <th>541904</th>\n",
       "      <td>581587</td>\n",
       "      <td>22613</td>\n",
       "      <td>PACK OF 20 SPACEBOY NAPKINS</td>\n",
       "      <td>12</td>\n",
       "      <td>2011-12-09 12:50:00</td>\n",
       "      <td>0.85</td>\n",
       "      <td>12680.0</td>\n",
       "      <td>France</td>\n",
       "    </tr>\n",
       "    <tr>\n",
       "      <th>541905</th>\n",
       "      <td>581587</td>\n",
       "      <td>22899</td>\n",
       "      <td>CHILDREN'S APRON DOLLY GIRL</td>\n",
       "      <td>6</td>\n",
       "      <td>2011-12-09 12:50:00</td>\n",
       "      <td>2.10</td>\n",
       "      <td>12680.0</td>\n",
       "      <td>France</td>\n",
       "    </tr>\n",
       "    <tr>\n",
       "      <th>541906</th>\n",
       "      <td>581587</td>\n",
       "      <td>23254</td>\n",
       "      <td>CHILDRENS CUTLERY DOLLY GIRL</td>\n",
       "      <td>4</td>\n",
       "      <td>2011-12-09 12:50:00</td>\n",
       "      <td>4.15</td>\n",
       "      <td>12680.0</td>\n",
       "      <td>France</td>\n",
       "    </tr>\n",
       "    <tr>\n",
       "      <th>541907</th>\n",
       "      <td>581587</td>\n",
       "      <td>23255</td>\n",
       "      <td>CHILDRENS CUTLERY CIRCUS PARADE</td>\n",
       "      <td>4</td>\n",
       "      <td>2011-12-09 12:50:00</td>\n",
       "      <td>4.15</td>\n",
       "      <td>12680.0</td>\n",
       "      <td>France</td>\n",
       "    </tr>\n",
       "    <tr>\n",
       "      <th>541908</th>\n",
       "      <td>581587</td>\n",
       "      <td>22138</td>\n",
       "      <td>BAKING SET 9 PIECE RETROSPOT</td>\n",
       "      <td>3</td>\n",
       "      <td>2011-12-09 12:50:00</td>\n",
       "      <td>4.95</td>\n",
       "      <td>12680.0</td>\n",
       "      <td>France</td>\n",
       "    </tr>\n",
       "  </tbody>\n",
       "</table>\n",
       "<p>541909 rows × 8 columns</p>\n",
       "</div>"
      ],
      "text/plain": [
       "       InvoiceNo StockCode                          Description  Quantity  \\\n",
       "0         536365    85123A   WHITE HANGING HEART T-LIGHT HOLDER         6   \n",
       "1         536365     71053                  WHITE METAL LANTERN         6   \n",
       "2         536365    84406B       CREAM CUPID HEARTS COAT HANGER         8   \n",
       "3         536365    84029G  KNITTED UNION FLAG HOT WATER BOTTLE         6   \n",
       "4         536365    84029E       RED WOOLLY HOTTIE WHITE HEART.         6   \n",
       "...          ...       ...                                  ...       ...   \n",
       "541904    581587     22613          PACK OF 20 SPACEBOY NAPKINS        12   \n",
       "541905    581587     22899         CHILDREN'S APRON DOLLY GIRL          6   \n",
       "541906    581587     23254        CHILDRENS CUTLERY DOLLY GIRL          4   \n",
       "541907    581587     23255      CHILDRENS CUTLERY CIRCUS PARADE         4   \n",
       "541908    581587     22138        BAKING SET 9 PIECE RETROSPOT          3   \n",
       "\n",
       "               InvoiceDate  UnitPrice  CustomerID         Country  \n",
       "0      2010-12-01 08:26:00       2.55     17850.0  United Kingdom  \n",
       "1      2010-12-01 08:26:00       3.39     17850.0  United Kingdom  \n",
       "2      2010-12-01 08:26:00       2.75     17850.0  United Kingdom  \n",
       "3      2010-12-01 08:26:00       3.39     17850.0  United Kingdom  \n",
       "4      2010-12-01 08:26:00       3.39     17850.0  United Kingdom  \n",
       "...                    ...        ...         ...             ...  \n",
       "541904 2011-12-09 12:50:00       0.85     12680.0          France  \n",
       "541905 2011-12-09 12:50:00       2.10     12680.0          France  \n",
       "541906 2011-12-09 12:50:00       4.15     12680.0          France  \n",
       "541907 2011-12-09 12:50:00       4.15     12680.0          France  \n",
       "541908 2011-12-09 12:50:00       4.95     12680.0          France  \n",
       "\n",
       "[541909 rows x 8 columns]"
      ]
     },
     "execution_count": 8,
     "metadata": {},
     "output_type": "execute_result"
    }
   ],
   "source": [
    "df_online_retail"
   ]
  },
  {
   "cell_type": "code",
   "execution_count": null,
   "id": "df4b2d2d",
   "metadata": {},
   "outputs": [],
   "source": []
  },
  {
   "cell_type": "code",
   "execution_count": null,
   "id": "2d66870a",
   "metadata": {},
   "outputs": [],
   "source": []
  },
  {
   "cell_type": "code",
   "execution_count": null,
   "id": "baf11765",
   "metadata": {},
   "outputs": [],
   "source": []
  },
  {
   "cell_type": "code",
   "execution_count": null,
   "id": "54f1aaff",
   "metadata": {},
   "outputs": [],
   "source": []
  },
  {
   "cell_type": "code",
   "execution_count": null,
   "id": "99e07225",
   "metadata": {},
   "outputs": [],
   "source": []
  },
  {
   "cell_type": "code",
   "execution_count": null,
   "id": "c09d5d0d",
   "metadata": {},
   "outputs": [],
   "source": []
  },
  {
   "cell_type": "code",
   "execution_count": null,
   "id": "98781f6d",
   "metadata": {},
   "outputs": [],
   "source": []
  },
  {
   "cell_type": "code",
   "execution_count": null,
   "id": "ebc92897",
   "metadata": {},
   "outputs": [],
   "source": []
  },
  {
   "cell_type": "code",
   "execution_count": null,
   "id": "25f72f17",
   "metadata": {},
   "outputs": [],
   "source": []
  },
  {
   "cell_type": "code",
   "execution_count": 309,
   "id": "bc9b13cf",
   "metadata": {
    "scrolled": false
   },
   "outputs": [
    {
     "data": {
      "text/html": [
       "<div>\n",
       "<style scoped>\n",
       "    .dataframe tbody tr th:only-of-type {\n",
       "        vertical-align: middle;\n",
       "    }\n",
       "\n",
       "    .dataframe tbody tr th {\n",
       "        vertical-align: top;\n",
       "    }\n",
       "\n",
       "    .dataframe thead th {\n",
       "        text-align: right;\n",
       "    }\n",
       "</style>\n",
       "<table border=\"1\" class=\"dataframe\">\n",
       "  <thead>\n",
       "    <tr style=\"text-align: right;\">\n",
       "      <th></th>\n",
       "      <th>Country</th>\n",
       "      <th>TotalPrice</th>\n",
       "      <th>Percentage</th>\n",
       "    </tr>\n",
       "  </thead>\n",
       "  <tbody>\n",
       "    <tr>\n",
       "      <th>0</th>\n",
       "      <td>United Kingdom</td>\n",
       "      <td>6839452.484</td>\n",
       "      <td>81.403990</td>\n",
       "    </tr>\n",
       "    <tr>\n",
       "      <th>1</th>\n",
       "      <td>Netherlands</td>\n",
       "      <td>272548.520</td>\n",
       "      <td>3.243905</td>\n",
       "    </tr>\n",
       "    <tr>\n",
       "      <th>2</th>\n",
       "      <td>EIRE</td>\n",
       "      <td>269401.530</td>\n",
       "      <td>3.206450</td>\n",
       "    </tr>\n",
       "    <tr>\n",
       "      <th>3</th>\n",
       "      <td>Germany</td>\n",
       "      <td>230715.150</td>\n",
       "      <td>2.746000</td>\n",
       "    </tr>\n",
       "    <tr>\n",
       "      <th>4</th>\n",
       "      <td>France</td>\n",
       "      <td>200307.725</td>\n",
       "      <td>2.384087</td>\n",
       "    </tr>\n",
       "    <tr>\n",
       "      <th>5</th>\n",
       "      <td>Other countries</td>\n",
       "      <td>589438.510</td>\n",
       "      <td>7.015568</td>\n",
       "    </tr>\n",
       "  </tbody>\n",
       "</table>\n",
       "</div>"
      ],
      "text/plain": [
       "           Country   TotalPrice  Percentage\n",
       "0   United Kingdom  6839452.484   81.403990\n",
       "1      Netherlands   272548.520    3.243905\n",
       "2             EIRE   269401.530    3.206450\n",
       "3          Germany   230715.150    2.746000\n",
       "4           France   200307.725    2.384087\n",
       "5  Other countries   589438.510    7.015568"
      ]
     },
     "execution_count": 309,
     "metadata": {},
     "output_type": "execute_result"
    }
   ],
   "source": [
    "# Calculate the total order amount for each row (UnitPrice * Quantity)\n",
    "df_online_retail['TotalPrice'] = df_online_retail['UnitPrice'] * df_online_retail['Quantity']\n",
    "\n",
    "# Group the data by 'Country' and calculate the total order amount for each country\n",
    "country_order_amount = df_online_retail.groupby('Country')['TotalPrice'] \\\n",
    "                                       .sum() \\\n",
    "                                       .reset_index()\n",
    "\n",
    "# Calculate the percentage for each country\n",
    "total_amount_sum = country_order_amount['TotalPrice'].sum()\n",
    "country_order_amount['Percentage'] = (country_order_amount['TotalPrice'] / total_amount_sum) * 100\n",
    "\n",
    "# Sort the DataFrame by 'Percentage' column in descending order\n",
    "country_order_amount = country_order_amount.sort_values(by='Percentage', ascending=False) \\\n",
    "                                           .reset_index(drop=True)\n",
    "\n",
    "# Threshold for \"Other countries\" category\n",
    "threshold_percentage = 2.0\n",
    "\n",
    "# Group small countries into \"Other countries\" category\n",
    "other_countries_total_amount = country_order_amount[country_order_amount['Percentage'] < threshold_percentage]['TotalPrice'] \\\n",
    "                               .sum()\n",
    "other_countries_percentage = (other_countries_total_amount / total_amount_sum) * 100\n",
    "\n",
    "# Create a DataFrame for the \"Other countries\" category\n",
    "other_countries_df = pd.DataFrame({'Country': ['Other countries'], \n",
    "                                   'TotalPrice': [other_countries_total_amount], \n",
    "                                   'Percentage': [other_countries_percentage]}\n",
    "                                 )\n",
    "\n",
    "# Combine the \"Other countries\" DataFrame with the main DataFrame, excluding small countries\n",
    "filtered_country_order_amount = country_order_amount[country_order_amount['Percentage'] >= threshold_percentage]\n",
    "country_order_amount = pd.concat([filtered_country_order_amount, other_countries_df]).reset_index(drop=True)\n",
    "\n",
    "# Display \n",
    "country_order_amount"
   ]
  },
  {
   "cell_type": "code",
   "execution_count": 310,
   "id": "61ff0196",
   "metadata": {},
   "outputs": [
    {
     "data": {
      "application/vnd.plotly.v1+json": {
       "config": {
        "plotlyServerURL": "https://plot.ly"
       },
       "data": [
        {
         "alignmentgroup": "True",
         "hovertemplate": "Country=%{y}<br>Total Order Price (£)=%{text}<extra></extra>",
         "legendgroup": "United Kingdom",
         "marker": {
          "color": "rgb(127,39,4)",
          "pattern": {
           "shape": ""
          }
         },
         "name": "United Kingdom",
         "offsetgroup": "United Kingdom",
         "orientation": "h",
         "showlegend": true,
         "text": [
          6839452.484
         ],
         "textposition": "outside",
         "texttemplate": "%{text:.0f}£",
         "type": "bar",
         "width": 0.9,
         "x": [
          6839452.484
         ],
         "xaxis": "x",
         "y": [
          "United Kingdom"
         ],
         "yaxis": "y"
        },
        {
         "alignmentgroup": "True",
         "hovertemplate": "Country=%{y}<br>Total Order Price (£)=%{text}<extra></extra>",
         "legendgroup": "Netherlands",
         "marker": {
          "color": "rgb(166,54,3)",
          "pattern": {
           "shape": ""
          }
         },
         "name": "Netherlands",
         "offsetgroup": "Netherlands",
         "orientation": "h",
         "showlegend": true,
         "text": [
          272548.52
         ],
         "textposition": "outside",
         "texttemplate": "%{text:.0f}£",
         "type": "bar",
         "width": 0.9,
         "x": [
          272548.52
         ],
         "xaxis": "x",
         "y": [
          "Netherlands"
         ],
         "yaxis": "y"
        },
        {
         "alignmentgroup": "True",
         "hovertemplate": "Country=%{y}<br>Total Order Price (£)=%{text}<extra></extra>",
         "legendgroup": "EIRE",
         "marker": {
          "color": "rgb(217,72,1)",
          "pattern": {
           "shape": ""
          }
         },
         "name": "EIRE",
         "offsetgroup": "EIRE",
         "orientation": "h",
         "showlegend": true,
         "text": [
          269401.53
         ],
         "textposition": "outside",
         "texttemplate": "%{text:.0f}£",
         "type": "bar",
         "width": 0.9,
         "x": [
          269401.53
         ],
         "xaxis": "x",
         "y": [
          "EIRE"
         ],
         "yaxis": "y"
        },
        {
         "alignmentgroup": "True",
         "hovertemplate": "Country=%{y}<br>Total Order Price (£)=%{text}<extra></extra>",
         "legendgroup": "Germany",
         "marker": {
          "color": "rgb(241,105,19)",
          "pattern": {
           "shape": ""
          }
         },
         "name": "Germany",
         "offsetgroup": "Germany",
         "orientation": "h",
         "showlegend": true,
         "text": [
          230715.15
         ],
         "textposition": "outside",
         "texttemplate": "%{text:.0f}£",
         "type": "bar",
         "width": 0.9,
         "x": [
          230715.15
         ],
         "xaxis": "x",
         "y": [
          "Germany"
         ],
         "yaxis": "y"
        },
        {
         "alignmentgroup": "True",
         "hovertemplate": "Country=%{y}<br>Total Order Price (£)=%{text}<extra></extra>",
         "legendgroup": "France",
         "marker": {
          "color": "rgb(253,141,60)",
          "pattern": {
           "shape": ""
          }
         },
         "name": "France",
         "offsetgroup": "France",
         "orientation": "h",
         "showlegend": true,
         "text": [
          200307.725
         ],
         "textposition": "outside",
         "texttemplate": "%{text:.0f}£",
         "type": "bar",
         "width": 0.9,
         "x": [
          200307.725
         ],
         "xaxis": "x",
         "y": [
          "France"
         ],
         "yaxis": "y"
        },
        {
         "alignmentgroup": "True",
         "hovertemplate": "Country=%{y}<br>Total Order Price (£)=%{text}<extra></extra>",
         "legendgroup": "Other countries",
         "marker": {
          "color": "rgb(253,174,107)",
          "pattern": {
           "shape": ""
          }
         },
         "name": "Other countries",
         "offsetgroup": "Other countries",
         "orientation": "h",
         "showlegend": true,
         "text": [
          589438.51
         ],
         "textposition": "outside",
         "texttemplate": "%{text:.0f}£",
         "type": "bar",
         "width": 0.9,
         "x": [
          589438.51
         ],
         "xaxis": "x",
         "y": [
          "Other countries"
         ],
         "yaxis": "y"
        }
       ],
       "layout": {
        "barmode": "relative",
        "height": 600,
        "legend": {
         "title": {
          "text": "Country"
         },
         "tracegroupgap": 0
        },
        "template": {
         "data": {
          "bar": [
           {
            "error_x": {
             "color": "#2a3f5f"
            },
            "error_y": {
             "color": "#2a3f5f"
            },
            "marker": {
             "line": {
              "color": "#E5ECF6",
              "width": 0.5
             },
             "pattern": {
              "fillmode": "overlay",
              "size": 10,
              "solidity": 0.2
             }
            },
            "type": "bar"
           }
          ],
          "barpolar": [
           {
            "marker": {
             "line": {
              "color": "#E5ECF6",
              "width": 0.5
             },
             "pattern": {
              "fillmode": "overlay",
              "size": 10,
              "solidity": 0.2
             }
            },
            "type": "barpolar"
           }
          ],
          "carpet": [
           {
            "aaxis": {
             "endlinecolor": "#2a3f5f",
             "gridcolor": "white",
             "linecolor": "white",
             "minorgridcolor": "white",
             "startlinecolor": "#2a3f5f"
            },
            "baxis": {
             "endlinecolor": "#2a3f5f",
             "gridcolor": "white",
             "linecolor": "white",
             "minorgridcolor": "white",
             "startlinecolor": "#2a3f5f"
            },
            "type": "carpet"
           }
          ],
          "choropleth": [
           {
            "colorbar": {
             "outlinewidth": 0,
             "ticks": ""
            },
            "type": "choropleth"
           }
          ],
          "contour": [
           {
            "colorbar": {
             "outlinewidth": 0,
             "ticks": ""
            },
            "colorscale": [
             [
              0,
              "#0d0887"
             ],
             [
              0.1111111111111111,
              "#46039f"
             ],
             [
              0.2222222222222222,
              "#7201a8"
             ],
             [
              0.3333333333333333,
              "#9c179e"
             ],
             [
              0.4444444444444444,
              "#bd3786"
             ],
             [
              0.5555555555555556,
              "#d8576b"
             ],
             [
              0.6666666666666666,
              "#ed7953"
             ],
             [
              0.7777777777777778,
              "#fb9f3a"
             ],
             [
              0.8888888888888888,
              "#fdca26"
             ],
             [
              1,
              "#f0f921"
             ]
            ],
            "type": "contour"
           }
          ],
          "contourcarpet": [
           {
            "colorbar": {
             "outlinewidth": 0,
             "ticks": ""
            },
            "type": "contourcarpet"
           }
          ],
          "heatmap": [
           {
            "colorbar": {
             "outlinewidth": 0,
             "ticks": ""
            },
            "colorscale": [
             [
              0,
              "#0d0887"
             ],
             [
              0.1111111111111111,
              "#46039f"
             ],
             [
              0.2222222222222222,
              "#7201a8"
             ],
             [
              0.3333333333333333,
              "#9c179e"
             ],
             [
              0.4444444444444444,
              "#bd3786"
             ],
             [
              0.5555555555555556,
              "#d8576b"
             ],
             [
              0.6666666666666666,
              "#ed7953"
             ],
             [
              0.7777777777777778,
              "#fb9f3a"
             ],
             [
              0.8888888888888888,
              "#fdca26"
             ],
             [
              1,
              "#f0f921"
             ]
            ],
            "type": "heatmap"
           }
          ],
          "heatmapgl": [
           {
            "colorbar": {
             "outlinewidth": 0,
             "ticks": ""
            },
            "colorscale": [
             [
              0,
              "#0d0887"
             ],
             [
              0.1111111111111111,
              "#46039f"
             ],
             [
              0.2222222222222222,
              "#7201a8"
             ],
             [
              0.3333333333333333,
              "#9c179e"
             ],
             [
              0.4444444444444444,
              "#bd3786"
             ],
             [
              0.5555555555555556,
              "#d8576b"
             ],
             [
              0.6666666666666666,
              "#ed7953"
             ],
             [
              0.7777777777777778,
              "#fb9f3a"
             ],
             [
              0.8888888888888888,
              "#fdca26"
             ],
             [
              1,
              "#f0f921"
             ]
            ],
            "type": "heatmapgl"
           }
          ],
          "histogram": [
           {
            "marker": {
             "pattern": {
              "fillmode": "overlay",
              "size": 10,
              "solidity": 0.2
             }
            },
            "type": "histogram"
           }
          ],
          "histogram2d": [
           {
            "colorbar": {
             "outlinewidth": 0,
             "ticks": ""
            },
            "colorscale": [
             [
              0,
              "#0d0887"
             ],
             [
              0.1111111111111111,
              "#46039f"
             ],
             [
              0.2222222222222222,
              "#7201a8"
             ],
             [
              0.3333333333333333,
              "#9c179e"
             ],
             [
              0.4444444444444444,
              "#bd3786"
             ],
             [
              0.5555555555555556,
              "#d8576b"
             ],
             [
              0.6666666666666666,
              "#ed7953"
             ],
             [
              0.7777777777777778,
              "#fb9f3a"
             ],
             [
              0.8888888888888888,
              "#fdca26"
             ],
             [
              1,
              "#f0f921"
             ]
            ],
            "type": "histogram2d"
           }
          ],
          "histogram2dcontour": [
           {
            "colorbar": {
             "outlinewidth": 0,
             "ticks": ""
            },
            "colorscale": [
             [
              0,
              "#0d0887"
             ],
             [
              0.1111111111111111,
              "#46039f"
             ],
             [
              0.2222222222222222,
              "#7201a8"
             ],
             [
              0.3333333333333333,
              "#9c179e"
             ],
             [
              0.4444444444444444,
              "#bd3786"
             ],
             [
              0.5555555555555556,
              "#d8576b"
             ],
             [
              0.6666666666666666,
              "#ed7953"
             ],
             [
              0.7777777777777778,
              "#fb9f3a"
             ],
             [
              0.8888888888888888,
              "#fdca26"
             ],
             [
              1,
              "#f0f921"
             ]
            ],
            "type": "histogram2dcontour"
           }
          ],
          "mesh3d": [
           {
            "colorbar": {
             "outlinewidth": 0,
             "ticks": ""
            },
            "type": "mesh3d"
           }
          ],
          "parcoords": [
           {
            "line": {
             "colorbar": {
              "outlinewidth": 0,
              "ticks": ""
             }
            },
            "type": "parcoords"
           }
          ],
          "pie": [
           {
            "automargin": true,
            "type": "pie"
           }
          ],
          "scatter": [
           {
            "fillpattern": {
             "fillmode": "overlay",
             "size": 10,
             "solidity": 0.2
            },
            "type": "scatter"
           }
          ],
          "scatter3d": [
           {
            "line": {
             "colorbar": {
              "outlinewidth": 0,
              "ticks": ""
             }
            },
            "marker": {
             "colorbar": {
              "outlinewidth": 0,
              "ticks": ""
             }
            },
            "type": "scatter3d"
           }
          ],
          "scattercarpet": [
           {
            "marker": {
             "colorbar": {
              "outlinewidth": 0,
              "ticks": ""
             }
            },
            "type": "scattercarpet"
           }
          ],
          "scattergeo": [
           {
            "marker": {
             "colorbar": {
              "outlinewidth": 0,
              "ticks": ""
             }
            },
            "type": "scattergeo"
           }
          ],
          "scattergl": [
           {
            "marker": {
             "colorbar": {
              "outlinewidth": 0,
              "ticks": ""
             }
            },
            "type": "scattergl"
           }
          ],
          "scattermapbox": [
           {
            "marker": {
             "colorbar": {
              "outlinewidth": 0,
              "ticks": ""
             }
            },
            "type": "scattermapbox"
           }
          ],
          "scatterpolar": [
           {
            "marker": {
             "colorbar": {
              "outlinewidth": 0,
              "ticks": ""
             }
            },
            "type": "scatterpolar"
           }
          ],
          "scatterpolargl": [
           {
            "marker": {
             "colorbar": {
              "outlinewidth": 0,
              "ticks": ""
             }
            },
            "type": "scatterpolargl"
           }
          ],
          "scatterternary": [
           {
            "marker": {
             "colorbar": {
              "outlinewidth": 0,
              "ticks": ""
             }
            },
            "type": "scatterternary"
           }
          ],
          "surface": [
           {
            "colorbar": {
             "outlinewidth": 0,
             "ticks": ""
            },
            "colorscale": [
             [
              0,
              "#0d0887"
             ],
             [
              0.1111111111111111,
              "#46039f"
             ],
             [
              0.2222222222222222,
              "#7201a8"
             ],
             [
              0.3333333333333333,
              "#9c179e"
             ],
             [
              0.4444444444444444,
              "#bd3786"
             ],
             [
              0.5555555555555556,
              "#d8576b"
             ],
             [
              0.6666666666666666,
              "#ed7953"
             ],
             [
              0.7777777777777778,
              "#fb9f3a"
             ],
             [
              0.8888888888888888,
              "#fdca26"
             ],
             [
              1,
              "#f0f921"
             ]
            ],
            "type": "surface"
           }
          ],
          "table": [
           {
            "cells": {
             "fill": {
              "color": "#EBF0F8"
             },
             "line": {
              "color": "white"
             }
            },
            "header": {
             "fill": {
              "color": "#C8D4E3"
             },
             "line": {
              "color": "white"
             }
            },
            "type": "table"
           }
          ]
         },
         "layout": {
          "annotationdefaults": {
           "arrowcolor": "#2a3f5f",
           "arrowhead": 0,
           "arrowwidth": 1
          },
          "autotypenumbers": "strict",
          "coloraxis": {
           "colorbar": {
            "outlinewidth": 0,
            "ticks": ""
           }
          },
          "colorscale": {
           "diverging": [
            [
             0,
             "#8e0152"
            ],
            [
             0.1,
             "#c51b7d"
            ],
            [
             0.2,
             "#de77ae"
            ],
            [
             0.3,
             "#f1b6da"
            ],
            [
             0.4,
             "#fde0ef"
            ],
            [
             0.5,
             "#f7f7f7"
            ],
            [
             0.6,
             "#e6f5d0"
            ],
            [
             0.7,
             "#b8e186"
            ],
            [
             0.8,
             "#7fbc41"
            ],
            [
             0.9,
             "#4d9221"
            ],
            [
             1,
             "#276419"
            ]
           ],
           "sequential": [
            [
             0,
             "#0d0887"
            ],
            [
             0.1111111111111111,
             "#46039f"
            ],
            [
             0.2222222222222222,
             "#7201a8"
            ],
            [
             0.3333333333333333,
             "#9c179e"
            ],
            [
             0.4444444444444444,
             "#bd3786"
            ],
            [
             0.5555555555555556,
             "#d8576b"
            ],
            [
             0.6666666666666666,
             "#ed7953"
            ],
            [
             0.7777777777777778,
             "#fb9f3a"
            ],
            [
             0.8888888888888888,
             "#fdca26"
            ],
            [
             1,
             "#f0f921"
            ]
           ],
           "sequentialminus": [
            [
             0,
             "#0d0887"
            ],
            [
             0.1111111111111111,
             "#46039f"
            ],
            [
             0.2222222222222222,
             "#7201a8"
            ],
            [
             0.3333333333333333,
             "#9c179e"
            ],
            [
             0.4444444444444444,
             "#bd3786"
            ],
            [
             0.5555555555555556,
             "#d8576b"
            ],
            [
             0.6666666666666666,
             "#ed7953"
            ],
            [
             0.7777777777777778,
             "#fb9f3a"
            ],
            [
             0.8888888888888888,
             "#fdca26"
            ],
            [
             1,
             "#f0f921"
            ]
           ]
          },
          "colorway": [
           "#636efa",
           "#EF553B",
           "#00cc96",
           "#ab63fa",
           "#FFA15A",
           "#19d3f3",
           "#FF6692",
           "#B6E880",
           "#FF97FF",
           "#FECB52"
          ],
          "font": {
           "color": "#2a3f5f"
          },
          "geo": {
           "bgcolor": "white",
           "lakecolor": "white",
           "landcolor": "#E5ECF6",
           "showlakes": true,
           "showland": true,
           "subunitcolor": "white"
          },
          "hoverlabel": {
           "align": "left"
          },
          "hovermode": "closest",
          "mapbox": {
           "style": "light"
          },
          "paper_bgcolor": "white",
          "plot_bgcolor": "#E5ECF6",
          "polar": {
           "angularaxis": {
            "gridcolor": "white",
            "linecolor": "white",
            "ticks": ""
           },
           "bgcolor": "#E5ECF6",
           "radialaxis": {
            "gridcolor": "white",
            "linecolor": "white",
            "ticks": ""
           }
          },
          "scene": {
           "xaxis": {
            "backgroundcolor": "#E5ECF6",
            "gridcolor": "white",
            "gridwidth": 2,
            "linecolor": "white",
            "showbackground": true,
            "ticks": "",
            "zerolinecolor": "white"
           },
           "yaxis": {
            "backgroundcolor": "#E5ECF6",
            "gridcolor": "white",
            "gridwidth": 2,
            "linecolor": "white",
            "showbackground": true,
            "ticks": "",
            "zerolinecolor": "white"
           },
           "zaxis": {
            "backgroundcolor": "#E5ECF6",
            "gridcolor": "white",
            "gridwidth": 2,
            "linecolor": "white",
            "showbackground": true,
            "ticks": "",
            "zerolinecolor": "white"
           }
          },
          "shapedefaults": {
           "line": {
            "color": "#2a3f5f"
           }
          },
          "ternary": {
           "aaxis": {
            "gridcolor": "white",
            "linecolor": "white",
            "ticks": ""
           },
           "baxis": {
            "gridcolor": "white",
            "linecolor": "white",
            "ticks": ""
           },
           "bgcolor": "#E5ECF6",
           "caxis": {
            "gridcolor": "white",
            "linecolor": "white",
            "ticks": ""
           }
          },
          "title": {
           "x": 0.05
          },
          "xaxis": {
           "automargin": true,
           "gridcolor": "white",
           "linecolor": "white",
           "ticks": "",
           "title": {
            "standoff": 15
           },
           "zerolinecolor": "white",
           "zerolinewidth": 2
          },
          "yaxis": {
           "automargin": true,
           "gridcolor": "white",
           "linecolor": "white",
           "ticks": "",
           "title": {
            "standoff": 15
           },
           "zerolinecolor": "white",
           "zerolinewidth": 2
          }
         }
        },
        "title": {
         "text": "Total Order Amount by Country"
        },
        "width": 800,
        "xaxis": {
         "anchor": "y",
         "domain": [
          0,
          1
         ],
         "range": [
          0,
          8891288.2292
         ],
         "title": {
          "text": "Total Order Price (£)"
         }
        },
        "yaxis": {
         "anchor": "x",
         "categoryarray": [
          "Other countries",
          "France",
          "Germany",
          "EIRE",
          "Netherlands",
          "United Kingdom"
         ],
         "categoryorder": "array",
         "domain": [
          0,
          1
         ],
         "title": {
          "text": "Country"
         }
        }
       }
      },
      "text/html": [
       "<div>                            <div id=\"52dc7696-2790-413c-b3eb-ed9771aba23f\" class=\"plotly-graph-div\" style=\"height:600px; width:800px;\"></div>            <script type=\"text/javascript\">                require([\"plotly\"], function(Plotly) {                    window.PLOTLYENV=window.PLOTLYENV || {};                                    if (document.getElementById(\"52dc7696-2790-413c-b3eb-ed9771aba23f\")) {                    Plotly.newPlot(                        \"52dc7696-2790-413c-b3eb-ed9771aba23f\",                        [{\"alignmentgroup\":\"True\",\"hovertemplate\":\"Country=%{y}<br>Total Order Price (\\u00a3)=%{text}<extra></extra>\",\"legendgroup\":\"United Kingdom\",\"marker\":{\"color\":\"rgb(127,39,4)\",\"pattern\":{\"shape\":\"\"}},\"name\":\"United Kingdom\",\"offsetgroup\":\"United Kingdom\",\"orientation\":\"h\",\"showlegend\":true,\"text\":[6839452.484],\"textposition\":\"outside\",\"x\":[6839452.484],\"xaxis\":\"x\",\"y\":[\"United Kingdom\"],\"yaxis\":\"y\",\"type\":\"bar\",\"texttemplate\":\"%{text:.0f}\\u00a3\",\"width\":0.9},{\"alignmentgroup\":\"True\",\"hovertemplate\":\"Country=%{y}<br>Total Order Price (\\u00a3)=%{text}<extra></extra>\",\"legendgroup\":\"Netherlands\",\"marker\":{\"color\":\"rgb(166,54,3)\",\"pattern\":{\"shape\":\"\"}},\"name\":\"Netherlands\",\"offsetgroup\":\"Netherlands\",\"orientation\":\"h\",\"showlegend\":true,\"text\":[272548.52],\"textposition\":\"outside\",\"x\":[272548.52],\"xaxis\":\"x\",\"y\":[\"Netherlands\"],\"yaxis\":\"y\",\"type\":\"bar\",\"texttemplate\":\"%{text:.0f}\\u00a3\",\"width\":0.9},{\"alignmentgroup\":\"True\",\"hovertemplate\":\"Country=%{y}<br>Total Order Price (\\u00a3)=%{text}<extra></extra>\",\"legendgroup\":\"EIRE\",\"marker\":{\"color\":\"rgb(217,72,1)\",\"pattern\":{\"shape\":\"\"}},\"name\":\"EIRE\",\"offsetgroup\":\"EIRE\",\"orientation\":\"h\",\"showlegend\":true,\"text\":[269401.53],\"textposition\":\"outside\",\"x\":[269401.53],\"xaxis\":\"x\",\"y\":[\"EIRE\"],\"yaxis\":\"y\",\"type\":\"bar\",\"texttemplate\":\"%{text:.0f}\\u00a3\",\"width\":0.9},{\"alignmentgroup\":\"True\",\"hovertemplate\":\"Country=%{y}<br>Total Order Price (\\u00a3)=%{text}<extra></extra>\",\"legendgroup\":\"Germany\",\"marker\":{\"color\":\"rgb(241,105,19)\",\"pattern\":{\"shape\":\"\"}},\"name\":\"Germany\",\"offsetgroup\":\"Germany\",\"orientation\":\"h\",\"showlegend\":true,\"text\":[230715.15],\"textposition\":\"outside\",\"x\":[230715.15],\"xaxis\":\"x\",\"y\":[\"Germany\"],\"yaxis\":\"y\",\"type\":\"bar\",\"texttemplate\":\"%{text:.0f}\\u00a3\",\"width\":0.9},{\"alignmentgroup\":\"True\",\"hovertemplate\":\"Country=%{y}<br>Total Order Price (\\u00a3)=%{text}<extra></extra>\",\"legendgroup\":\"France\",\"marker\":{\"color\":\"rgb(253,141,60)\",\"pattern\":{\"shape\":\"\"}},\"name\":\"France\",\"offsetgroup\":\"France\",\"orientation\":\"h\",\"showlegend\":true,\"text\":[200307.725],\"textposition\":\"outside\",\"x\":[200307.725],\"xaxis\":\"x\",\"y\":[\"France\"],\"yaxis\":\"y\",\"type\":\"bar\",\"texttemplate\":\"%{text:.0f}\\u00a3\",\"width\":0.9},{\"alignmentgroup\":\"True\",\"hovertemplate\":\"Country=%{y}<br>Total Order Price (\\u00a3)=%{text}<extra></extra>\",\"legendgroup\":\"Other countries\",\"marker\":{\"color\":\"rgb(253,174,107)\",\"pattern\":{\"shape\":\"\"}},\"name\":\"Other countries\",\"offsetgroup\":\"Other countries\",\"orientation\":\"h\",\"showlegend\":true,\"text\":[589438.51],\"textposition\":\"outside\",\"x\":[589438.51],\"xaxis\":\"x\",\"y\":[\"Other countries\"],\"yaxis\":\"y\",\"type\":\"bar\",\"texttemplate\":\"%{text:.0f}\\u00a3\",\"width\":0.9}],                        {\"template\":{\"data\":{\"histogram2dcontour\":[{\"type\":\"histogram2dcontour\",\"colorbar\":{\"outlinewidth\":0,\"ticks\":\"\"},\"colorscale\":[[0.0,\"#0d0887\"],[0.1111111111111111,\"#46039f\"],[0.2222222222222222,\"#7201a8\"],[0.3333333333333333,\"#9c179e\"],[0.4444444444444444,\"#bd3786\"],[0.5555555555555556,\"#d8576b\"],[0.6666666666666666,\"#ed7953\"],[0.7777777777777778,\"#fb9f3a\"],[0.8888888888888888,\"#fdca26\"],[1.0,\"#f0f921\"]]}],\"choropleth\":[{\"type\":\"choropleth\",\"colorbar\":{\"outlinewidth\":0,\"ticks\":\"\"}}],\"histogram2d\":[{\"type\":\"histogram2d\",\"colorbar\":{\"outlinewidth\":0,\"ticks\":\"\"},\"colorscale\":[[0.0,\"#0d0887\"],[0.1111111111111111,\"#46039f\"],[0.2222222222222222,\"#7201a8\"],[0.3333333333333333,\"#9c179e\"],[0.4444444444444444,\"#bd3786\"],[0.5555555555555556,\"#d8576b\"],[0.6666666666666666,\"#ed7953\"],[0.7777777777777778,\"#fb9f3a\"],[0.8888888888888888,\"#fdca26\"],[1.0,\"#f0f921\"]]}],\"heatmap\":[{\"type\":\"heatmap\",\"colorbar\":{\"outlinewidth\":0,\"ticks\":\"\"},\"colorscale\":[[0.0,\"#0d0887\"],[0.1111111111111111,\"#46039f\"],[0.2222222222222222,\"#7201a8\"],[0.3333333333333333,\"#9c179e\"],[0.4444444444444444,\"#bd3786\"],[0.5555555555555556,\"#d8576b\"],[0.6666666666666666,\"#ed7953\"],[0.7777777777777778,\"#fb9f3a\"],[0.8888888888888888,\"#fdca26\"],[1.0,\"#f0f921\"]]}],\"heatmapgl\":[{\"type\":\"heatmapgl\",\"colorbar\":{\"outlinewidth\":0,\"ticks\":\"\"},\"colorscale\":[[0.0,\"#0d0887\"],[0.1111111111111111,\"#46039f\"],[0.2222222222222222,\"#7201a8\"],[0.3333333333333333,\"#9c179e\"],[0.4444444444444444,\"#bd3786\"],[0.5555555555555556,\"#d8576b\"],[0.6666666666666666,\"#ed7953\"],[0.7777777777777778,\"#fb9f3a\"],[0.8888888888888888,\"#fdca26\"],[1.0,\"#f0f921\"]]}],\"contourcarpet\":[{\"type\":\"contourcarpet\",\"colorbar\":{\"outlinewidth\":0,\"ticks\":\"\"}}],\"contour\":[{\"type\":\"contour\",\"colorbar\":{\"outlinewidth\":0,\"ticks\":\"\"},\"colorscale\":[[0.0,\"#0d0887\"],[0.1111111111111111,\"#46039f\"],[0.2222222222222222,\"#7201a8\"],[0.3333333333333333,\"#9c179e\"],[0.4444444444444444,\"#bd3786\"],[0.5555555555555556,\"#d8576b\"],[0.6666666666666666,\"#ed7953\"],[0.7777777777777778,\"#fb9f3a\"],[0.8888888888888888,\"#fdca26\"],[1.0,\"#f0f921\"]]}],\"surface\":[{\"type\":\"surface\",\"colorbar\":{\"outlinewidth\":0,\"ticks\":\"\"},\"colorscale\":[[0.0,\"#0d0887\"],[0.1111111111111111,\"#46039f\"],[0.2222222222222222,\"#7201a8\"],[0.3333333333333333,\"#9c179e\"],[0.4444444444444444,\"#bd3786\"],[0.5555555555555556,\"#d8576b\"],[0.6666666666666666,\"#ed7953\"],[0.7777777777777778,\"#fb9f3a\"],[0.8888888888888888,\"#fdca26\"],[1.0,\"#f0f921\"]]}],\"mesh3d\":[{\"type\":\"mesh3d\",\"colorbar\":{\"outlinewidth\":0,\"ticks\":\"\"}}],\"scatter\":[{\"fillpattern\":{\"fillmode\":\"overlay\",\"size\":10,\"solidity\":0.2},\"type\":\"scatter\"}],\"parcoords\":[{\"type\":\"parcoords\",\"line\":{\"colorbar\":{\"outlinewidth\":0,\"ticks\":\"\"}}}],\"scatterpolargl\":[{\"type\":\"scatterpolargl\",\"marker\":{\"colorbar\":{\"outlinewidth\":0,\"ticks\":\"\"}}}],\"bar\":[{\"error_x\":{\"color\":\"#2a3f5f\"},\"error_y\":{\"color\":\"#2a3f5f\"},\"marker\":{\"line\":{\"color\":\"#E5ECF6\",\"width\":0.5},\"pattern\":{\"fillmode\":\"overlay\",\"size\":10,\"solidity\":0.2}},\"type\":\"bar\"}],\"scattergeo\":[{\"type\":\"scattergeo\",\"marker\":{\"colorbar\":{\"outlinewidth\":0,\"ticks\":\"\"}}}],\"scatterpolar\":[{\"type\":\"scatterpolar\",\"marker\":{\"colorbar\":{\"outlinewidth\":0,\"ticks\":\"\"}}}],\"histogram\":[{\"marker\":{\"pattern\":{\"fillmode\":\"overlay\",\"size\":10,\"solidity\":0.2}},\"type\":\"histogram\"}],\"scattergl\":[{\"type\":\"scattergl\",\"marker\":{\"colorbar\":{\"outlinewidth\":0,\"ticks\":\"\"}}}],\"scatter3d\":[{\"type\":\"scatter3d\",\"line\":{\"colorbar\":{\"outlinewidth\":0,\"ticks\":\"\"}},\"marker\":{\"colorbar\":{\"outlinewidth\":0,\"ticks\":\"\"}}}],\"scattermapbox\":[{\"type\":\"scattermapbox\",\"marker\":{\"colorbar\":{\"outlinewidth\":0,\"ticks\":\"\"}}}],\"scatterternary\":[{\"type\":\"scatterternary\",\"marker\":{\"colorbar\":{\"outlinewidth\":0,\"ticks\":\"\"}}}],\"scattercarpet\":[{\"type\":\"scattercarpet\",\"marker\":{\"colorbar\":{\"outlinewidth\":0,\"ticks\":\"\"}}}],\"carpet\":[{\"aaxis\":{\"endlinecolor\":\"#2a3f5f\",\"gridcolor\":\"white\",\"linecolor\":\"white\",\"minorgridcolor\":\"white\",\"startlinecolor\":\"#2a3f5f\"},\"baxis\":{\"endlinecolor\":\"#2a3f5f\",\"gridcolor\":\"white\",\"linecolor\":\"white\",\"minorgridcolor\":\"white\",\"startlinecolor\":\"#2a3f5f\"},\"type\":\"carpet\"}],\"table\":[{\"cells\":{\"fill\":{\"color\":\"#EBF0F8\"},\"line\":{\"color\":\"white\"}},\"header\":{\"fill\":{\"color\":\"#C8D4E3\"},\"line\":{\"color\":\"white\"}},\"type\":\"table\"}],\"barpolar\":[{\"marker\":{\"line\":{\"color\":\"#E5ECF6\",\"width\":0.5},\"pattern\":{\"fillmode\":\"overlay\",\"size\":10,\"solidity\":0.2}},\"type\":\"barpolar\"}],\"pie\":[{\"automargin\":true,\"type\":\"pie\"}]},\"layout\":{\"autotypenumbers\":\"strict\",\"colorway\":[\"#636efa\",\"#EF553B\",\"#00cc96\",\"#ab63fa\",\"#FFA15A\",\"#19d3f3\",\"#FF6692\",\"#B6E880\",\"#FF97FF\",\"#FECB52\"],\"font\":{\"color\":\"#2a3f5f\"},\"hovermode\":\"closest\",\"hoverlabel\":{\"align\":\"left\"},\"paper_bgcolor\":\"white\",\"plot_bgcolor\":\"#E5ECF6\",\"polar\":{\"bgcolor\":\"#E5ECF6\",\"angularaxis\":{\"gridcolor\":\"white\",\"linecolor\":\"white\",\"ticks\":\"\"},\"radialaxis\":{\"gridcolor\":\"white\",\"linecolor\":\"white\",\"ticks\":\"\"}},\"ternary\":{\"bgcolor\":\"#E5ECF6\",\"aaxis\":{\"gridcolor\":\"white\",\"linecolor\":\"white\",\"ticks\":\"\"},\"baxis\":{\"gridcolor\":\"white\",\"linecolor\":\"white\",\"ticks\":\"\"},\"caxis\":{\"gridcolor\":\"white\",\"linecolor\":\"white\",\"ticks\":\"\"}},\"coloraxis\":{\"colorbar\":{\"outlinewidth\":0,\"ticks\":\"\"}},\"colorscale\":{\"sequential\":[[0.0,\"#0d0887\"],[0.1111111111111111,\"#46039f\"],[0.2222222222222222,\"#7201a8\"],[0.3333333333333333,\"#9c179e\"],[0.4444444444444444,\"#bd3786\"],[0.5555555555555556,\"#d8576b\"],[0.6666666666666666,\"#ed7953\"],[0.7777777777777778,\"#fb9f3a\"],[0.8888888888888888,\"#fdca26\"],[1.0,\"#f0f921\"]],\"sequentialminus\":[[0.0,\"#0d0887\"],[0.1111111111111111,\"#46039f\"],[0.2222222222222222,\"#7201a8\"],[0.3333333333333333,\"#9c179e\"],[0.4444444444444444,\"#bd3786\"],[0.5555555555555556,\"#d8576b\"],[0.6666666666666666,\"#ed7953\"],[0.7777777777777778,\"#fb9f3a\"],[0.8888888888888888,\"#fdca26\"],[1.0,\"#f0f921\"]],\"diverging\":[[0,\"#8e0152\"],[0.1,\"#c51b7d\"],[0.2,\"#de77ae\"],[0.3,\"#f1b6da\"],[0.4,\"#fde0ef\"],[0.5,\"#f7f7f7\"],[0.6,\"#e6f5d0\"],[0.7,\"#b8e186\"],[0.8,\"#7fbc41\"],[0.9,\"#4d9221\"],[1,\"#276419\"]]},\"xaxis\":{\"gridcolor\":\"white\",\"linecolor\":\"white\",\"ticks\":\"\",\"title\":{\"standoff\":15},\"zerolinecolor\":\"white\",\"automargin\":true,\"zerolinewidth\":2},\"yaxis\":{\"gridcolor\":\"white\",\"linecolor\":\"white\",\"ticks\":\"\",\"title\":{\"standoff\":15},\"zerolinecolor\":\"white\",\"automargin\":true,\"zerolinewidth\":2},\"scene\":{\"xaxis\":{\"backgroundcolor\":\"#E5ECF6\",\"gridcolor\":\"white\",\"linecolor\":\"white\",\"showbackground\":true,\"ticks\":\"\",\"zerolinecolor\":\"white\",\"gridwidth\":2},\"yaxis\":{\"backgroundcolor\":\"#E5ECF6\",\"gridcolor\":\"white\",\"linecolor\":\"white\",\"showbackground\":true,\"ticks\":\"\",\"zerolinecolor\":\"white\",\"gridwidth\":2},\"zaxis\":{\"backgroundcolor\":\"#E5ECF6\",\"gridcolor\":\"white\",\"linecolor\":\"white\",\"showbackground\":true,\"ticks\":\"\",\"zerolinecolor\":\"white\",\"gridwidth\":2}},\"shapedefaults\":{\"line\":{\"color\":\"#2a3f5f\"}},\"annotationdefaults\":{\"arrowcolor\":\"#2a3f5f\",\"arrowhead\":0,\"arrowwidth\":1},\"geo\":{\"bgcolor\":\"white\",\"landcolor\":\"#E5ECF6\",\"subunitcolor\":\"white\",\"showland\":true,\"showlakes\":true,\"lakecolor\":\"white\"},\"title\":{\"x\":0.05},\"mapbox\":{\"style\":\"light\"}}},\"xaxis\":{\"anchor\":\"y\",\"domain\":[0.0,1.0],\"title\":{\"text\":\"Total Order Price (\\u00a3)\"},\"range\":[0,8891288.2292]},\"yaxis\":{\"anchor\":\"x\",\"domain\":[0.0,1.0],\"title\":{\"text\":\"Country\"},\"categoryorder\":\"array\",\"categoryarray\":[\"Other countries\",\"France\",\"Germany\",\"EIRE\",\"Netherlands\",\"United Kingdom\"]},\"legend\":{\"title\":{\"text\":\"Country\"},\"tracegroupgap\":0},\"title\":{\"text\":\"Total Order Amount by Country\"},\"barmode\":\"relative\",\"width\":800,\"height\":600},                        {\"responsive\": true}                    ).then(function(){\n",
       "                            \n",
       "var gd = document.getElementById('52dc7696-2790-413c-b3eb-ed9771aba23f');\n",
       "var x = new MutationObserver(function (mutations, observer) {{\n",
       "        var display = window.getComputedStyle(gd).display;\n",
       "        if (!display || display === 'none') {{\n",
       "            console.log([gd, 'removed!']);\n",
       "            Plotly.purge(gd);\n",
       "            observer.disconnect();\n",
       "        }}\n",
       "}});\n",
       "\n",
       "// Listen for the removal of the full notebook cells\n",
       "var notebookContainer = gd.closest('#notebook-container');\n",
       "if (notebookContainer) {{\n",
       "    x.observe(notebookContainer, {childList: true});\n",
       "}}\n",
       "\n",
       "// Listen for the clearing of the current output cell\n",
       "var outputEl = gd.closest('.output');\n",
       "if (outputEl) {{\n",
       "    x.observe(outputEl, {childList: true});\n",
       "}}\n",
       "\n",
       "                        })                };                });            </script>        </div>"
      ]
     },
     "metadata": {},
     "output_type": "display_data"
    }
   ],
   "source": [
    "# Create a bar chart\n",
    "fig_bar = px.bar(country_order_amount, x='TotalPrice', y='Country',\n",
    "             text='TotalPrice', orientation='h',\n",
    "             title='Total Order Amount by Country',\n",
    "             labels={'TotalPrice': 'Total Order Price (£)', 'Country': 'Country'},\n",
    "             color='Country',\n",
    "             color_discrete_sequence=px.colors.sequential.Oranges_r  # Use a custom color palette\n",
    "            )\n",
    "\n",
    "# Update the layout to display percentage labels inside the bars\n",
    "fig_bar.update_traces(width=0.9, texttemplate='%{text:.0f}£', textposition='outside')\n",
    "\n",
    "# Update the layout to change the size of the chart\n",
    "fig_bar.update_layout(width=800, height=600)  \n",
    "\n",
    "# Adjust the scale of the X-axis \n",
    "fig_bar.update_xaxes(range=[0, country_order_amount['TotalPrice'].max()*1.3])\n",
    "\n",
    "# Show the plot\n",
    "fig_bar.show()"
   ]
  },
  {
   "cell_type": "markdown",
   "id": "228088ed",
   "metadata": {},
   "source": [
    "**ADD PIE PLOT**"
   ]
  },
  {
   "cell_type": "code",
   "execution_count": 311,
   "id": "9ea7d634",
   "metadata": {},
   "outputs": [
    {
     "data": {
      "application/vnd.plotly.v1+json": {
       "config": {
        "plotlyServerURL": "https://plot.ly"
       },
       "data": [
        {
         "domain": {
          "x": [
           0,
           1
          ],
          "y": [
           0,
           1
          ]
         },
         "hovertemplate": "Country=%{label}<br>Percentage=%{value}<extra></extra>",
         "labels": [
          "United Kingdom",
          "Netherlands",
          "EIRE",
          "Germany",
          "France",
          "Other countries"
         ],
         "legendgroup": "",
         "name": "",
         "showlegend": true,
         "type": "pie",
         "values": [
          81.40399023284871,
          3.2439054313133777,
          3.2064495759182035,
          2.7459996046622472,
          2.3840867565948494,
          7.015568398662611
         ]
        }
       ],
       "layout": {
        "height": 600,
        "legend": {
         "tracegroupgap": 0
        },
        "piecolorway": [
         "rgb(127,39,4)",
         "rgb(166,54,3)",
         "rgb(217,72,1)",
         "rgb(241,105,19)",
         "rgb(253,141,60)",
         "rgb(253,174,107)",
         "rgb(253,208,162)",
         "rgb(254,230,206)",
         "rgb(255,245,235)"
        ],
        "template": {
         "data": {
          "bar": [
           {
            "error_x": {
             "color": "#2a3f5f"
            },
            "error_y": {
             "color": "#2a3f5f"
            },
            "marker": {
             "line": {
              "color": "#E5ECF6",
              "width": 0.5
             },
             "pattern": {
              "fillmode": "overlay",
              "size": 10,
              "solidity": 0.2
             }
            },
            "type": "bar"
           }
          ],
          "barpolar": [
           {
            "marker": {
             "line": {
              "color": "#E5ECF6",
              "width": 0.5
             },
             "pattern": {
              "fillmode": "overlay",
              "size": 10,
              "solidity": 0.2
             }
            },
            "type": "barpolar"
           }
          ],
          "carpet": [
           {
            "aaxis": {
             "endlinecolor": "#2a3f5f",
             "gridcolor": "white",
             "linecolor": "white",
             "minorgridcolor": "white",
             "startlinecolor": "#2a3f5f"
            },
            "baxis": {
             "endlinecolor": "#2a3f5f",
             "gridcolor": "white",
             "linecolor": "white",
             "minorgridcolor": "white",
             "startlinecolor": "#2a3f5f"
            },
            "type": "carpet"
           }
          ],
          "choropleth": [
           {
            "colorbar": {
             "outlinewidth": 0,
             "ticks": ""
            },
            "type": "choropleth"
           }
          ],
          "contour": [
           {
            "colorbar": {
             "outlinewidth": 0,
             "ticks": ""
            },
            "colorscale": [
             [
              0,
              "#0d0887"
             ],
             [
              0.1111111111111111,
              "#46039f"
             ],
             [
              0.2222222222222222,
              "#7201a8"
             ],
             [
              0.3333333333333333,
              "#9c179e"
             ],
             [
              0.4444444444444444,
              "#bd3786"
             ],
             [
              0.5555555555555556,
              "#d8576b"
             ],
             [
              0.6666666666666666,
              "#ed7953"
             ],
             [
              0.7777777777777778,
              "#fb9f3a"
             ],
             [
              0.8888888888888888,
              "#fdca26"
             ],
             [
              1,
              "#f0f921"
             ]
            ],
            "type": "contour"
           }
          ],
          "contourcarpet": [
           {
            "colorbar": {
             "outlinewidth": 0,
             "ticks": ""
            },
            "type": "contourcarpet"
           }
          ],
          "heatmap": [
           {
            "colorbar": {
             "outlinewidth": 0,
             "ticks": ""
            },
            "colorscale": [
             [
              0,
              "#0d0887"
             ],
             [
              0.1111111111111111,
              "#46039f"
             ],
             [
              0.2222222222222222,
              "#7201a8"
             ],
             [
              0.3333333333333333,
              "#9c179e"
             ],
             [
              0.4444444444444444,
              "#bd3786"
             ],
             [
              0.5555555555555556,
              "#d8576b"
             ],
             [
              0.6666666666666666,
              "#ed7953"
             ],
             [
              0.7777777777777778,
              "#fb9f3a"
             ],
             [
              0.8888888888888888,
              "#fdca26"
             ],
             [
              1,
              "#f0f921"
             ]
            ],
            "type": "heatmap"
           }
          ],
          "heatmapgl": [
           {
            "colorbar": {
             "outlinewidth": 0,
             "ticks": ""
            },
            "colorscale": [
             [
              0,
              "#0d0887"
             ],
             [
              0.1111111111111111,
              "#46039f"
             ],
             [
              0.2222222222222222,
              "#7201a8"
             ],
             [
              0.3333333333333333,
              "#9c179e"
             ],
             [
              0.4444444444444444,
              "#bd3786"
             ],
             [
              0.5555555555555556,
              "#d8576b"
             ],
             [
              0.6666666666666666,
              "#ed7953"
             ],
             [
              0.7777777777777778,
              "#fb9f3a"
             ],
             [
              0.8888888888888888,
              "#fdca26"
             ],
             [
              1,
              "#f0f921"
             ]
            ],
            "type": "heatmapgl"
           }
          ],
          "histogram": [
           {
            "marker": {
             "pattern": {
              "fillmode": "overlay",
              "size": 10,
              "solidity": 0.2
             }
            },
            "type": "histogram"
           }
          ],
          "histogram2d": [
           {
            "colorbar": {
             "outlinewidth": 0,
             "ticks": ""
            },
            "colorscale": [
             [
              0,
              "#0d0887"
             ],
             [
              0.1111111111111111,
              "#46039f"
             ],
             [
              0.2222222222222222,
              "#7201a8"
             ],
             [
              0.3333333333333333,
              "#9c179e"
             ],
             [
              0.4444444444444444,
              "#bd3786"
             ],
             [
              0.5555555555555556,
              "#d8576b"
             ],
             [
              0.6666666666666666,
              "#ed7953"
             ],
             [
              0.7777777777777778,
              "#fb9f3a"
             ],
             [
              0.8888888888888888,
              "#fdca26"
             ],
             [
              1,
              "#f0f921"
             ]
            ],
            "type": "histogram2d"
           }
          ],
          "histogram2dcontour": [
           {
            "colorbar": {
             "outlinewidth": 0,
             "ticks": ""
            },
            "colorscale": [
             [
              0,
              "#0d0887"
             ],
             [
              0.1111111111111111,
              "#46039f"
             ],
             [
              0.2222222222222222,
              "#7201a8"
             ],
             [
              0.3333333333333333,
              "#9c179e"
             ],
             [
              0.4444444444444444,
              "#bd3786"
             ],
             [
              0.5555555555555556,
              "#d8576b"
             ],
             [
              0.6666666666666666,
              "#ed7953"
             ],
             [
              0.7777777777777778,
              "#fb9f3a"
             ],
             [
              0.8888888888888888,
              "#fdca26"
             ],
             [
              1,
              "#f0f921"
             ]
            ],
            "type": "histogram2dcontour"
           }
          ],
          "mesh3d": [
           {
            "colorbar": {
             "outlinewidth": 0,
             "ticks": ""
            },
            "type": "mesh3d"
           }
          ],
          "parcoords": [
           {
            "line": {
             "colorbar": {
              "outlinewidth": 0,
              "ticks": ""
             }
            },
            "type": "parcoords"
           }
          ],
          "pie": [
           {
            "automargin": true,
            "type": "pie"
           }
          ],
          "scatter": [
           {
            "fillpattern": {
             "fillmode": "overlay",
             "size": 10,
             "solidity": 0.2
            },
            "type": "scatter"
           }
          ],
          "scatter3d": [
           {
            "line": {
             "colorbar": {
              "outlinewidth": 0,
              "ticks": ""
             }
            },
            "marker": {
             "colorbar": {
              "outlinewidth": 0,
              "ticks": ""
             }
            },
            "type": "scatter3d"
           }
          ],
          "scattercarpet": [
           {
            "marker": {
             "colorbar": {
              "outlinewidth": 0,
              "ticks": ""
             }
            },
            "type": "scattercarpet"
           }
          ],
          "scattergeo": [
           {
            "marker": {
             "colorbar": {
              "outlinewidth": 0,
              "ticks": ""
             }
            },
            "type": "scattergeo"
           }
          ],
          "scattergl": [
           {
            "marker": {
             "colorbar": {
              "outlinewidth": 0,
              "ticks": ""
             }
            },
            "type": "scattergl"
           }
          ],
          "scattermapbox": [
           {
            "marker": {
             "colorbar": {
              "outlinewidth": 0,
              "ticks": ""
             }
            },
            "type": "scattermapbox"
           }
          ],
          "scatterpolar": [
           {
            "marker": {
             "colorbar": {
              "outlinewidth": 0,
              "ticks": ""
             }
            },
            "type": "scatterpolar"
           }
          ],
          "scatterpolargl": [
           {
            "marker": {
             "colorbar": {
              "outlinewidth": 0,
              "ticks": ""
             }
            },
            "type": "scatterpolargl"
           }
          ],
          "scatterternary": [
           {
            "marker": {
             "colorbar": {
              "outlinewidth": 0,
              "ticks": ""
             }
            },
            "type": "scatterternary"
           }
          ],
          "surface": [
           {
            "colorbar": {
             "outlinewidth": 0,
             "ticks": ""
            },
            "colorscale": [
             [
              0,
              "#0d0887"
             ],
             [
              0.1111111111111111,
              "#46039f"
             ],
             [
              0.2222222222222222,
              "#7201a8"
             ],
             [
              0.3333333333333333,
              "#9c179e"
             ],
             [
              0.4444444444444444,
              "#bd3786"
             ],
             [
              0.5555555555555556,
              "#d8576b"
             ],
             [
              0.6666666666666666,
              "#ed7953"
             ],
             [
              0.7777777777777778,
              "#fb9f3a"
             ],
             [
              0.8888888888888888,
              "#fdca26"
             ],
             [
              1,
              "#f0f921"
             ]
            ],
            "type": "surface"
           }
          ],
          "table": [
           {
            "cells": {
             "fill": {
              "color": "#EBF0F8"
             },
             "line": {
              "color": "white"
             }
            },
            "header": {
             "fill": {
              "color": "#C8D4E3"
             },
             "line": {
              "color": "white"
             }
            },
            "type": "table"
           }
          ]
         },
         "layout": {
          "annotationdefaults": {
           "arrowcolor": "#2a3f5f",
           "arrowhead": 0,
           "arrowwidth": 1
          },
          "autotypenumbers": "strict",
          "coloraxis": {
           "colorbar": {
            "outlinewidth": 0,
            "ticks": ""
           }
          },
          "colorscale": {
           "diverging": [
            [
             0,
             "#8e0152"
            ],
            [
             0.1,
             "#c51b7d"
            ],
            [
             0.2,
             "#de77ae"
            ],
            [
             0.3,
             "#f1b6da"
            ],
            [
             0.4,
             "#fde0ef"
            ],
            [
             0.5,
             "#f7f7f7"
            ],
            [
             0.6,
             "#e6f5d0"
            ],
            [
             0.7,
             "#b8e186"
            ],
            [
             0.8,
             "#7fbc41"
            ],
            [
             0.9,
             "#4d9221"
            ],
            [
             1,
             "#276419"
            ]
           ],
           "sequential": [
            [
             0,
             "#0d0887"
            ],
            [
             0.1111111111111111,
             "#46039f"
            ],
            [
             0.2222222222222222,
             "#7201a8"
            ],
            [
             0.3333333333333333,
             "#9c179e"
            ],
            [
             0.4444444444444444,
             "#bd3786"
            ],
            [
             0.5555555555555556,
             "#d8576b"
            ],
            [
             0.6666666666666666,
             "#ed7953"
            ],
            [
             0.7777777777777778,
             "#fb9f3a"
            ],
            [
             0.8888888888888888,
             "#fdca26"
            ],
            [
             1,
             "#f0f921"
            ]
           ],
           "sequentialminus": [
            [
             0,
             "#0d0887"
            ],
            [
             0.1111111111111111,
             "#46039f"
            ],
            [
             0.2222222222222222,
             "#7201a8"
            ],
            [
             0.3333333333333333,
             "#9c179e"
            ],
            [
             0.4444444444444444,
             "#bd3786"
            ],
            [
             0.5555555555555556,
             "#d8576b"
            ],
            [
             0.6666666666666666,
             "#ed7953"
            ],
            [
             0.7777777777777778,
             "#fb9f3a"
            ],
            [
             0.8888888888888888,
             "#fdca26"
            ],
            [
             1,
             "#f0f921"
            ]
           ]
          },
          "colorway": [
           "#636efa",
           "#EF553B",
           "#00cc96",
           "#ab63fa",
           "#FFA15A",
           "#19d3f3",
           "#FF6692",
           "#B6E880",
           "#FF97FF",
           "#FECB52"
          ],
          "font": {
           "color": "#2a3f5f"
          },
          "geo": {
           "bgcolor": "white",
           "lakecolor": "white",
           "landcolor": "#E5ECF6",
           "showlakes": true,
           "showland": true,
           "subunitcolor": "white"
          },
          "hoverlabel": {
           "align": "left"
          },
          "hovermode": "closest",
          "mapbox": {
           "style": "light"
          },
          "paper_bgcolor": "white",
          "plot_bgcolor": "#E5ECF6",
          "polar": {
           "angularaxis": {
            "gridcolor": "white",
            "linecolor": "white",
            "ticks": ""
           },
           "bgcolor": "#E5ECF6",
           "radialaxis": {
            "gridcolor": "white",
            "linecolor": "white",
            "ticks": ""
           }
          },
          "scene": {
           "xaxis": {
            "backgroundcolor": "#E5ECF6",
            "gridcolor": "white",
            "gridwidth": 2,
            "linecolor": "white",
            "showbackground": true,
            "ticks": "",
            "zerolinecolor": "white"
           },
           "yaxis": {
            "backgroundcolor": "#E5ECF6",
            "gridcolor": "white",
            "gridwidth": 2,
            "linecolor": "white",
            "showbackground": true,
            "ticks": "",
            "zerolinecolor": "white"
           },
           "zaxis": {
            "backgroundcolor": "#E5ECF6",
            "gridcolor": "white",
            "gridwidth": 2,
            "linecolor": "white",
            "showbackground": true,
            "ticks": "",
            "zerolinecolor": "white"
           }
          },
          "shapedefaults": {
           "line": {
            "color": "#2a3f5f"
           }
          },
          "ternary": {
           "aaxis": {
            "gridcolor": "white",
            "linecolor": "white",
            "ticks": ""
           },
           "baxis": {
            "gridcolor": "white",
            "linecolor": "white",
            "ticks": ""
           },
           "bgcolor": "#E5ECF6",
           "caxis": {
            "gridcolor": "white",
            "linecolor": "white",
            "ticks": ""
           }
          },
          "title": {
           "x": 0.05
          },
          "xaxis": {
           "automargin": true,
           "gridcolor": "white",
           "linecolor": "white",
           "ticks": "",
           "title": {
            "standoff": 15
           },
           "zerolinecolor": "white",
           "zerolinewidth": 2
          },
          "yaxis": {
           "automargin": true,
           "gridcolor": "white",
           "linecolor": "white",
           "ticks": "",
           "title": {
            "standoff": 15
           },
           "zerolinecolor": "white",
           "zerolinewidth": 2
          }
         }
        },
        "title": {
         "text": "Percentage of Total Order Price by Country"
        },
        "width": 600
       }
      },
      "text/html": [
       "<div>                            <div id=\"c8fcec39-f4bd-4560-9c3a-0334c4ab03c5\" class=\"plotly-graph-div\" style=\"height:600px; width:600px;\"></div>            <script type=\"text/javascript\">                require([\"plotly\"], function(Plotly) {                    window.PLOTLYENV=window.PLOTLYENV || {};                                    if (document.getElementById(\"c8fcec39-f4bd-4560-9c3a-0334c4ab03c5\")) {                    Plotly.newPlot(                        \"c8fcec39-f4bd-4560-9c3a-0334c4ab03c5\",                        [{\"domain\":{\"x\":[0.0,1.0],\"y\":[0.0,1.0]},\"hovertemplate\":\"Country=%{label}<br>Percentage=%{value}<extra></extra>\",\"labels\":[\"United Kingdom\",\"Netherlands\",\"EIRE\",\"Germany\",\"France\",\"Other countries\"],\"legendgroup\":\"\",\"name\":\"\",\"showlegend\":true,\"values\":[81.40399023284871,3.2439054313133777,3.2064495759182035,2.7459996046622472,2.3840867565948494,7.015568398662611],\"type\":\"pie\"}],                        {\"template\":{\"data\":{\"histogram2dcontour\":[{\"type\":\"histogram2dcontour\",\"colorbar\":{\"outlinewidth\":0,\"ticks\":\"\"},\"colorscale\":[[0.0,\"#0d0887\"],[0.1111111111111111,\"#46039f\"],[0.2222222222222222,\"#7201a8\"],[0.3333333333333333,\"#9c179e\"],[0.4444444444444444,\"#bd3786\"],[0.5555555555555556,\"#d8576b\"],[0.6666666666666666,\"#ed7953\"],[0.7777777777777778,\"#fb9f3a\"],[0.8888888888888888,\"#fdca26\"],[1.0,\"#f0f921\"]]}],\"choropleth\":[{\"type\":\"choropleth\",\"colorbar\":{\"outlinewidth\":0,\"ticks\":\"\"}}],\"histogram2d\":[{\"type\":\"histogram2d\",\"colorbar\":{\"outlinewidth\":0,\"ticks\":\"\"},\"colorscale\":[[0.0,\"#0d0887\"],[0.1111111111111111,\"#46039f\"],[0.2222222222222222,\"#7201a8\"],[0.3333333333333333,\"#9c179e\"],[0.4444444444444444,\"#bd3786\"],[0.5555555555555556,\"#d8576b\"],[0.6666666666666666,\"#ed7953\"],[0.7777777777777778,\"#fb9f3a\"],[0.8888888888888888,\"#fdca26\"],[1.0,\"#f0f921\"]]}],\"heatmap\":[{\"type\":\"heatmap\",\"colorbar\":{\"outlinewidth\":0,\"ticks\":\"\"},\"colorscale\":[[0.0,\"#0d0887\"],[0.1111111111111111,\"#46039f\"],[0.2222222222222222,\"#7201a8\"],[0.3333333333333333,\"#9c179e\"],[0.4444444444444444,\"#bd3786\"],[0.5555555555555556,\"#d8576b\"],[0.6666666666666666,\"#ed7953\"],[0.7777777777777778,\"#fb9f3a\"],[0.8888888888888888,\"#fdca26\"],[1.0,\"#f0f921\"]]}],\"heatmapgl\":[{\"type\":\"heatmapgl\",\"colorbar\":{\"outlinewidth\":0,\"ticks\":\"\"},\"colorscale\":[[0.0,\"#0d0887\"],[0.1111111111111111,\"#46039f\"],[0.2222222222222222,\"#7201a8\"],[0.3333333333333333,\"#9c179e\"],[0.4444444444444444,\"#bd3786\"],[0.5555555555555556,\"#d8576b\"],[0.6666666666666666,\"#ed7953\"],[0.7777777777777778,\"#fb9f3a\"],[0.8888888888888888,\"#fdca26\"],[1.0,\"#f0f921\"]]}],\"contourcarpet\":[{\"type\":\"contourcarpet\",\"colorbar\":{\"outlinewidth\":0,\"ticks\":\"\"}}],\"contour\":[{\"type\":\"contour\",\"colorbar\":{\"outlinewidth\":0,\"ticks\":\"\"},\"colorscale\":[[0.0,\"#0d0887\"],[0.1111111111111111,\"#46039f\"],[0.2222222222222222,\"#7201a8\"],[0.3333333333333333,\"#9c179e\"],[0.4444444444444444,\"#bd3786\"],[0.5555555555555556,\"#d8576b\"],[0.6666666666666666,\"#ed7953\"],[0.7777777777777778,\"#fb9f3a\"],[0.8888888888888888,\"#fdca26\"],[1.0,\"#f0f921\"]]}],\"surface\":[{\"type\":\"surface\",\"colorbar\":{\"outlinewidth\":0,\"ticks\":\"\"},\"colorscale\":[[0.0,\"#0d0887\"],[0.1111111111111111,\"#46039f\"],[0.2222222222222222,\"#7201a8\"],[0.3333333333333333,\"#9c179e\"],[0.4444444444444444,\"#bd3786\"],[0.5555555555555556,\"#d8576b\"],[0.6666666666666666,\"#ed7953\"],[0.7777777777777778,\"#fb9f3a\"],[0.8888888888888888,\"#fdca26\"],[1.0,\"#f0f921\"]]}],\"mesh3d\":[{\"type\":\"mesh3d\",\"colorbar\":{\"outlinewidth\":0,\"ticks\":\"\"}}],\"scatter\":[{\"fillpattern\":{\"fillmode\":\"overlay\",\"size\":10,\"solidity\":0.2},\"type\":\"scatter\"}],\"parcoords\":[{\"type\":\"parcoords\",\"line\":{\"colorbar\":{\"outlinewidth\":0,\"ticks\":\"\"}}}],\"scatterpolargl\":[{\"type\":\"scatterpolargl\",\"marker\":{\"colorbar\":{\"outlinewidth\":0,\"ticks\":\"\"}}}],\"bar\":[{\"error_x\":{\"color\":\"#2a3f5f\"},\"error_y\":{\"color\":\"#2a3f5f\"},\"marker\":{\"line\":{\"color\":\"#E5ECF6\",\"width\":0.5},\"pattern\":{\"fillmode\":\"overlay\",\"size\":10,\"solidity\":0.2}},\"type\":\"bar\"}],\"scattergeo\":[{\"type\":\"scattergeo\",\"marker\":{\"colorbar\":{\"outlinewidth\":0,\"ticks\":\"\"}}}],\"scatterpolar\":[{\"type\":\"scatterpolar\",\"marker\":{\"colorbar\":{\"outlinewidth\":0,\"ticks\":\"\"}}}],\"histogram\":[{\"marker\":{\"pattern\":{\"fillmode\":\"overlay\",\"size\":10,\"solidity\":0.2}},\"type\":\"histogram\"}],\"scattergl\":[{\"type\":\"scattergl\",\"marker\":{\"colorbar\":{\"outlinewidth\":0,\"ticks\":\"\"}}}],\"scatter3d\":[{\"type\":\"scatter3d\",\"line\":{\"colorbar\":{\"outlinewidth\":0,\"ticks\":\"\"}},\"marker\":{\"colorbar\":{\"outlinewidth\":0,\"ticks\":\"\"}}}],\"scattermapbox\":[{\"type\":\"scattermapbox\",\"marker\":{\"colorbar\":{\"outlinewidth\":0,\"ticks\":\"\"}}}],\"scatterternary\":[{\"type\":\"scatterternary\",\"marker\":{\"colorbar\":{\"outlinewidth\":0,\"ticks\":\"\"}}}],\"scattercarpet\":[{\"type\":\"scattercarpet\",\"marker\":{\"colorbar\":{\"outlinewidth\":0,\"ticks\":\"\"}}}],\"carpet\":[{\"aaxis\":{\"endlinecolor\":\"#2a3f5f\",\"gridcolor\":\"white\",\"linecolor\":\"white\",\"minorgridcolor\":\"white\",\"startlinecolor\":\"#2a3f5f\"},\"baxis\":{\"endlinecolor\":\"#2a3f5f\",\"gridcolor\":\"white\",\"linecolor\":\"white\",\"minorgridcolor\":\"white\",\"startlinecolor\":\"#2a3f5f\"},\"type\":\"carpet\"}],\"table\":[{\"cells\":{\"fill\":{\"color\":\"#EBF0F8\"},\"line\":{\"color\":\"white\"}},\"header\":{\"fill\":{\"color\":\"#C8D4E3\"},\"line\":{\"color\":\"white\"}},\"type\":\"table\"}],\"barpolar\":[{\"marker\":{\"line\":{\"color\":\"#E5ECF6\",\"width\":0.5},\"pattern\":{\"fillmode\":\"overlay\",\"size\":10,\"solidity\":0.2}},\"type\":\"barpolar\"}],\"pie\":[{\"automargin\":true,\"type\":\"pie\"}]},\"layout\":{\"autotypenumbers\":\"strict\",\"colorway\":[\"#636efa\",\"#EF553B\",\"#00cc96\",\"#ab63fa\",\"#FFA15A\",\"#19d3f3\",\"#FF6692\",\"#B6E880\",\"#FF97FF\",\"#FECB52\"],\"font\":{\"color\":\"#2a3f5f\"},\"hovermode\":\"closest\",\"hoverlabel\":{\"align\":\"left\"},\"paper_bgcolor\":\"white\",\"plot_bgcolor\":\"#E5ECF6\",\"polar\":{\"bgcolor\":\"#E5ECF6\",\"angularaxis\":{\"gridcolor\":\"white\",\"linecolor\":\"white\",\"ticks\":\"\"},\"radialaxis\":{\"gridcolor\":\"white\",\"linecolor\":\"white\",\"ticks\":\"\"}},\"ternary\":{\"bgcolor\":\"#E5ECF6\",\"aaxis\":{\"gridcolor\":\"white\",\"linecolor\":\"white\",\"ticks\":\"\"},\"baxis\":{\"gridcolor\":\"white\",\"linecolor\":\"white\",\"ticks\":\"\"},\"caxis\":{\"gridcolor\":\"white\",\"linecolor\":\"white\",\"ticks\":\"\"}},\"coloraxis\":{\"colorbar\":{\"outlinewidth\":0,\"ticks\":\"\"}},\"colorscale\":{\"sequential\":[[0.0,\"#0d0887\"],[0.1111111111111111,\"#46039f\"],[0.2222222222222222,\"#7201a8\"],[0.3333333333333333,\"#9c179e\"],[0.4444444444444444,\"#bd3786\"],[0.5555555555555556,\"#d8576b\"],[0.6666666666666666,\"#ed7953\"],[0.7777777777777778,\"#fb9f3a\"],[0.8888888888888888,\"#fdca26\"],[1.0,\"#f0f921\"]],\"sequentialminus\":[[0.0,\"#0d0887\"],[0.1111111111111111,\"#46039f\"],[0.2222222222222222,\"#7201a8\"],[0.3333333333333333,\"#9c179e\"],[0.4444444444444444,\"#bd3786\"],[0.5555555555555556,\"#d8576b\"],[0.6666666666666666,\"#ed7953\"],[0.7777777777777778,\"#fb9f3a\"],[0.8888888888888888,\"#fdca26\"],[1.0,\"#f0f921\"]],\"diverging\":[[0,\"#8e0152\"],[0.1,\"#c51b7d\"],[0.2,\"#de77ae\"],[0.3,\"#f1b6da\"],[0.4,\"#fde0ef\"],[0.5,\"#f7f7f7\"],[0.6,\"#e6f5d0\"],[0.7,\"#b8e186\"],[0.8,\"#7fbc41\"],[0.9,\"#4d9221\"],[1,\"#276419\"]]},\"xaxis\":{\"gridcolor\":\"white\",\"linecolor\":\"white\",\"ticks\":\"\",\"title\":{\"standoff\":15},\"zerolinecolor\":\"white\",\"automargin\":true,\"zerolinewidth\":2},\"yaxis\":{\"gridcolor\":\"white\",\"linecolor\":\"white\",\"ticks\":\"\",\"title\":{\"standoff\":15},\"zerolinecolor\":\"white\",\"automargin\":true,\"zerolinewidth\":2},\"scene\":{\"xaxis\":{\"backgroundcolor\":\"#E5ECF6\",\"gridcolor\":\"white\",\"linecolor\":\"white\",\"showbackground\":true,\"ticks\":\"\",\"zerolinecolor\":\"white\",\"gridwidth\":2},\"yaxis\":{\"backgroundcolor\":\"#E5ECF6\",\"gridcolor\":\"white\",\"linecolor\":\"white\",\"showbackground\":true,\"ticks\":\"\",\"zerolinecolor\":\"white\",\"gridwidth\":2},\"zaxis\":{\"backgroundcolor\":\"#E5ECF6\",\"gridcolor\":\"white\",\"linecolor\":\"white\",\"showbackground\":true,\"ticks\":\"\",\"zerolinecolor\":\"white\",\"gridwidth\":2}},\"shapedefaults\":{\"line\":{\"color\":\"#2a3f5f\"}},\"annotationdefaults\":{\"arrowcolor\":\"#2a3f5f\",\"arrowhead\":0,\"arrowwidth\":1},\"geo\":{\"bgcolor\":\"white\",\"landcolor\":\"#E5ECF6\",\"subunitcolor\":\"white\",\"showland\":true,\"showlakes\":true,\"lakecolor\":\"white\"},\"title\":{\"x\":0.05},\"mapbox\":{\"style\":\"light\"}}},\"legend\":{\"tracegroupgap\":0},\"title\":{\"text\":\"Percentage of Total Order Price by Country\"},\"piecolorway\":[\"rgb(127,39,4)\",\"rgb(166,54,3)\",\"rgb(217,72,1)\",\"rgb(241,105,19)\",\"rgb(253,141,60)\",\"rgb(253,174,107)\",\"rgb(253,208,162)\",\"rgb(254,230,206)\",\"rgb(255,245,235)\"],\"width\":600,\"height\":600},                        {\"responsive\": true}                    ).then(function(){\n",
       "                            \n",
       "var gd = document.getElementById('c8fcec39-f4bd-4560-9c3a-0334c4ab03c5');\n",
       "var x = new MutationObserver(function (mutations, observer) {{\n",
       "        var display = window.getComputedStyle(gd).display;\n",
       "        if (!display || display === 'none') {{\n",
       "            console.log([gd, 'removed!']);\n",
       "            Plotly.purge(gd);\n",
       "            observer.disconnect();\n",
       "        }}\n",
       "}});\n",
       "\n",
       "// Listen for the removal of the full notebook cells\n",
       "var notebookContainer = gd.closest('#notebook-container');\n",
       "if (notebookContainer) {{\n",
       "    x.observe(notebookContainer, {childList: true});\n",
       "}}\n",
       "\n",
       "// Listen for the clearing of the current output cell\n",
       "var outputEl = gd.closest('.output');\n",
       "if (outputEl) {{\n",
       "    x.observe(outputEl, {childList: true});\n",
       "}}\n",
       "\n",
       "                        })                };                });            </script>        </div>"
      ]
     },
     "metadata": {},
     "output_type": "display_data"
    }
   ],
   "source": [
    "# Create a pie chart\n",
    "fig_pie = px.pie(country_order_amount, values='Percentage', names='Country',\n",
    "             title='Percentage of Total Order Price by Country',\n",
    "             color_discrete_sequence=px.colors.sequential.Oranges_r  # Use a custom color palette\n",
    "            )\n",
    "# Update the layout to change the size of the chart\n",
    "fig_pie.update_layout(width=600, height=600)  \n",
    "\n",
    "# Show the plot\n",
    "fig_pie.show()"
   ]
  },
  {
   "cell_type": "code",
   "execution_count": null,
   "id": "123d3016",
   "metadata": {},
   "outputs": [],
   "source": []
  },
  {
   "cell_type": "code",
   "execution_count": null,
   "id": "32d258f2",
   "metadata": {},
   "outputs": [],
   "source": []
  },
  {
   "cell_type": "code",
   "execution_count": null,
   "id": "d1e846a0",
   "metadata": {},
   "outputs": [],
   "source": []
  },
  {
   "cell_type": "code",
   "execution_count": null,
   "id": "cb38a454",
   "metadata": {},
   "outputs": [],
   "source": []
  },
  {
   "cell_type": "code",
   "execution_count": null,
   "id": "862439f4",
   "metadata": {},
   "outputs": [],
   "source": []
  },
  {
   "cell_type": "code",
   "execution_count": 16,
   "id": "af9822f9",
   "metadata": {
    "scrolled": false
   },
   "outputs": [],
   "source": [
    "import pandas as pd\n",
    "import numpy as np\n",
    "import altair as alt\n",
    "from altair_saver import save\n",
    "\n",
    "# Создание случайных данных для примера\n",
    "np.random.seed(42)\n",
    "countries = ['USA', 'Canada', 'Germany', 'France', 'UK']\n",
    "total_prices = np.random.randint(100, 1000, size=len(countries))\n",
    "percentages = np.random.uniform(0, 100, size=len(countries))\n",
    "\n",
    "country_order_amount = pd.DataFrame({\n",
    "    'Country': countries,\n",
    "    'TotalPrice': total_prices,\n",
    "    'Percentage': percentages\n",
    "})\n",
    "\n",
    "# Интерактивная круговая диаграмма\n",
    "pie_chart = alt.Chart(country_order_amount).mark_circle().encode(\n",
    "    alt.X('Country:N'),\n",
    "    alt.Y('Percentage:Q'),\n",
    "    size='TotalPrice:Q',\n",
    "    color='Country:N',\n",
    "    tooltip=['Country', 'Percentage', 'TotalPrice']\n",
    ").properties(\n",
    "    width=300,\n",
    "    height=300\n",
    ")\n",
    "\n",
    "# Интерактивная столбчатая диаграмма\n",
    "bar_chart = alt.Chart(country_order_amount).mark_bar().encode(\n",
    "    alt.X('Country:N'),\n",
    "    alt.Y('TotalPrice:Q'),\n",
    "    color='Country:N',\n",
    "    tooltip=['Country', 'TotalPrice']\n",
    ").properties(\n",
    "    width=300,\n",
    "    height=300\n",
    ")\n",
    "\n",
    "# Объединение двух графиков\n",
    "charts = pie_chart | bar_chart\n",
    "\n",
    "# Сохранение и отображение графиков в виде HTML\n",
    "output_file = \"interactive_charts.html\"\n",
    "save(charts, output_file)\n"
   ]
  },
  {
   "cell_type": "code",
   "execution_count": null,
   "id": "55ff76f2",
   "metadata": {},
   "outputs": [],
   "source": []
  },
  {
   "cell_type": "code",
   "execution_count": null,
   "id": "852eafa4",
   "metadata": {},
   "outputs": [],
   "source": []
  },
  {
   "cell_type": "code",
   "execution_count": null,
   "id": "4baa0ffa",
   "metadata": {},
   "outputs": [],
   "source": []
  },
  {
   "cell_type": "code",
   "execution_count": null,
   "id": "3d5fe4db",
   "metadata": {},
   "outputs": [],
   "source": []
  },
  {
   "cell_type": "code",
   "execution_count": null,
   "id": "218abe9b",
   "metadata": {},
   "outputs": [],
   "source": []
  },
  {
   "cell_type": "code",
   "execution_count": null,
   "id": "cadef47e",
   "metadata": {},
   "outputs": [],
   "source": []
  },
  {
   "cell_type": "code",
   "execution_count": null,
   "id": "5ba8ff2c",
   "metadata": {},
   "outputs": [],
   "source": []
  },
  {
   "cell_type": "code",
   "execution_count": null,
   "id": "fceee971",
   "metadata": {},
   "outputs": [],
   "source": []
  },
  {
   "cell_type": "code",
   "execution_count": null,
   "id": "72969f5f",
   "metadata": {},
   "outputs": [],
   "source": []
  },
  {
   "cell_type": "code",
   "execution_count": null,
   "id": "0ec71a4f",
   "metadata": {},
   "outputs": [],
   "source": []
  },
  {
   "cell_type": "code",
   "execution_count": null,
   "id": "01c912a8",
   "metadata": {},
   "outputs": [],
   "source": []
  },
  {
   "cell_type": "code",
   "execution_count": null,
   "id": "39d8c728",
   "metadata": {},
   "outputs": [],
   "source": []
  },
  {
   "cell_type": "code",
   "execution_count": null,
   "id": "e9047237",
   "metadata": {},
   "outputs": [],
   "source": []
  },
  {
   "cell_type": "code",
   "execution_count": null,
   "id": "8f95c99b",
   "metadata": {},
   "outputs": [],
   "source": []
  },
  {
   "cell_type": "code",
   "execution_count": 54,
   "id": "02d11e7a",
   "metadata": {},
   "outputs": [
    {
     "name": "stdout",
     "output_type": "stream",
     "text": [
      "Object ` px.update_traces()` not found.\n"
     ]
    }
   ],
   "source": [
    "?? px.update_traces()"
   ]
  },
  {
   "cell_type": "code",
   "execution_count": 12,
   "id": "82d29db3",
   "metadata": {},
   "outputs": [
    {
     "data": {
      "text/plain": [
       "17841.0    7983\n",
       "14911.0    5903\n",
       "14096.0    5128\n",
       "12748.0    4642\n",
       "14606.0    2782\n",
       "           ... \n",
       "15070.0       1\n",
       "15753.0       1\n",
       "17065.0       1\n",
       "16881.0       1\n",
       "16995.0       1\n",
       "Name: CustomerID, Length: 4372, dtype: int64"
      ]
     },
     "execution_count": 12,
     "metadata": {},
     "output_type": "execute_result"
    }
   ],
   "source": [
    "df_online_retail['CustomerID'].value_counts()"
   ]
  },
  {
   "cell_type": "code",
   "execution_count": 13,
   "id": "cdf9366b",
   "metadata": {},
   "outputs": [
    {
     "data": {
      "text/html": [
       "<div>\n",
       "<style scoped>\n",
       "    .dataframe tbody tr th:only-of-type {\n",
       "        vertical-align: middle;\n",
       "    }\n",
       "\n",
       "    .dataframe tbody tr th {\n",
       "        vertical-align: top;\n",
       "    }\n",
       "\n",
       "    .dataframe thead th {\n",
       "        text-align: right;\n",
       "    }\n",
       "</style>\n",
       "<table border=\"1\" class=\"dataframe\">\n",
       "  <thead>\n",
       "    <tr style=\"text-align: right;\">\n",
       "      <th></th>\n",
       "      <th>CustomerID</th>\n",
       "      <th>OrderCount</th>\n",
       "    </tr>\n",
       "  </thead>\n",
       "  <tbody>\n",
       "    <tr>\n",
       "      <th>1895</th>\n",
       "      <td>14911.0</td>\n",
       "      <td>248</td>\n",
       "    </tr>\n",
       "    <tr>\n",
       "      <th>330</th>\n",
       "      <td>12748.0</td>\n",
       "      <td>224</td>\n",
       "    </tr>\n",
       "    <tr>\n",
       "      <th>4042</th>\n",
       "      <td>17841.0</td>\n",
       "      <td>169</td>\n",
       "    </tr>\n",
       "    <tr>\n",
       "      <th>1674</th>\n",
       "      <td>14606.0</td>\n",
       "      <td>128</td>\n",
       "    </tr>\n",
       "    <tr>\n",
       "      <th>568</th>\n",
       "      <td>13089.0</td>\n",
       "      <td>118</td>\n",
       "    </tr>\n",
       "    <tr>\n",
       "      <th>...</th>\n",
       "      <td>...</td>\n",
       "      <td>...</td>\n",
       "    </tr>\n",
       "    <tr>\n",
       "      <th>1141</th>\n",
       "      <td>13877.0</td>\n",
       "      <td>1</td>\n",
       "    </tr>\n",
       "    <tr>\n",
       "      <th>2997</th>\n",
       "      <td>16400.0</td>\n",
       "      <td>1</td>\n",
       "    </tr>\n",
       "    <tr>\n",
       "      <th>1142</th>\n",
       "      <td>13878.0</td>\n",
       "      <td>1</td>\n",
       "    </tr>\n",
       "    <tr>\n",
       "      <th>1149</th>\n",
       "      <td>13886.0</td>\n",
       "      <td>1</td>\n",
       "    </tr>\n",
       "    <tr>\n",
       "      <th>990</th>\n",
       "      <td>13670.0</td>\n",
       "      <td>1</td>\n",
       "    </tr>\n",
       "  </tbody>\n",
       "</table>\n",
       "<p>4372 rows × 2 columns</p>\n",
       "</div>"
      ],
      "text/plain": [
       "      CustomerID  OrderCount\n",
       "1895     14911.0         248\n",
       "330      12748.0         224\n",
       "4042     17841.0         169\n",
       "1674     14606.0         128\n",
       "568      13089.0         118\n",
       "...          ...         ...\n",
       "1141     13877.0           1\n",
       "2997     16400.0           1\n",
       "1142     13878.0           1\n",
       "1149     13886.0           1\n",
       "990      13670.0           1\n",
       "\n",
       "[4372 rows x 2 columns]"
      ]
     },
     "execution_count": 13,
     "metadata": {},
     "output_type": "execute_result"
    }
   ],
   "source": [
    "orders_per_customer = df_online_retail.groupby('CustomerID')['InvoiceNo'].nunique().reset_index()\n",
    "\n",
    "# Rename the column to 'OrderCount' for clarity\n",
    "orders_per_customer.rename(columns={'InvoiceNo': 'OrderCount'}, inplace=True)\n",
    "\n",
    "# Sort the DataFrame by 'OrderCount'\n",
    "orders_per_customer.sort_values('OrderCount', inplace=True, ascending=False)\n",
    "orders_per_customer"
   ]
  },
  {
   "cell_type": "code",
   "execution_count": 14,
   "id": "87d20995",
   "metadata": {},
   "outputs": [
    {
     "ename": "ValueError",
     "evalue": "expr cannot be an empty string",
     "output_type": "error",
     "traceback": [
      "\u001b[1;31m---------------------------------------------------------------------------\u001b[0m",
      "\u001b[1;31mValueError\u001b[0m                                Traceback (most recent call last)",
      "Cell \u001b[1;32mIn[14], line 1\u001b[0m\n\u001b[1;32m----> 1\u001b[0m df_online_retail\u001b[38;5;241m.\u001b[39mquery(\u001b[38;5;124m'\u001b[39m\u001b[38;5;124m'\u001b[39m)\n",
      "File \u001b[1;32mD:\\Anaconda\\AnacondaProgram\\Lib\\site-packages\\pandas\\util\\_decorators.py:331\u001b[0m, in \u001b[0;36mdeprecate_nonkeyword_arguments.<locals>.decorate.<locals>.wrapper\u001b[1;34m(*args, **kwargs)\u001b[0m\n\u001b[0;32m    325\u001b[0m \u001b[38;5;28;01mif\u001b[39;00m \u001b[38;5;28mlen\u001b[39m(args) \u001b[38;5;241m>\u001b[39m num_allow_args:\n\u001b[0;32m    326\u001b[0m     warnings\u001b[38;5;241m.\u001b[39mwarn(\n\u001b[0;32m    327\u001b[0m         msg\u001b[38;5;241m.\u001b[39mformat(arguments\u001b[38;5;241m=\u001b[39m_format_argument_list(allow_args)),\n\u001b[0;32m    328\u001b[0m         \u001b[38;5;167;01mFutureWarning\u001b[39;00m,\n\u001b[0;32m    329\u001b[0m         stacklevel\u001b[38;5;241m=\u001b[39mfind_stack_level(),\n\u001b[0;32m    330\u001b[0m     )\n\u001b[1;32m--> 331\u001b[0m \u001b[38;5;28;01mreturn\u001b[39;00m func(\u001b[38;5;241m*\u001b[39margs, \u001b[38;5;241m*\u001b[39m\u001b[38;5;241m*\u001b[39mkwargs)\n",
      "File \u001b[1;32mD:\\Anaconda\\AnacondaProgram\\Lib\\site-packages\\pandas\\core\\frame.py:4474\u001b[0m, in \u001b[0;36mDataFrame.query\u001b[1;34m(self, expr, inplace, **kwargs)\u001b[0m\n\u001b[0;32m   4472\u001b[0m kwargs[\u001b[38;5;124m\"\u001b[39m\u001b[38;5;124mlevel\u001b[39m\u001b[38;5;124m\"\u001b[39m] \u001b[38;5;241m=\u001b[39m kwargs\u001b[38;5;241m.\u001b[39mpop(\u001b[38;5;124m\"\u001b[39m\u001b[38;5;124mlevel\u001b[39m\u001b[38;5;124m\"\u001b[39m, \u001b[38;5;241m0\u001b[39m) \u001b[38;5;241m+\u001b[39m \u001b[38;5;241m2\u001b[39m\n\u001b[0;32m   4473\u001b[0m kwargs[\u001b[38;5;124m\"\u001b[39m\u001b[38;5;124mtarget\u001b[39m\u001b[38;5;124m\"\u001b[39m] \u001b[38;5;241m=\u001b[39m \u001b[38;5;28;01mNone\u001b[39;00m\n\u001b[1;32m-> 4474\u001b[0m res \u001b[38;5;241m=\u001b[39m \u001b[38;5;28mself\u001b[39m\u001b[38;5;241m.\u001b[39meval(expr, \u001b[38;5;241m*\u001b[39m\u001b[38;5;241m*\u001b[39mkwargs)\n\u001b[0;32m   4476\u001b[0m \u001b[38;5;28;01mtry\u001b[39;00m:\n\u001b[0;32m   4477\u001b[0m     result \u001b[38;5;241m=\u001b[39m \u001b[38;5;28mself\u001b[39m\u001b[38;5;241m.\u001b[39mloc[res]\n",
      "File \u001b[1;32mD:\\Anaconda\\AnacondaProgram\\Lib\\site-packages\\pandas\\util\\_decorators.py:331\u001b[0m, in \u001b[0;36mdeprecate_nonkeyword_arguments.<locals>.decorate.<locals>.wrapper\u001b[1;34m(*args, **kwargs)\u001b[0m\n\u001b[0;32m    325\u001b[0m \u001b[38;5;28;01mif\u001b[39;00m \u001b[38;5;28mlen\u001b[39m(args) \u001b[38;5;241m>\u001b[39m num_allow_args:\n\u001b[0;32m    326\u001b[0m     warnings\u001b[38;5;241m.\u001b[39mwarn(\n\u001b[0;32m    327\u001b[0m         msg\u001b[38;5;241m.\u001b[39mformat(arguments\u001b[38;5;241m=\u001b[39m_format_argument_list(allow_args)),\n\u001b[0;32m    328\u001b[0m         \u001b[38;5;167;01mFutureWarning\u001b[39;00m,\n\u001b[0;32m    329\u001b[0m         stacklevel\u001b[38;5;241m=\u001b[39mfind_stack_level(),\n\u001b[0;32m    330\u001b[0m     )\n\u001b[1;32m--> 331\u001b[0m \u001b[38;5;28;01mreturn\u001b[39;00m func(\u001b[38;5;241m*\u001b[39margs, \u001b[38;5;241m*\u001b[39m\u001b[38;5;241m*\u001b[39mkwargs)\n",
      "File \u001b[1;32mD:\\Anaconda\\AnacondaProgram\\Lib\\site-packages\\pandas\\core\\frame.py:4612\u001b[0m, in \u001b[0;36mDataFrame.eval\u001b[1;34m(self, expr, inplace, **kwargs)\u001b[0m\n\u001b[0;32m   4609\u001b[0m     kwargs[\u001b[38;5;124m\"\u001b[39m\u001b[38;5;124mtarget\u001b[39m\u001b[38;5;124m\"\u001b[39m] \u001b[38;5;241m=\u001b[39m \u001b[38;5;28mself\u001b[39m\n\u001b[0;32m   4610\u001b[0m kwargs[\u001b[38;5;124m\"\u001b[39m\u001b[38;5;124mresolvers\u001b[39m\u001b[38;5;124m\"\u001b[39m] \u001b[38;5;241m=\u001b[39m \u001b[38;5;28mtuple\u001b[39m(kwargs\u001b[38;5;241m.\u001b[39mget(\u001b[38;5;124m\"\u001b[39m\u001b[38;5;124mresolvers\u001b[39m\u001b[38;5;124m\"\u001b[39m, ())) \u001b[38;5;241m+\u001b[39m resolvers\n\u001b[1;32m-> 4612\u001b[0m \u001b[38;5;28;01mreturn\u001b[39;00m _eval(expr, inplace\u001b[38;5;241m=\u001b[39minplace, \u001b[38;5;241m*\u001b[39m\u001b[38;5;241m*\u001b[39mkwargs)\n",
      "File \u001b[1;32mD:\\Anaconda\\AnacondaProgram\\Lib\\site-packages\\pandas\\core\\computation\\eval.py:320\u001b[0m, in \u001b[0;36meval\u001b[1;34m(expr, parser, engine, truediv, local_dict, global_dict, resolvers, level, target, inplace)\u001b[0m\n\u001b[0;32m    318\u001b[0m exprs: \u001b[38;5;28mlist\u001b[39m[\u001b[38;5;28mstr\u001b[39m \u001b[38;5;241m|\u001b[39m BinOp]\n\u001b[0;32m    319\u001b[0m \u001b[38;5;28;01mif\u001b[39;00m \u001b[38;5;28misinstance\u001b[39m(expr, \u001b[38;5;28mstr\u001b[39m):\n\u001b[1;32m--> 320\u001b[0m     _check_expression(expr)\n\u001b[0;32m    321\u001b[0m     exprs \u001b[38;5;241m=\u001b[39m [e\u001b[38;5;241m.\u001b[39mstrip() \u001b[38;5;28;01mfor\u001b[39;00m e \u001b[38;5;129;01min\u001b[39;00m expr\u001b[38;5;241m.\u001b[39msplitlines() \u001b[38;5;28;01mif\u001b[39;00m e\u001b[38;5;241m.\u001b[39mstrip() \u001b[38;5;241m!=\u001b[39m \u001b[38;5;124m\"\u001b[39m\u001b[38;5;124m\"\u001b[39m]\n\u001b[0;32m    322\u001b[0m \u001b[38;5;28;01melse\u001b[39;00m:\n\u001b[0;32m    323\u001b[0m     \u001b[38;5;66;03m# ops.BinOp; for internal compat, not intended to be passed by users\u001b[39;00m\n",
      "File \u001b[1;32mD:\\Anaconda\\AnacondaProgram\\Lib\\site-packages\\pandas\\core\\computation\\eval.py:119\u001b[0m, in \u001b[0;36m_check_expression\u001b[1;34m(expr)\u001b[0m\n\u001b[0;32m    105\u001b[0m \u001b[38;5;250m\u001b[39m\u001b[38;5;124;03m\"\"\"\u001b[39;00m\n\u001b[0;32m    106\u001b[0m \u001b[38;5;124;03mMake sure an expression is not an empty string\u001b[39;00m\n\u001b[0;32m    107\u001b[0m \n\u001b[1;32m   (...)\u001b[0m\n\u001b[0;32m    116\u001b[0m \u001b[38;5;124;03m  * If expr is an empty string\u001b[39;00m\n\u001b[0;32m    117\u001b[0m \u001b[38;5;124;03m\"\"\"\u001b[39;00m\n\u001b[0;32m    118\u001b[0m \u001b[38;5;28;01mif\u001b[39;00m \u001b[38;5;129;01mnot\u001b[39;00m expr:\n\u001b[1;32m--> 119\u001b[0m     \u001b[38;5;28;01mraise\u001b[39;00m \u001b[38;5;167;01mValueError\u001b[39;00m(\u001b[38;5;124m\"\u001b[39m\u001b[38;5;124mexpr cannot be an empty string\u001b[39m\u001b[38;5;124m\"\u001b[39m)\n",
      "\u001b[1;31mValueError\u001b[0m: expr cannot be an empty string"
     ]
    }
   ],
   "source": [
    "df_online_retail.query('')"
   ]
  },
  {
   "cell_type": "code",
   "execution_count": null,
   "id": "37cb9682",
   "metadata": {},
   "outputs": [],
   "source": [
    "df_online_retail.query('CustomerID == 14911.0')"
   ]
  },
  {
   "cell_type": "code",
   "execution_count": null,
   "id": "91802eb7",
   "metadata": {},
   "outputs": [],
   "source": [
    "??pd.DataFrame.sort_values"
   ]
  },
  {
   "cell_type": "code",
   "execution_count": null,
   "id": "7d682074",
   "metadata": {},
   "outputs": [],
   "source": [
    "df_online_retail"
   ]
  },
  {
   "cell_type": "code",
   "execution_count": null,
   "id": "5a1a3076",
   "metadata": {},
   "outputs": [],
   "source": [
    "df_online_retail.groupby('CustomerID') \\\n",
    "    .agg({'TotalAmount': 'sum'}).reset_index()"
   ]
  },
  {
   "cell_type": "code",
   "execution_count": null,
   "id": "528a017e",
   "metadata": {},
   "outputs": [],
   "source": [
    "df_online_retail.query('CustomerID == 12347.0')"
   ]
  },
  {
   "cell_type": "code",
   "execution_count": null,
   "id": "5e8da2cd",
   "metadata": {},
   "outputs": [],
   "source": [
    "df_online_retail.query('TotalAmount < 0')"
   ]
  },
  {
   "cell_type": "code",
   "execution_count": null,
   "id": "864de1e3",
   "metadata": {},
   "outputs": [],
   "source": []
  },
  {
   "cell_type": "code",
   "execution_count": null,
   "id": "a6564f8a",
   "metadata": {},
   "outputs": [],
   "source": []
  }
 ],
 "metadata": {
  "kernelspec": {
   "display_name": "Python 3 (ipykernel)",
   "language": "python",
   "name": "python3"
  },
  "language_info": {
   "codemirror_mode": {
    "name": "ipython",
    "version": 3
   },
   "file_extension": ".py",
   "mimetype": "text/x-python",
   "name": "python",
   "nbconvert_exporter": "python",
   "pygments_lexer": "ipython3",
   "version": "3.11.3"
  }
 },
 "nbformat": 4,
 "nbformat_minor": 5
}
